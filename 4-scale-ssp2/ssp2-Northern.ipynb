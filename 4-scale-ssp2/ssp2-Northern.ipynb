{
 "cells": [
  {
   "cell_type": "markdown",
   "id": "bfed930e-f9d7-4fda-8960-d874af1408a7",
   "metadata": {},
   "source": [
    "We need to provide SSP2 data for 2081 - 2100.\n",
    "\n",
    "We have SSP1 and SSP3.\n",
    "\n",
    "The code is slightly different for the Northern region as there are too few fires to obtain the daily number of fires as an average of SSP1 and SSP3."
   ]
  },
  {
   "cell_type": "markdown",
   "id": "2b30273a-d18e-4525-b269-fe63d58d1d45",
   "metadata": {},
   "source": [
    "### We asume SSP2 is somewhere in the middle of SSP1 and SSP3"
   ]
  },
  {
   "cell_type": "code",
   "execution_count": 141,
   "id": "78229b88-c7ec-461a-be23-d414270b1527",
   "metadata": {},
   "outputs": [],
   "source": [
    "import pandas as pd\n",
    "import matplotlib.pyplot as plt\n",
    "import numpy as np\n",
    "import geopandas as gpd\n",
    "import random"
   ]
  },
  {
   "cell_type": "markdown",
   "id": "94c26d62-3061-4aae-b817-e3110a3f2402",
   "metadata": {},
   "source": [
    "##### The daily count of fires is hence in between SSP1 and SSP3\n",
    "\n",
    "We obtained a coefficient = 0.5 from the GCM temperature increase (see report)"
   ]
  },
  {
   "cell_type": "code",
   "execution_count": 142,
   "id": "5be18a54-1dd4-417d-a5e5-da19f86a0f7d",
   "metadata": {},
   "outputs": [],
   "source": [
    "folder = \"ML-data-Northern-Europe-gridded\""
   ]
  },
  {
   "cell_type": "code",
   "execution_count": 143,
   "id": "cd5b208c-a65f-4255-a826-8111a8049faa",
   "metadata": {},
   "outputs": [],
   "source": [
    "path = \"O:/Climate-and-Energy-Policy/CERM/Projects/Wildfire/Data/\"+ folder + \"/results/climex/\""
   ]
  },
  {
   "cell_type": "code",
   "execution_count": 144,
   "id": "0708c4c7-d292-42c4-8069-cedde228a184",
   "metadata": {},
   "outputs": [],
   "source": [
    "start_year = '2081'\n",
    "end_year = '2100'\n",
    "ens = 'etp'\n",
    "mid_century = False\n",
    "save = False"
   ]
  },
  {
   "cell_type": "code",
   "execution_count": 145,
   "id": "45bd64d6-5563-4b61-bf08-89c3437eadaa",
   "metadata": {},
   "outputs": [],
   "source": [
    "df_eop = pd.read_csv(path + 'eop/df_count.csv')"
   ]
  },
  {
   "cell_type": "code",
   "execution_count": 146,
   "id": "85488f7e-8755-44f2-9565-49ffa5ee7d76",
   "metadata": {},
   "outputs": [],
   "source": [
    "df_etp = pd.read_csv(path + 'etp/df_count.csv')"
   ]
  },
  {
   "cell_type": "code",
   "execution_count": 147,
   "id": "9e724321-2ee9-4439-883f-9bc47a24cbfa",
   "metadata": {},
   "outputs": [],
   "source": [
    "df_epp = pd.read_csv(path + 'epp/df_count.csv')"
   ]
  },
  {
   "cell_type": "code",
   "execution_count": 148,
   "id": "9cede725-d28c-40ee-b0c6-d0f26aa24d11",
   "metadata": {},
   "outputs": [
    {
     "name": "stdout",
     "output_type": "stream",
     "text": [
      "540.0\n"
     ]
    }
   ],
   "source": [
    "n_fires_etp = np.nansum(df_etp['count'])\n",
    "print(n_fires_etp)"
   ]
  },
  {
   "cell_type": "code",
   "execution_count": 149,
   "id": "c320cd18-1f2d-490c-b3d3-7454d55d0bba",
   "metadata": {},
   "outputs": [
    {
     "name": "stdout",
     "output_type": "stream",
     "text": [
      "472.0\n"
     ]
    }
   ],
   "source": [
    "n_fires_eop = np.nansum(df_eop['count'])\n",
    "print(n_fires_eop)"
   ]
  },
  {
   "cell_type": "code",
   "execution_count": 150,
   "id": "5bceca98-e02d-4162-95c1-6c3bd5d00b2e",
   "metadata": {},
   "outputs": [
    {
     "name": "stdout",
     "output_type": "stream",
     "text": [
      "338.0\n"
     ]
    }
   ],
   "source": [
    "n_fires_epp = np.nansum(df_epp['count'])\n",
    "print(n_fires_epp)"
   ]
  },
  {
   "cell_type": "code",
   "execution_count": 152,
   "id": "a5cd0379-7042-4b86-b5c6-02039b6714c8",
   "metadata": {},
   "outputs": [],
   "source": [
    "# For Northern we don't round the numbers as in South and Central\n",
    "fires_ssp2_end = (df_eop['count'] + df_etp['count'])/2"
   ]
  },
  {
   "cell_type": "code",
   "execution_count": 153,
   "id": "686cf28c-1e3f-48fa-bd1e-3aa9efdefbc5",
   "metadata": {},
   "outputs": [],
   "source": [
    "n_fires_ssp2_end = np.nansum(fires_ssp2_end)"
   ]
  },
  {
   "cell_type": "code",
   "execution_count": 154,
   "id": "ddea0085-86e9-495d-80df-5ffa905c0a05",
   "metadata": {},
   "outputs": [
    {
     "data": {
      "text/plain": [
       "506.0"
      ]
     },
     "execution_count": 154,
     "metadata": {},
     "output_type": "execute_result"
    }
   ],
   "source": [
    "n_fires_ssp2_end "
   ]
  },
  {
   "cell_type": "code",
   "execution_count": 155,
   "id": "0aa973c5-e256-491c-b078-bc773520c804",
   "metadata": {},
   "outputs": [
    {
     "name": "stdout",
     "output_type": "stream",
     "text": [
      "444.10526315789184\n"
     ]
    }
   ],
   "source": [
    "T_ssp2 = 280.6 # Temperatures from GCM \n",
    "T_hist = 278.7 # Temperatures from GCM \n",
    "T_x = 279.9 # Temperatures from GCM \n",
    "n_fires_ssp2_mid = n_fires_epp + (n_fires_ssp2_end - n_fires_epp)/(T_ssp2 - T_hist)*(T_x - T_hist)\n",
    "print(n_fires_ssp2_mid)"
   ]
  },
  {
   "cell_type": "code",
   "execution_count": 156,
   "id": "ff2072b8-a309-4f14-beb7-73e44d52b360",
   "metadata": {},
   "outputs": [],
   "source": [
    "factor = n_fires_ssp2_mid/n_fires_ssp2_end"
   ]
  },
  {
   "cell_type": "code",
   "execution_count": 157,
   "id": "4354dafd-6c60-473f-839e-81c831e2ec58",
   "metadata": {},
   "outputs": [
    {
     "data": {
      "text/plain": [
       "0.8776783856875333"
      ]
     },
     "execution_count": 157,
     "metadata": {},
     "output_type": "execute_result"
    }
   ],
   "source": [
    "factor"
   ]
  },
  {
   "cell_type": "code",
   "execution_count": 158,
   "id": "9b364165-4c10-4919-b249-5e3fe6cfbcab",
   "metadata": {},
   "outputs": [],
   "source": [
    "fires_ssp2_mid = (df_eop['count'] + df_etp['count'])/2 * factor "
   ]
  },
  {
   "cell_type": "code",
   "execution_count": 159,
   "id": "be4a9d56-5427-4403-92c4-89aeb8d7d145",
   "metadata": {},
   "outputs": [
    {
     "name": "stdout",
     "output_type": "stream",
     "text": [
      "444.10526315789184\n"
     ]
    }
   ],
   "source": [
    " print(np.nansum(fires_ssp2_mid))"
   ]
  },
  {
   "cell_type": "code",
   "execution_count": 160,
   "id": "984bcbf5-63e7-48bf-bdef-8dfdb6bb026a",
   "metadata": {},
   "outputs": [],
   "source": [
    "dates = df_etp['Unnamed: 0'].values"
   ]
  },
  {
   "cell_type": "code",
   "execution_count": 161,
   "id": "29944040-edfe-46a1-8f35-14ab82fa986a",
   "metadata": {},
   "outputs": [],
   "source": [
    "df_count = pd.DataFrame(index = dates)"
   ]
  },
  {
   "cell_type": "code",
   "execution_count": 162,
   "id": "fdd745d9-39eb-4313-8748-30da013c3027",
   "metadata": {},
   "outputs": [],
   "source": [
    "df_count['count'] = df_etp['count'].values"
   ]
  },
  {
   "cell_type": "code",
   "execution_count": 164,
   "id": "7bf2449e-37b6-4397-a010-b26ae343e1ec",
   "metadata": {},
   "outputs": [],
   "source": [
    "# For Northern, we remove fires from the SSP3 simulation to obtain the required number\n",
    "if mid_century == True:\n",
    "    while df_count['count'].sum() > int(np.nansum(fires_ssp2_mid)):\n",
    "        integer = random.randint(0, len(df_count)) # Date to remove fires from \n",
    "        df_count.iloc[integer, 0] = 0\n",
    "else:\n",
    "    while df_count['count'].sum() > int(np.nansum(fires_ssp2_end)):\n",
    "        integer = random.randint(0, len(df_count)) # Date to remove fires from \n",
    "        df_count.iloc[integer, 0] = 0"
   ]
  },
  {
   "cell_type": "code",
   "execution_count": 165,
   "id": "ff1efbbc-8779-4f81-a81b-fda2810b5ad3",
   "metadata": {},
   "outputs": [
    {
     "data": {
      "image/png": "[encoded data removed]",
      "text/plain": [
       "<Figure size 1200x300 with 1 Axes>"
      ]
     },
     "metadata": {},
     "output_type": "display_data"
    }
   ],
   "source": [
    "fig, ax = plt.subplots(figsize = (12, 3))\n",
    "ax.plot(df_etp['count'], '.', label = 'etp '+ str(int(sum(df_etp['count']))) + ' fires', ms = 2, zorder =10, c = 'tab:orange')\n",
    "ax.plot(df_count['count'], 's', label = 'ssp2 - ' + str(np.nansum(df_count['count'])), c = 'k', ms = 3)\n",
    "ax.set_xticks(np.arange(0, len(df_etp)+1, 153))\n",
    "ax.set_xticklabels(np.arange(2081, 2102, 1))\n",
    "ax.legend()\n",
    "if mid_century == True:\n",
    "    ax.set_title('Mid century SSP2')\n",
    "else:\n",
    "    ax.set_title('End century SSP2')\n",
    "    "
   ]
  },
  {
   "cell_type": "markdown",
   "id": "21cbe511-b4cc-42e2-9ea6-3e8662275096",
   "metadata": {},
   "source": [
    "### Find location\n",
    "\n",
    "We select the location based on the SSP3 scenario simulation"
   ]
  },
  {
   "cell_type": "code",
   "execution_count": 168,
   "id": "c332579b-7fc5-406d-b323-65c817e2227a",
   "metadata": {},
   "outputs": [],
   "source": [
    "select_type = 'thresh' # or dice "
   ]
  },
  {
   "cell_type": "code",
   "execution_count": 169,
   "id": "0d534b6b-49d7-4e29-8817-187d1eaf6b65",
   "metadata": {},
   "outputs": [],
   "source": [
    "start_year = '2081'\n",
    "end_year = '2100'\n"
   ]
  },
  {
   "cell_type": "code",
   "execution_count": 170,
   "id": "ca9793b8-43cc-4c58-82c7-c413684e1e99",
   "metadata": {},
   "outputs": [],
   "source": [
    "# Fire probability\n",
    "ens = 'etp'\n",
    "df_probs = pd.read_csv(path + '/'+ ens + '/daily_probas_' + start_year + '-' + end_year + '_fire-season.csv')\n"
   ]
  },
  {
   "cell_type": "code",
   "execution_count": 171,
   "id": "cdbe8367-0bbb-441d-bdb4-f6511317c452",
   "metadata": {},
   "outputs": [],
   "source": [
    "df_probs = df_probs.set_index(np.int64(df_probs.id))\n"
   ]
  },
  {
   "cell_type": "code",
   "execution_count": 172,
   "id": "ee9c5b86-8455-4f27-8e03-fe7563f0cf97",
   "metadata": {},
   "outputs": [],
   "source": [
    "df_probs= df_probs.iloc[:, 1:]\n"
   ]
  },
  {
   "cell_type": "code",
   "execution_count": 173,
   "id": "65b9d830-7881-4df3-8931-a7b4cba494c5",
   "metadata": {},
   "outputs": [],
   "source": [
    "df_probs = df_probs.drop(columns = 'mean')"
   ]
  },
  {
   "cell_type": "code",
   "execution_count": 174,
   "id": "203334a5-2abd-4390-84f2-659e0a9f1312",
   "metadata": {},
   "outputs": [
    {
     "data": {
      "text/html": [
       "<div>\n",
       "<style scoped>\n",
       "    .dataframe tbody tr th:only-of-type {\n",
       "        vertical-align: middle;\n",
       "    }\n",
       "\n",
       "    .dataframe tbody tr th {\n",
       "        vertical-align: top;\n",
       "    }\n",
       "\n",
       "    .dataframe thead th {\n",
       "        text-align: right;\n",
       "    }\n",
       "</style>\n",
       "<table border=\"1\" class=\"dataframe\">\n",
       "  <thead>\n",
       "    <tr style=\"text-align: right;\">\n",
       "      <th></th>\n",
       "      <th>2081-06-01</th>\n",
       "      <th>2081-06-02</th>\n",
       "      <th>2081-06-03</th>\n",
       "      <th>2081-06-04</th>\n",
       "      <th>2081-06-05</th>\n",
       "      <th>2081-06-06</th>\n",
       "      <th>2081-06-07</th>\n",
       "      <th>2081-06-08</th>\n",
       "      <th>2081-06-09</th>\n",
       "      <th>2081-06-10</th>\n",
       "      <th>...</th>\n",
       "      <th>2100-10-22</th>\n",
       "      <th>2100-10-23</th>\n",
       "      <th>2100-10-24</th>\n",
       "      <th>2100-10-25</th>\n",
       "      <th>2100-10-26</th>\n",
       "      <th>2100-10-27</th>\n",
       "      <th>2100-10-28</th>\n",
       "      <th>2100-10-29</th>\n",
       "      <th>2100-10-30</th>\n",
       "      <th>2100-10-31</th>\n",
       "    </tr>\n",
       "  </thead>\n",
       "  <tbody>\n",
       "    <tr>\n",
       "      <th>199</th>\n",
       "      <td>0.166667</td>\n",
       "      <td>0.180000</td>\n",
       "      <td>0.166667</td>\n",
       "      <td>0.093333</td>\n",
       "      <td>0.100000</td>\n",
       "      <td>0.106667</td>\n",
       "      <td>0.113333</td>\n",
       "      <td>0.100000</td>\n",
       "      <td>0.086667</td>\n",
       "      <td>0.093333</td>\n",
       "      <td>...</td>\n",
       "      <td>0.240000</td>\n",
       "      <td>0.233333</td>\n",
       "      <td>0.220000</td>\n",
       "      <td>0.253333</td>\n",
       "      <td>0.233333</td>\n",
       "      <td>0.246667</td>\n",
       "      <td>0.306667</td>\n",
       "      <td>0.273333</td>\n",
       "      <td>0.246667</td>\n",
       "      <td>0.373333</td>\n",
       "    </tr>\n",
       "    <tr>\n",
       "      <th>200</th>\n",
       "      <td>0.140000</td>\n",
       "      <td>0.146667</td>\n",
       "      <td>0.153333</td>\n",
       "      <td>0.120000</td>\n",
       "      <td>0.126667</td>\n",
       "      <td>0.113333</td>\n",
       "      <td>0.106667</td>\n",
       "      <td>0.100000</td>\n",
       "      <td>0.106667</td>\n",
       "      <td>0.113333</td>\n",
       "      <td>...</td>\n",
       "      <td>0.293333</td>\n",
       "      <td>0.300000</td>\n",
       "      <td>0.273333</td>\n",
       "      <td>0.280000</td>\n",
       "      <td>0.273333</td>\n",
       "      <td>0.300000</td>\n",
       "      <td>0.340000</td>\n",
       "      <td>0.333333</td>\n",
       "      <td>0.266667</td>\n",
       "      <td>0.433333</td>\n",
       "    </tr>\n",
       "    <tr>\n",
       "      <th>202</th>\n",
       "      <td>0.133333</td>\n",
       "      <td>0.140000</td>\n",
       "      <td>0.160000</td>\n",
       "      <td>0.080000</td>\n",
       "      <td>0.073333</td>\n",
       "      <td>0.073333</td>\n",
       "      <td>0.106667</td>\n",
       "      <td>0.086667</td>\n",
       "      <td>0.080000</td>\n",
       "      <td>0.053333</td>\n",
       "      <td>...</td>\n",
       "      <td>0.313333</td>\n",
       "      <td>0.293333</td>\n",
       "      <td>0.240000</td>\n",
       "      <td>0.260000</td>\n",
       "      <td>0.260000</td>\n",
       "      <td>0.300000</td>\n",
       "      <td>0.353333</td>\n",
       "      <td>0.340000</td>\n",
       "      <td>0.300000</td>\n",
       "      <td>0.300000</td>\n",
       "    </tr>\n",
       "    <tr>\n",
       "      <th>203</th>\n",
       "      <td>0.546667</td>\n",
       "      <td>0.546667</td>\n",
       "      <td>0.546667</td>\n",
       "      <td>0.546667</td>\n",
       "      <td>0.546667</td>\n",
       "      <td>0.546667</td>\n",
       "      <td>0.546667</td>\n",
       "      <td>0.546667</td>\n",
       "      <td>0.546667</td>\n",
       "      <td>0.546667</td>\n",
       "      <td>...</td>\n",
       "      <td>0.546667</td>\n",
       "      <td>0.546667</td>\n",
       "      <td>0.546667</td>\n",
       "      <td>0.546667</td>\n",
       "      <td>0.546667</td>\n",
       "      <td>0.546667</td>\n",
       "      <td>0.546667</td>\n",
       "      <td>0.546667</td>\n",
       "      <td>0.546667</td>\n",
       "      <td>0.546667</td>\n",
       "    </tr>\n",
       "    <tr>\n",
       "      <th>204</th>\n",
       "      <td>0.386667</td>\n",
       "      <td>0.386667</td>\n",
       "      <td>0.386667</td>\n",
       "      <td>0.386667</td>\n",
       "      <td>0.386667</td>\n",
       "      <td>0.386667</td>\n",
       "      <td>0.386667</td>\n",
       "      <td>0.386667</td>\n",
       "      <td>0.386667</td>\n",
       "      <td>0.386667</td>\n",
       "      <td>...</td>\n",
       "      <td>0.386667</td>\n",
       "      <td>0.386667</td>\n",
       "      <td>0.386667</td>\n",
       "      <td>0.386667</td>\n",
       "      <td>0.386667</td>\n",
       "      <td>0.386667</td>\n",
       "      <td>0.386667</td>\n",
       "      <td>0.386667</td>\n",
       "      <td>0.386667</td>\n",
       "      <td>0.386667</td>\n",
       "    </tr>\n",
       "    <tr>\n",
       "      <th>...</th>\n",
       "      <td>...</td>\n",
       "      <td>...</td>\n",
       "      <td>...</td>\n",
       "      <td>...</td>\n",
       "      <td>...</td>\n",
       "      <td>...</td>\n",
       "      <td>...</td>\n",
       "      <td>...</td>\n",
       "      <td>...</td>\n",
       "      <td>...</td>\n",
       "      <td>...</td>\n",
       "      <td>...</td>\n",
       "      <td>...</td>\n",
       "      <td>...</td>\n",
       "      <td>...</td>\n",
       "      <td>...</td>\n",
       "      <td>...</td>\n",
       "      <td>...</td>\n",
       "      <td>...</td>\n",
       "      <td>...</td>\n",
       "      <td>...</td>\n",
       "    </tr>\n",
       "    <tr>\n",
       "      <th>119531</th>\n",
       "      <td>0.886667</td>\n",
       "      <td>0.840000</td>\n",
       "      <td>0.700000</td>\n",
       "      <td>0.653333</td>\n",
       "      <td>0.600000</td>\n",
       "      <td>0.473333</td>\n",
       "      <td>0.580000</td>\n",
       "      <td>0.296667</td>\n",
       "      <td>0.460000</td>\n",
       "      <td>0.160000</td>\n",
       "      <td>...</td>\n",
       "      <td>0.280000</td>\n",
       "      <td>0.280000</td>\n",
       "      <td>0.293333</td>\n",
       "      <td>0.323333</td>\n",
       "      <td>0.293333</td>\n",
       "      <td>0.323333</td>\n",
       "      <td>0.300000</td>\n",
       "      <td>0.323333</td>\n",
       "      <td>0.280000</td>\n",
       "      <td>0.253333</td>\n",
       "    </tr>\n",
       "    <tr>\n",
       "      <th>119532</th>\n",
       "      <td>0.866667</td>\n",
       "      <td>0.746667</td>\n",
       "      <td>0.886667</td>\n",
       "      <td>0.573333</td>\n",
       "      <td>0.453333</td>\n",
       "      <td>0.433333</td>\n",
       "      <td>0.646667</td>\n",
       "      <td>0.366667</td>\n",
       "      <td>0.566667</td>\n",
       "      <td>0.146667</td>\n",
       "      <td>...</td>\n",
       "      <td>0.280000</td>\n",
       "      <td>0.246667</td>\n",
       "      <td>0.293333</td>\n",
       "      <td>0.296667</td>\n",
       "      <td>0.290000</td>\n",
       "      <td>0.290000</td>\n",
       "      <td>0.283333</td>\n",
       "      <td>0.296667</td>\n",
       "      <td>0.266667</td>\n",
       "      <td>0.233333</td>\n",
       "    </tr>\n",
       "    <tr>\n",
       "      <th>119533</th>\n",
       "      <td>0.853333</td>\n",
       "      <td>0.753333</td>\n",
       "      <td>0.693333</td>\n",
       "      <td>0.626667</td>\n",
       "      <td>0.453333</td>\n",
       "      <td>0.433333</td>\n",
       "      <td>0.513333</td>\n",
       "      <td>0.333333</td>\n",
       "      <td>0.526667</td>\n",
       "      <td>0.173333</td>\n",
       "      <td>...</td>\n",
       "      <td>0.286667</td>\n",
       "      <td>0.266667</td>\n",
       "      <td>0.296667</td>\n",
       "      <td>0.303333</td>\n",
       "      <td>0.296667</td>\n",
       "      <td>0.303333</td>\n",
       "      <td>0.290000</td>\n",
       "      <td>0.303333</td>\n",
       "      <td>0.286667</td>\n",
       "      <td>0.253333</td>\n",
       "    </tr>\n",
       "    <tr>\n",
       "      <th>119534</th>\n",
       "      <td>0.880000</td>\n",
       "      <td>0.820000</td>\n",
       "      <td>0.780000</td>\n",
       "      <td>0.633333</td>\n",
       "      <td>0.566667</td>\n",
       "      <td>0.506667</td>\n",
       "      <td>0.646667</td>\n",
       "      <td>0.370000</td>\n",
       "      <td>0.526667</td>\n",
       "      <td>0.260000</td>\n",
       "      <td>...</td>\n",
       "      <td>0.306667</td>\n",
       "      <td>0.286667</td>\n",
       "      <td>0.316667</td>\n",
       "      <td>0.310000</td>\n",
       "      <td>0.310000</td>\n",
       "      <td>0.316667</td>\n",
       "      <td>0.303333</td>\n",
       "      <td>0.316667</td>\n",
       "      <td>0.313333</td>\n",
       "      <td>0.273333</td>\n",
       "    </tr>\n",
       "    <tr>\n",
       "      <th>119535</th>\n",
       "      <td>0.740000</td>\n",
       "      <td>0.733333</td>\n",
       "      <td>0.593333</td>\n",
       "      <td>0.620000</td>\n",
       "      <td>0.546667</td>\n",
       "      <td>0.486667</td>\n",
       "      <td>0.513333</td>\n",
       "      <td>0.276667</td>\n",
       "      <td>0.453333</td>\n",
       "      <td>0.193333</td>\n",
       "      <td>...</td>\n",
       "      <td>0.253333</td>\n",
       "      <td>0.226667</td>\n",
       "      <td>0.273333</td>\n",
       "      <td>0.253333</td>\n",
       "      <td>0.253333</td>\n",
       "      <td>0.253333</td>\n",
       "      <td>0.260000</td>\n",
       "      <td>0.253333</td>\n",
       "      <td>0.240000</td>\n",
       "      <td>0.206667</td>\n",
       "    </tr>\n",
       "  </tbody>\n",
       "</table>\n",
       "<p>18448 rows × 3060 columns</p>\n",
       "</div>"
      ],
      "text/plain": [
       "        2081-06-01  2081-06-02  2081-06-03  2081-06-04  2081-06-05  \\\n",
       "199       0.166667    0.180000    0.166667    0.093333    0.100000   \n",
       "200       0.140000    0.146667    0.153333    0.120000    0.126667   \n",
       "202       0.133333    0.140000    0.160000    0.080000    0.073333   \n",
       "203       0.546667    0.546667    0.546667    0.546667    0.546667   \n",
       "204       0.386667    0.386667    0.386667    0.386667    0.386667   \n",
       "...            ...         ...         ...         ...         ...   \n",
       "119531    0.886667    0.840000    0.700000    0.653333    0.600000   \n",
       "119532    0.866667    0.746667    0.886667    0.573333    0.453333   \n",
       "119533    0.853333    0.753333    0.693333    0.626667    0.453333   \n",
       "119534    0.880000    0.820000    0.780000    0.633333    0.566667   \n",
       "119535    0.740000    0.733333    0.593333    0.620000    0.546667   \n",
       "\n",
       "        2081-06-06  2081-06-07  2081-06-08  2081-06-09  2081-06-10  ...  \\\n",
       "199       0.106667    0.113333    0.100000    0.086667    0.093333  ...   \n",
       "200       0.113333    0.106667    0.100000    0.106667    0.113333  ...   \n",
       "202       0.073333    0.106667    0.086667    0.080000    0.053333  ...   \n",
       "203       0.546667    0.546667    0.546667    0.546667    0.546667  ...   \n",
       "204       0.386667    0.386667    0.386667    0.386667    0.386667  ...   \n",
       "...            ...         ...         ...         ...         ...  ...   \n",
       "119531    0.473333    0.580000    0.296667    0.460000    0.160000  ...   \n",
       "119532    0.433333    0.646667    0.366667    0.566667    0.146667  ...   \n",
       "119533    0.433333    0.513333    0.333333    0.526667    0.173333  ...   \n",
       "119534    0.506667    0.646667    0.370000    0.526667    0.260000  ...   \n",
       "119535    0.486667    0.513333    0.276667    0.453333    0.193333  ...   \n",
       "\n",
       "        2100-10-22  2100-10-23  2100-10-24  2100-10-25  2100-10-26  \\\n",
       "199       0.240000    0.233333    0.220000    0.253333    0.233333   \n",
       "200       0.293333    0.300000    0.273333    0.280000    0.273333   \n",
       "202       0.313333    0.293333    0.240000    0.260000    0.260000   \n",
       "203       0.546667    0.546667    0.546667    0.546667    0.546667   \n",
       "204       0.386667    0.386667    0.386667    0.386667    0.386667   \n",
       "...            ...         ...         ...         ...         ...   \n",
       "119531    0.280000    0.280000    0.293333    0.323333    0.293333   \n",
       "119532    0.280000    0.246667    0.293333    0.296667    0.290000   \n",
       "119533    0.286667    0.266667    0.296667    0.303333    0.296667   \n",
       "119534    0.306667    0.286667    0.316667    0.310000    0.310000   \n",
       "119535    0.253333    0.226667    0.273333    0.253333    0.253333   \n",
       "\n",
       "        2100-10-27  2100-10-28  2100-10-29  2100-10-30  2100-10-31  \n",
       "199       0.246667    0.306667    0.273333    0.246667    0.373333  \n",
       "200       0.300000    0.340000    0.333333    0.266667    0.433333  \n",
       "202       0.300000    0.353333    0.340000    0.300000    0.300000  \n",
       "203       0.546667    0.546667    0.546667    0.546667    0.546667  \n",
       "204       0.386667    0.386667    0.386667    0.386667    0.386667  \n",
       "...            ...         ...         ...         ...         ...  \n",
       "119531    0.323333    0.300000    0.323333    0.280000    0.253333  \n",
       "119532    0.290000    0.283333    0.296667    0.266667    0.233333  \n",
       "119533    0.303333    0.290000    0.303333    0.286667    0.253333  \n",
       "119534    0.316667    0.303333    0.316667    0.313333    0.273333  \n",
       "119535    0.253333    0.260000    0.253333    0.240000    0.206667  \n",
       "\n",
       "[18448 rows x 3060 columns]"
      ]
     },
     "execution_count": 174,
     "metadata": {},
     "output_type": "execute_result"
    }
   ],
   "source": [
    "df_probs"
   ]
  },
  {
   "cell_type": "code",
   "execution_count": 175,
   "id": "dac49325-edcb-469e-a19b-afd1711478f6",
   "metadata": {},
   "outputs": [],
   "source": [
    "# Update column names to date times \n",
    "dates = pd.date_range(start_year + '-01-07', end_year + '-12-24')\n",
    "\n",
    "# Only fire season so months outside fire season are filtered out \n",
    "for m in [1, 2, 3, 4, 5, 11, 12]:\n",
    "    dates = dates[ ~(dates.month == m)]\n",
    "\n",
    "df_probs = df_probs.set_axis(dates, axis=1)"
   ]
  },
  {
   "cell_type": "code",
   "execution_count": 176,
   "id": "48cd9c35-baa6-40b5-9af7-9757dea3dd38",
   "metadata": {},
   "outputs": [
    {
     "data": {
      "text/html": [
       "<div>\n",
       "<style scoped>\n",
       "    .dataframe tbody tr th:only-of-type {\n",
       "        vertical-align: middle;\n",
       "    }\n",
       "\n",
       "    .dataframe tbody tr th {\n",
       "        vertical-align: top;\n",
       "    }\n",
       "\n",
       "    .dataframe thead th {\n",
       "        text-align: right;\n",
       "    }\n",
       "</style>\n",
       "<table border=\"1\" class=\"dataframe\">\n",
       "  <thead>\n",
       "    <tr style=\"text-align: right;\">\n",
       "      <th></th>\n",
       "      <th>2081-06-01</th>\n",
       "      <th>2081-06-02</th>\n",
       "      <th>2081-06-03</th>\n",
       "      <th>2081-06-04</th>\n",
       "      <th>2081-06-05</th>\n",
       "      <th>2081-06-06</th>\n",
       "      <th>2081-06-07</th>\n",
       "      <th>2081-06-08</th>\n",
       "      <th>2081-06-09</th>\n",
       "      <th>2081-06-10</th>\n",
       "      <th>...</th>\n",
       "      <th>2100-10-22</th>\n",
       "      <th>2100-10-23</th>\n",
       "      <th>2100-10-24</th>\n",
       "      <th>2100-10-25</th>\n",
       "      <th>2100-10-26</th>\n",
       "      <th>2100-10-27</th>\n",
       "      <th>2100-10-28</th>\n",
       "      <th>2100-10-29</th>\n",
       "      <th>2100-10-30</th>\n",
       "      <th>2100-10-31</th>\n",
       "    </tr>\n",
       "  </thead>\n",
       "  <tbody>\n",
       "    <tr>\n",
       "      <th>199</th>\n",
       "      <td>0.166667</td>\n",
       "      <td>0.180000</td>\n",
       "      <td>0.166667</td>\n",
       "      <td>0.093333</td>\n",
       "      <td>0.100000</td>\n",
       "      <td>0.106667</td>\n",
       "      <td>0.113333</td>\n",
       "      <td>0.100000</td>\n",
       "      <td>0.086667</td>\n",
       "      <td>0.093333</td>\n",
       "      <td>...</td>\n",
       "      <td>0.240000</td>\n",
       "      <td>0.233333</td>\n",
       "      <td>0.220000</td>\n",
       "      <td>0.253333</td>\n",
       "      <td>0.233333</td>\n",
       "      <td>0.246667</td>\n",
       "      <td>0.306667</td>\n",
       "      <td>0.273333</td>\n",
       "      <td>0.246667</td>\n",
       "      <td>0.373333</td>\n",
       "    </tr>\n",
       "    <tr>\n",
       "      <th>200</th>\n",
       "      <td>0.140000</td>\n",
       "      <td>0.146667</td>\n",
       "      <td>0.153333</td>\n",
       "      <td>0.120000</td>\n",
       "      <td>0.126667</td>\n",
       "      <td>0.113333</td>\n",
       "      <td>0.106667</td>\n",
       "      <td>0.100000</td>\n",
       "      <td>0.106667</td>\n",
       "      <td>0.113333</td>\n",
       "      <td>...</td>\n",
       "      <td>0.293333</td>\n",
       "      <td>0.300000</td>\n",
       "      <td>0.273333</td>\n",
       "      <td>0.280000</td>\n",
       "      <td>0.273333</td>\n",
       "      <td>0.300000</td>\n",
       "      <td>0.340000</td>\n",
       "      <td>0.333333</td>\n",
       "      <td>0.266667</td>\n",
       "      <td>0.433333</td>\n",
       "    </tr>\n",
       "    <tr>\n",
       "      <th>202</th>\n",
       "      <td>0.133333</td>\n",
       "      <td>0.140000</td>\n",
       "      <td>0.160000</td>\n",
       "      <td>0.080000</td>\n",
       "      <td>0.073333</td>\n",
       "      <td>0.073333</td>\n",
       "      <td>0.106667</td>\n",
       "      <td>0.086667</td>\n",
       "      <td>0.080000</td>\n",
       "      <td>0.053333</td>\n",
       "      <td>...</td>\n",
       "      <td>0.313333</td>\n",
       "      <td>0.293333</td>\n",
       "      <td>0.240000</td>\n",
       "      <td>0.260000</td>\n",
       "      <td>0.260000</td>\n",
       "      <td>0.300000</td>\n",
       "      <td>0.353333</td>\n",
       "      <td>0.340000</td>\n",
       "      <td>0.300000</td>\n",
       "      <td>0.300000</td>\n",
       "    </tr>\n",
       "    <tr>\n",
       "      <th>203</th>\n",
       "      <td>0.546667</td>\n",
       "      <td>0.546667</td>\n",
       "      <td>0.546667</td>\n",
       "      <td>0.546667</td>\n",
       "      <td>0.546667</td>\n",
       "      <td>0.546667</td>\n",
       "      <td>0.546667</td>\n",
       "      <td>0.546667</td>\n",
       "      <td>0.546667</td>\n",
       "      <td>0.546667</td>\n",
       "      <td>...</td>\n",
       "      <td>0.546667</td>\n",
       "      <td>0.546667</td>\n",
       "      <td>0.546667</td>\n",
       "      <td>0.546667</td>\n",
       "      <td>0.546667</td>\n",
       "      <td>0.546667</td>\n",
       "      <td>0.546667</td>\n",
       "      <td>0.546667</td>\n",
       "      <td>0.546667</td>\n",
       "      <td>0.546667</td>\n",
       "    </tr>\n",
       "    <tr>\n",
       "      <th>204</th>\n",
       "      <td>0.386667</td>\n",
       "      <td>0.386667</td>\n",
       "      <td>0.386667</td>\n",
       "      <td>0.386667</td>\n",
       "      <td>0.386667</td>\n",
       "      <td>0.386667</td>\n",
       "      <td>0.386667</td>\n",
       "      <td>0.386667</td>\n",
       "      <td>0.386667</td>\n",
       "      <td>0.386667</td>\n",
       "      <td>...</td>\n",
       "      <td>0.386667</td>\n",
       "      <td>0.386667</td>\n",
       "      <td>0.386667</td>\n",
       "      <td>0.386667</td>\n",
       "      <td>0.386667</td>\n",
       "      <td>0.386667</td>\n",
       "      <td>0.386667</td>\n",
       "      <td>0.386667</td>\n",
       "      <td>0.386667</td>\n",
       "      <td>0.386667</td>\n",
       "    </tr>\n",
       "    <tr>\n",
       "      <th>...</th>\n",
       "      <td>...</td>\n",
       "      <td>...</td>\n",
       "      <td>...</td>\n",
       "      <td>...</td>\n",
       "      <td>...</td>\n",
       "      <td>...</td>\n",
       "      <td>...</td>\n",
       "      <td>...</td>\n",
       "      <td>...</td>\n",
       "      <td>...</td>\n",
       "      <td>...</td>\n",
       "      <td>...</td>\n",
       "      <td>...</td>\n",
       "      <td>...</td>\n",
       "      <td>...</td>\n",
       "      <td>...</td>\n",
       "      <td>...</td>\n",
       "      <td>...</td>\n",
       "      <td>...</td>\n",
       "      <td>...</td>\n",
       "      <td>...</td>\n",
       "    </tr>\n",
       "    <tr>\n",
       "      <th>119531</th>\n",
       "      <td>0.886667</td>\n",
       "      <td>0.840000</td>\n",
       "      <td>0.700000</td>\n",
       "      <td>0.653333</td>\n",
       "      <td>0.600000</td>\n",
       "      <td>0.473333</td>\n",
       "      <td>0.580000</td>\n",
       "      <td>0.296667</td>\n",
       "      <td>0.460000</td>\n",
       "      <td>0.160000</td>\n",
       "      <td>...</td>\n",
       "      <td>0.280000</td>\n",
       "      <td>0.280000</td>\n",
       "      <td>0.293333</td>\n",
       "      <td>0.323333</td>\n",
       "      <td>0.293333</td>\n",
       "      <td>0.323333</td>\n",
       "      <td>0.300000</td>\n",
       "      <td>0.323333</td>\n",
       "      <td>0.280000</td>\n",
       "      <td>0.253333</td>\n",
       "    </tr>\n",
       "    <tr>\n",
       "      <th>119532</th>\n",
       "      <td>0.866667</td>\n",
       "      <td>0.746667</td>\n",
       "      <td>0.886667</td>\n",
       "      <td>0.573333</td>\n",
       "      <td>0.453333</td>\n",
       "      <td>0.433333</td>\n",
       "      <td>0.646667</td>\n",
       "      <td>0.366667</td>\n",
       "      <td>0.566667</td>\n",
       "      <td>0.146667</td>\n",
       "      <td>...</td>\n",
       "      <td>0.280000</td>\n",
       "      <td>0.246667</td>\n",
       "      <td>0.293333</td>\n",
       "      <td>0.296667</td>\n",
       "      <td>0.290000</td>\n",
       "      <td>0.290000</td>\n",
       "      <td>0.283333</td>\n",
       "      <td>0.296667</td>\n",
       "      <td>0.266667</td>\n",
       "      <td>0.233333</td>\n",
       "    </tr>\n",
       "    <tr>\n",
       "      <th>119533</th>\n",
       "      <td>0.853333</td>\n",
       "      <td>0.753333</td>\n",
       "      <td>0.693333</td>\n",
       "      <td>0.626667</td>\n",
       "      <td>0.453333</td>\n",
       "      <td>0.433333</td>\n",
       "      <td>0.513333</td>\n",
       "      <td>0.333333</td>\n",
       "      <td>0.526667</td>\n",
       "      <td>0.173333</td>\n",
       "      <td>...</td>\n",
       "      <td>0.286667</td>\n",
       "      <td>0.266667</td>\n",
       "      <td>0.296667</td>\n",
       "      <td>0.303333</td>\n",
       "      <td>0.296667</td>\n",
       "      <td>0.303333</td>\n",
       "      <td>0.290000</td>\n",
       "      <td>0.303333</td>\n",
       "      <td>0.286667</td>\n",
       "      <td>0.253333</td>\n",
       "    </tr>\n",
       "    <tr>\n",
       "      <th>119534</th>\n",
       "      <td>0.880000</td>\n",
       "      <td>0.820000</td>\n",
       "      <td>0.780000</td>\n",
       "      <td>0.633333</td>\n",
       "      <td>0.566667</td>\n",
       "      <td>0.506667</td>\n",
       "      <td>0.646667</td>\n",
       "      <td>0.370000</td>\n",
       "      <td>0.526667</td>\n",
       "      <td>0.260000</td>\n",
       "      <td>...</td>\n",
       "      <td>0.306667</td>\n",
       "      <td>0.286667</td>\n",
       "      <td>0.316667</td>\n",
       "      <td>0.310000</td>\n",
       "      <td>0.310000</td>\n",
       "      <td>0.316667</td>\n",
       "      <td>0.303333</td>\n",
       "      <td>0.316667</td>\n",
       "      <td>0.313333</td>\n",
       "      <td>0.273333</td>\n",
       "    </tr>\n",
       "    <tr>\n",
       "      <th>119535</th>\n",
       "      <td>0.740000</td>\n",
       "      <td>0.733333</td>\n",
       "      <td>0.593333</td>\n",
       "      <td>0.620000</td>\n",
       "      <td>0.546667</td>\n",
       "      <td>0.486667</td>\n",
       "      <td>0.513333</td>\n",
       "      <td>0.276667</td>\n",
       "      <td>0.453333</td>\n",
       "      <td>0.193333</td>\n",
       "      <td>...</td>\n",
       "      <td>0.253333</td>\n",
       "      <td>0.226667</td>\n",
       "      <td>0.273333</td>\n",
       "      <td>0.253333</td>\n",
       "      <td>0.253333</td>\n",
       "      <td>0.253333</td>\n",
       "      <td>0.260000</td>\n",
       "      <td>0.253333</td>\n",
       "      <td>0.240000</td>\n",
       "      <td>0.206667</td>\n",
       "    </tr>\n",
       "  </tbody>\n",
       "</table>\n",
       "<p>18448 rows × 3060 columns</p>\n",
       "</div>"
      ],
      "text/plain": [
       "        2081-06-01  2081-06-02  2081-06-03  2081-06-04  2081-06-05  \\\n",
       "199       0.166667    0.180000    0.166667    0.093333    0.100000   \n",
       "200       0.140000    0.146667    0.153333    0.120000    0.126667   \n",
       "202       0.133333    0.140000    0.160000    0.080000    0.073333   \n",
       "203       0.546667    0.546667    0.546667    0.546667    0.546667   \n",
       "204       0.386667    0.386667    0.386667    0.386667    0.386667   \n",
       "...            ...         ...         ...         ...         ...   \n",
       "119531    0.886667    0.840000    0.700000    0.653333    0.600000   \n",
       "119532    0.866667    0.746667    0.886667    0.573333    0.453333   \n",
       "119533    0.853333    0.753333    0.693333    0.626667    0.453333   \n",
       "119534    0.880000    0.820000    0.780000    0.633333    0.566667   \n",
       "119535    0.740000    0.733333    0.593333    0.620000    0.546667   \n",
       "\n",
       "        2081-06-06  2081-06-07  2081-06-08  2081-06-09  2081-06-10  ...  \\\n",
       "199       0.106667    0.113333    0.100000    0.086667    0.093333  ...   \n",
       "200       0.113333    0.106667    0.100000    0.106667    0.113333  ...   \n",
       "202       0.073333    0.106667    0.086667    0.080000    0.053333  ...   \n",
       "203       0.546667    0.546667    0.546667    0.546667    0.546667  ...   \n",
       "204       0.386667    0.386667    0.386667    0.386667    0.386667  ...   \n",
       "...            ...         ...         ...         ...         ...  ...   \n",
       "119531    0.473333    0.580000    0.296667    0.460000    0.160000  ...   \n",
       "119532    0.433333    0.646667    0.366667    0.566667    0.146667  ...   \n",
       "119533    0.433333    0.513333    0.333333    0.526667    0.173333  ...   \n",
       "119534    0.506667    0.646667    0.370000    0.526667    0.260000  ...   \n",
       "119535    0.486667    0.513333    0.276667    0.453333    0.193333  ...   \n",
       "\n",
       "        2100-10-22  2100-10-23  2100-10-24  2100-10-25  2100-10-26  \\\n",
       "199       0.240000    0.233333    0.220000    0.253333    0.233333   \n",
       "200       0.293333    0.300000    0.273333    0.280000    0.273333   \n",
       "202       0.313333    0.293333    0.240000    0.260000    0.260000   \n",
       "203       0.546667    0.546667    0.546667    0.546667    0.546667   \n",
       "204       0.386667    0.386667    0.386667    0.386667    0.386667   \n",
       "...            ...         ...         ...         ...         ...   \n",
       "119531    0.280000    0.280000    0.293333    0.323333    0.293333   \n",
       "119532    0.280000    0.246667    0.293333    0.296667    0.290000   \n",
       "119533    0.286667    0.266667    0.296667    0.303333    0.296667   \n",
       "119534    0.306667    0.286667    0.316667    0.310000    0.310000   \n",
       "119535    0.253333    0.226667    0.273333    0.253333    0.253333   \n",
       "\n",
       "        2100-10-27  2100-10-28  2100-10-29  2100-10-30  2100-10-31  \n",
       "199       0.246667    0.306667    0.273333    0.246667    0.373333  \n",
       "200       0.300000    0.340000    0.333333    0.266667    0.433333  \n",
       "202       0.300000    0.353333    0.340000    0.300000    0.300000  \n",
       "203       0.546667    0.546667    0.546667    0.546667    0.546667  \n",
       "204       0.386667    0.386667    0.386667    0.386667    0.386667  \n",
       "...            ...         ...         ...         ...         ...  \n",
       "119531    0.323333    0.300000    0.323333    0.280000    0.253333  \n",
       "119532    0.290000    0.283333    0.296667    0.266667    0.233333  \n",
       "119533    0.303333    0.290000    0.303333    0.286667    0.253333  \n",
       "119534    0.316667    0.303333    0.316667    0.313333    0.273333  \n",
       "119535    0.253333    0.260000    0.253333    0.240000    0.206667  \n",
       "\n",
       "[18448 rows x 3060 columns]"
      ]
     },
     "execution_count": 176,
     "metadata": {},
     "output_type": "execute_result"
    }
   ],
   "source": [
    "df_probs"
   ]
  },
  {
   "cell_type": "code",
   "execution_count": 116,
   "id": "72c6d2c4-69cd-4959-9e03-1a35368021fa",
   "metadata": {},
   "outputs": [],
   "source": [
    "#df_probs['id'] = df_probs.index"
   ]
  },
  {
   "cell_type": "code",
   "execution_count": 177,
   "id": "a3cad8a9-005e-4b4a-b8a2-9c556a8050a9",
   "metadata": {},
   "outputs": [],
   "source": [
    "select_type = 'thresh' # or dice "
   ]
  },
  {
   "cell_type": "code",
   "execution_count": 178,
   "id": "950c15d2-1913-446c-a211-a281db7f6abc",
   "metadata": {},
   "outputs": [],
   "source": [
    "df_probs['id'] = df_probs.index"
   ]
  },
  {
   "cell_type": "code",
   "execution_count": 179,
   "id": "de85d6c6-24fe-4b1f-a023-7a3adc67214f",
   "metadata": {},
   "outputs": [],
   "source": [
    "years = np.arange(int(start_year), int(end_year)+1, 1)\n",
    "prob = 0.7 # select threshold value"
   ]
  },
  {
   "cell_type": "code",
   "execution_count": 180,
   "id": "758a487f-7f70-4632-b109-61cfe9d80c65",
   "metadata": {},
   "outputs": [
    {
     "name": "stderr",
     "output_type": "stream",
     "text": [
      "C:\\Users\\ophme\\AppData\\Local\\Temp\\ipykernel_42156\\3848645691.py:16: FutureWarning: Series.__getitem__ treating keys as positions is deprecated. In a future version, integer keys will always be treated as labels (consistent with DataFrame behavior). To access a value by position, use `ser.iloc[pos]`\n",
      "  indices = df_probs['id'][item > prob].sample(int(np.round(df_count['count'][i],0)))\n"
     ]
    }
   ],
   "source": [
    "df_ignition = pd.DataFrame(columns = ['date', 'id'])\n",
    "\n",
    "i = 0\n",
    "for year in years: \n",
    "    year = str(year)\n",
    "    df = df_probs.filter(like= year)\n",
    "    \n",
    "    for column_name, item in df.items():\n",
    "        \n",
    "        # Random probability\n",
    "        vals = np.zeros(len(item))\n",
    "        random_probas = np.random.rand(len(item))\n",
    "\n",
    "        # Use sample function to select ids based on condition\n",
    "        if select_type == 'thresh':\n",
    "            indices = df_probs['id'][item > prob].sample(int(np.round(df_count['count'][i],0)))\n",
    "        elif select_type == 'dice':\n",
    "            indices = df_probs['id'][item > random_probas].sample(int(np.round(df_count['count'][i],0)))\n",
    "\n",
    "        # Create a dataframe with a row per fire \n",
    "        for ind in indices:\n",
    "            df_temp = pd.DataFrame({\"date\":[str(column_name)[:10]], \"id\": [ind]})\n",
    "            df_ignition = pd.concat([df_ignition, df_temp], ignore_index=True)\n",
    "            \n",
    "        i = i +1        "
   ]
  },
  {
   "cell_type": "code",
   "execution_count": 181,
   "id": "e3d8e538-3f7e-4c71-b08f-b5b90fffed4a",
   "metadata": {},
   "outputs": [
    {
     "data": {
      "text/html": [
       "<div>\n",
       "<style scoped>\n",
       "    .dataframe tbody tr th:only-of-type {\n",
       "        vertical-align: middle;\n",
       "    }\n",
       "\n",
       "    .dataframe tbody tr th {\n",
       "        vertical-align: top;\n",
       "    }\n",
       "\n",
       "    .dataframe thead th {\n",
       "        text-align: right;\n",
       "    }\n",
       "</style>\n",
       "<table border=\"1\" class=\"dataframe\">\n",
       "  <thead>\n",
       "    <tr style=\"text-align: right;\">\n",
       "      <th></th>\n",
       "      <th>date</th>\n",
       "      <th>id</th>\n",
       "    </tr>\n",
       "  </thead>\n",
       "  <tbody>\n",
       "    <tr>\n",
       "      <th>0</th>\n",
       "      <td>2081-09-11</td>\n",
       "      <td>39536</td>\n",
       "    </tr>\n",
       "    <tr>\n",
       "      <th>1</th>\n",
       "      <td>2082-06-02</td>\n",
       "      <td>116727</td>\n",
       "    </tr>\n",
       "    <tr>\n",
       "      <th>2</th>\n",
       "      <td>2082-06-03</td>\n",
       "      <td>53900</td>\n",
       "    </tr>\n",
       "    <tr>\n",
       "      <th>3</th>\n",
       "      <td>2082-06-04</td>\n",
       "      <td>47141</td>\n",
       "    </tr>\n",
       "    <tr>\n",
       "      <th>4</th>\n",
       "      <td>2082-06-06</td>\n",
       "      <td>118945</td>\n",
       "    </tr>\n",
       "    <tr>\n",
       "      <th>...</th>\n",
       "      <td>...</td>\n",
       "      <td>...</td>\n",
       "    </tr>\n",
       "    <tr>\n",
       "      <th>501</th>\n",
       "      <td>2100-09-01</td>\n",
       "      <td>38373</td>\n",
       "    </tr>\n",
       "    <tr>\n",
       "      <th>502</th>\n",
       "      <td>2100-09-02</td>\n",
       "      <td>40686</td>\n",
       "    </tr>\n",
       "    <tr>\n",
       "      <th>503</th>\n",
       "      <td>2100-09-03</td>\n",
       "      <td>114745</td>\n",
       "    </tr>\n",
       "    <tr>\n",
       "      <th>504</th>\n",
       "      <td>2100-09-04</td>\n",
       "      <td>52335</td>\n",
       "    </tr>\n",
       "    <tr>\n",
       "      <th>505</th>\n",
       "      <td>2100-09-23</td>\n",
       "      <td>117308</td>\n",
       "    </tr>\n",
       "  </tbody>\n",
       "</table>\n",
       "<p>506 rows × 2 columns</p>\n",
       "</div>"
      ],
      "text/plain": [
       "           date      id\n",
       "0    2081-09-11   39536\n",
       "1    2082-06-02  116727\n",
       "2    2082-06-03   53900\n",
       "3    2082-06-04   47141\n",
       "4    2082-06-06  118945\n",
       "..          ...     ...\n",
       "501  2100-09-01   38373\n",
       "502  2100-09-02   40686\n",
       "503  2100-09-03  114745\n",
       "504  2100-09-04   52335\n",
       "505  2100-09-23  117308\n",
       "\n",
       "[506 rows x 2 columns]"
      ]
     },
     "execution_count": 181,
     "metadata": {},
     "output_type": "execute_result"
    }
   ],
   "source": [
    "df_ignition"
   ]
  },
  {
   "cell_type": "markdown",
   "id": "fc6b0487-c665-4372-a23c-ea2123ecf6a5",
   "metadata": {},
   "source": [
    "#### Assign geometry to corresponding id"
   ]
  },
  {
   "cell_type": "code",
   "execution_count": 182,
   "id": "09cf52e5-1c42-4939-8b9e-edbb4709dceb",
   "metadata": {},
   "outputs": [],
   "source": [
    "grid = gpd.read_file(\"O:/Climate-and-Energy-Policy/CERM/Projects/Wildfire/Data/\"+ folder +\"/grid/europe_10km_grid.shp\")"
   ]
  },
  {
   "cell_type": "code",
   "execution_count": 183,
   "id": "eedf60f3-bd52-46fa-9720-78b4893bc4f5",
   "metadata": {},
   "outputs": [],
   "source": [
    "grid = grid[['id', 'geometry']].to_crs(4326)"
   ]
  },
  {
   "cell_type": "code",
   "execution_count": 184,
   "id": "f3de0f41-9095-4d01-9ea4-29382d419ef2",
   "metadata": {},
   "outputs": [],
   "source": [
    "grid['id'] = grid['id'].astype('int')"
   ]
  },
  {
   "cell_type": "code",
   "execution_count": 185,
   "id": "def99cad-ca42-4835-aa89-41fde94d6eb4",
   "metadata": {},
   "outputs": [],
   "source": [
    "grid = grid.set_index('id')"
   ]
  },
  {
   "cell_type": "code",
   "execution_count": 186,
   "id": "1b9f5702-6cf8-46dd-bde0-add1da87cd20",
   "metadata": {},
   "outputs": [],
   "source": [
    "geometries = []\n",
    "for i, row in df_ignition.iterrows():\n",
    "    geometries.append(grid.loc[row.id, 'geometry'])"
   ]
  },
  {
   "cell_type": "code",
   "execution_count": 187,
   "id": "8c10eb1a-0d8d-4656-a84c-ef9370f1912d",
   "metadata": {},
   "outputs": [],
   "source": [
    "df_ignition['geometry'] = geometries"
   ]
  },
  {
   "cell_type": "markdown",
   "id": "8da09d54-16aa-423e-a7a1-2f2fc1f839f2",
   "metadata": {},
   "source": [
    "#### Convert to geopandas and sample point randomly within grid "
   ]
  },
  {
   "cell_type": "code",
   "execution_count": 188,
   "id": "2306c353-c1c3-462a-a85c-01e3acdd3e12",
   "metadata": {},
   "outputs": [],
   "source": [
    "df_ignition_gpd = gpd.GeoDataFrame(df_ignition, geometry=df_ignition[\"geometry\"])"
   ]
  },
  {
   "cell_type": "code",
   "execution_count": 189,
   "id": "848d01e7-10d6-4f9c-93bf-87982052a5af",
   "metadata": {},
   "outputs": [],
   "source": [
    "df_ignition_gpd['sample_point'] = df_ignition_gpd.geometry.sample_points(1)"
   ]
  },
  {
   "cell_type": "code",
   "execution_count": 190,
   "id": "2419ea30-4502-4b63-acf6-780e38b45631",
   "metadata": {},
   "outputs": [],
   "source": [
    "df_ignition['lon'] = df_ignition_gpd.sample_point.x\n",
    "df_ignition['lat'] = df_ignition_gpd.sample_point.y"
   ]
  },
  {
   "cell_type": "code",
   "execution_count": 191,
   "id": "a57f4b27-b1a9-49ff-8f38-bf1f3152ac99",
   "metadata": {},
   "outputs": [
    {
     "data": {
      "text/html": [
       "<div>\n",
       "<style scoped>\n",
       "    .dataframe tbody tr th:only-of-type {\n",
       "        vertical-align: middle;\n",
       "    }\n",
       "\n",
       "    .dataframe tbody tr th {\n",
       "        vertical-align: top;\n",
       "    }\n",
       "\n",
       "    .dataframe thead th {\n",
       "        text-align: right;\n",
       "    }\n",
       "</style>\n",
       "<table border=\"1\" class=\"dataframe\">\n",
       "  <thead>\n",
       "    <tr style=\"text-align: right;\">\n",
       "      <th></th>\n",
       "      <th>date</th>\n",
       "      <th>id</th>\n",
       "      <th>geometry</th>\n",
       "      <th>lon</th>\n",
       "      <th>lat</th>\n",
       "    </tr>\n",
       "  </thead>\n",
       "  <tbody>\n",
       "    <tr>\n",
       "      <th>0</th>\n",
       "      <td>2081-09-11</td>\n",
       "      <td>39536</td>\n",
       "      <td>POLYGON ((16.5268307450926 63.1243628559109, 1...</td>\n",
       "      <td>16.415614</td>\n",
       "      <td>63.105750</td>\n",
       "    </tr>\n",
       "    <tr>\n",
       "      <th>1</th>\n",
       "      <td>2082-06-02</td>\n",
       "      <td>116727</td>\n",
       "      <td>POLYGON ((19.293547865442893 63.70849866995484...</td>\n",
       "      <td>19.233855</td>\n",
       "      <td>63.698824</td>\n",
       "    </tr>\n",
       "    <tr>\n",
       "      <th>2</th>\n",
       "      <td>2082-06-03</td>\n",
       "      <td>53900</td>\n",
       "      <td>POLYGON ((29.51769723741128 63.86060985796274,...</td>\n",
       "      <td>29.342519</td>\n",
       "      <td>63.843703</td>\n",
       "    </tr>\n",
       "    <tr>\n",
       "      <th>3</th>\n",
       "      <td>2082-06-04</td>\n",
       "      <td>47141</td>\n",
       "      <td>POLYGON ((25.27881752121746 67.20736687717341,...</td>\n",
       "      <td>25.210371</td>\n",
       "      <td>67.172429</td>\n",
       "    </tr>\n",
       "    <tr>\n",
       "      <th>4</th>\n",
       "      <td>2082-06-06</td>\n",
       "      <td>118945</td>\n",
       "      <td>POLYGON ((25.04685002102077 55.62481800255893,...</td>\n",
       "      <td>24.986162</td>\n",
       "      <td>55.592318</td>\n",
       "    </tr>\n",
       "    <tr>\n",
       "      <th>...</th>\n",
       "      <td>...</td>\n",
       "      <td>...</td>\n",
       "      <td>...</td>\n",
       "      <td>...</td>\n",
       "      <td>...</td>\n",
       "    </tr>\n",
       "    <tr>\n",
       "      <th>501</th>\n",
       "      <td>2100-09-01</td>\n",
       "      <td>38373</td>\n",
       "      <td>POLYGON ((15.594475768044058 63.43258138591236...</td>\n",
       "      <td>15.412258</td>\n",
       "      <td>63.388399</td>\n",
       "    </tr>\n",
       "    <tr>\n",
       "      <th>502</th>\n",
       "      <td>2100-09-02</td>\n",
       "      <td>40686</td>\n",
       "      <td>POLYGON ((17.741474588286945 63.97492576542764...</td>\n",
       "      <td>17.590500</td>\n",
       "      <td>63.901787</td>\n",
       "    </tr>\n",
       "    <tr>\n",
       "      <th>503</th>\n",
       "      <td>2100-09-03</td>\n",
       "      <td>114745</td>\n",
       "      <td>POLYGON ((-0.6606464168469639 51.3536025022244...</td>\n",
       "      <td>-0.729412</td>\n",
       "      <td>51.264224</td>\n",
       "    </tr>\n",
       "    <tr>\n",
       "      <th>504</th>\n",
       "      <td>2100-09-04</td>\n",
       "      <td>52335</td>\n",
       "      <td>POLYGON ((25.37954893201933 58.88992456521223,...</td>\n",
       "      <td>25.196182</td>\n",
       "      <td>58.823591</td>\n",
       "    </tr>\n",
       "    <tr>\n",
       "      <th>505</th>\n",
       "      <td>2100-09-23</td>\n",
       "      <td>117308</td>\n",
       "      <td>POLYGON ((22.847779104589232 67.4966583723901,...</td>\n",
       "      <td>22.715472</td>\n",
       "      <td>67.446889</td>\n",
       "    </tr>\n",
       "  </tbody>\n",
       "</table>\n",
       "<p>506 rows × 5 columns</p>\n",
       "</div>"
      ],
      "text/plain": [
       "           date      id                                           geometry  \\\n",
       "0    2081-09-11   39536  POLYGON ((16.5268307450926 63.1243628559109, 1...   \n",
       "1    2082-06-02  116727  POLYGON ((19.293547865442893 63.70849866995484...   \n",
       "2    2082-06-03   53900  POLYGON ((29.51769723741128 63.86060985796274,...   \n",
       "3    2082-06-04   47141  POLYGON ((25.27881752121746 67.20736687717341,...   \n",
       "4    2082-06-06  118945  POLYGON ((25.04685002102077 55.62481800255893,...   \n",
       "..          ...     ...                                                ...   \n",
       "501  2100-09-01   38373  POLYGON ((15.594475768044058 63.43258138591236...   \n",
       "502  2100-09-02   40686  POLYGON ((17.741474588286945 63.97492576542764...   \n",
       "503  2100-09-03  114745  POLYGON ((-0.6606464168469639 51.3536025022244...   \n",
       "504  2100-09-04   52335  POLYGON ((25.37954893201933 58.88992456521223,...   \n",
       "505  2100-09-23  117308  POLYGON ((22.847779104589232 67.4966583723901,...   \n",
       "\n",
       "           lon        lat  \n",
       "0    16.415614  63.105750  \n",
       "1    19.233855  63.698824  \n",
       "2    29.342519  63.843703  \n",
       "3    25.210371  67.172429  \n",
       "4    24.986162  55.592318  \n",
       "..         ...        ...  \n",
       "501  15.412258  63.388399  \n",
       "502  17.590500  63.901787  \n",
       "503  -0.729412  51.264224  \n",
       "504  25.196182  58.823591  \n",
       "505  22.715472  67.446889  \n",
       "\n",
       "[506 rows x 5 columns]"
      ]
     },
     "execution_count": 191,
     "metadata": {},
     "output_type": "execute_result"
    }
   ],
   "source": [
    "df_ignition"
   ]
  },
  {
   "cell_type": "markdown",
   "id": "1a0b1944-c087-4624-8ba4-6557f8643964",
   "metadata": {},
   "source": [
    "#### Save list of points"
   ]
  },
  {
   "cell_type": "code",
   "execution_count": 192,
   "id": "17682f9e-8dce-43a8-89ae-1984c6e13173",
   "metadata": {},
   "outputs": [],
   "source": [
    "path = \"O:/Climate-and-Energy-Policy/CERM/Projects/Wildfire/Data/\"+ folder + \"/\""
   ]
  },
  {
   "cell_type": "code",
   "execution_count": 134,
   "id": "75ecfd03-6dd7-472b-b5ea-8434dd63bb97",
   "metadata": {},
   "outputs": [],
   "source": [
    "if mid_century == True:\n",
    "    start_year = 2041\n",
    "    end_year = 2060"
   ]
  },
  {
   "cell_type": "code",
   "execution_count": 135,
   "id": "381c45fd-bcac-479a-88fb-c8ae8daa4808",
   "metadata": {},
   "outputs": [],
   "source": [
    "if save == True:\n",
    "    df_ignition.drop(columns = ['id', 'geometry']).to_csv(path + 'results/ignition-selection/fire-season-ignition-points-' + str(start_year) + '-' + str(end_year) + '-' + select_type + '07_climex_' + ens +  '_ssp2.csv')"
   ]
  },
  {
   "cell_type": "markdown",
   "id": "3d55d579-a750-47c1-8545-aeab27584dba",
   "metadata": {},
   "source": [
    "### 4. Visualise results "
   ]
  },
  {
   "cell_type": "markdown",
   "id": "d83e825f-d475-4694-ae32-b9b0bffb94c6",
   "metadata": {},
   "source": [
    "#### Groupd by id and counter the number of fires per id"
   ]
  },
  {
   "cell_type": "code",
   "execution_count": 193,
   "id": "444cf8a2-509e-4e93-b199-35030dc3c0a7",
   "metadata": {},
   "outputs": [
    {
     "data": {
      "text/plain": [
       "486"
      ]
     },
     "execution_count": 193,
     "metadata": {},
     "output_type": "execute_result"
    }
   ],
   "source": [
    "new_data = df_ignition.groupby('id').size().reset_index(name='count')\n",
    "len(new_data)"
   ]
  },
  {
   "cell_type": "code",
   "execution_count": 194,
   "id": "7b0f48ca-8c56-48f4-be26-a207a130376d",
   "metadata": {},
   "outputs": [],
   "source": [
    "for i, row in new_data.iterrows():\n",
    "    new_data.loc[i, 'geometry'] = grid.loc[row.id, :].geometry\n",
    "\n"
   ]
  },
  {
   "cell_type": "code",
   "execution_count": 195,
   "id": "3251ac81-9d63-49b5-84a9-ad0f0065d7a1",
   "metadata": {},
   "outputs": [],
   "source": [
    "new_data = gpd.GeoDataFrame(new_data, geometry=new_data[\"geometry\"])\n"
   ]
  },
  {
   "cell_type": "code",
   "execution_count": 196,
   "id": "c71c184b-c22b-4f43-8434-f61acdf69baf",
   "metadata": {},
   "outputs": [
    {
     "data": {
      "image/png": "[encoded data removed]",
      "text/plain": [
       "<Figure size 1500x600 with 2 Axes>"
      ]
     },
     "metadata": {},
     "output_type": "display_data"
    }
   ],
   "source": [
    "fig, ax = plt.subplots(figsize = (15, 6))\n",
    "grid.plot(color = 'lightgrey', ax = ax, zorder = 0)\n",
    "new_data.plot('count', ax = ax, cmap = 'YlOrRd', legend = True, vmin = 1, vmax = 5, legend_kwds={\n",
    "        \"shrink\":.5   },)\n",
    "#fires.plot(ax = ax,  color = 'k', zorder = 10)\n",
    "if select_type == 'dice':\n",
    "    ax.set_title(select_type, fontsize = 12)\n",
    "else:\n",
    "   ax.set_title('SSP2 ' + ens + ' ' + select_type + ' ' + str(prob) +' ' + str(start_year) + '-' + str(end_year) + ' - ' + str(len(df_ignition)) + '  fires - ' + str(len(new_data)) + ' spread' , fontsize = 16)\n",
    "#\n",
    "ax.set_axis_off()"
   ]
  },
  {
   "cell_type": "code",
   "execution_count": null,
   "id": "fb2d2870-9e28-4239-9bf9-2e120c2e7f88",
   "metadata": {},
   "outputs": [],
   "source": []
  }
 ],
 "metadata": {
  "kernelspec": {
   "display_name": "Python 3 (ipykernel)",
   "language": "python",
   "name": "python3"
  },
  "language_info": {
   "codemirror_mode": {
    "name": "ipython",
    "version": 3
   },
   "file_extension": ".py",
   "mimetype": "text/x-python",
   "name": "python",
   "nbconvert_exporter": "python",
   "pygments_lexer": "ipython3",
   "version": "3.12.5"
  }
 },
 "nbformat": 4,
 "nbformat_minor": 5
}
