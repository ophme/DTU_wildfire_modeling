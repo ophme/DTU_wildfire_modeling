{
 "cells": [
  {
   "cell_type": "code",
   "execution_count": 1,
   "id": "3c780d74-5f9e-41c6-8501-3448d7f2188d",
   "metadata": {},
   "outputs": [],
   "source": [
    "import numpy as np\n",
    "from metpy.calc import relative_humidity_from_dewpoint\n",
    "from metpy.units import units\n",
    "import xarray as xr\n",
    "import os.path\n",
    "import sys\n",
    "# Need to append the path to import the regrid function\n",
    "sys.path.append('C:/Users/ophme/Documents/wildfire-repo/climate-process/climate-calc/')\n",
    "from regrid import *\n",
    "import glob\n",
    "import xarray as xr\n",
    "import numpy as np\n",
    "from dask.distributed import LocalCluster\n",
    "from ibicus.debias import LinearScaling, DeltaChange, QuantileMapping, CDFt, ISIMIP, ScaledDistributionMapping\n",
    "import time\n",
    "import dask.array as da \n",
    "import os"
   ]
  },
  {
   "cell_type": "code",
   "execution_count": 2,
   "id": "7d424e8b-5e7f-44b8-a9be-3bc2d183a41f",
   "metadata": {},
   "outputs": [
    {
     "name": "stderr",
     "output_type": "stream",
     "text": [
      "C:\\Users\\ophme\\AppData\\Local\\anaconda3\\envs\\wildfire\\Lib\\site-packages\\distributed\\node.py:182: UserWarning: Port 8787 is already in use.\n",
      "Perhaps you already have a cluster running?\n",
      "Hosting the HTTP server on port 53649 instead\n",
      "  warnings.warn(\n"
     ]
    }
   ],
   "source": [
    "# Used for visualisation purposes\n",
    "client = LocalCluster().get_client()"
   ]
  },
  {
   "cell_type": "code",
   "execution_count": 3,
   "id": "ff2a7fc2-2dc0-4d91-ab90-ac3621ada286",
   "metadata": {},
   "outputs": [
    {
     "data": {
      "text/html": [
       "<div>\n",
       "    <div style=\"width: 24px; height: 24px; background-color: #e1e1e1; border: 3px solid #9D9D9D; border-radius: 5px; position: absolute;\"> </div>\n",
       "    <div style=\"margin-left: 48px;\">\n",
       "        <h3 style=\"margin-bottom: 0px;\">Client</h3>\n",
       "        <p style=\"color: #9D9D9D; margin-bottom: 0px;\">Client-77f5468f-f41c-11ef-add0-2c58b90f503d</p>\n",
       "        <table style=\"width: 100%; text-align: left;\">\n",
       "\n",
       "        <tr>\n",
       "        \n",
       "            <td style=\"text-align: left;\"><strong>Connection method:</strong> Cluster object</td>\n",
       "            <td style=\"text-align: left;\"><strong>Cluster type:</strong> distributed.LocalCluster</td>\n",
       "        \n",
       "        </tr>\n",
       "\n",
       "        \n",
       "            <tr>\n",
       "                <td style=\"text-align: left;\">\n",
       "                    <strong>Dashboard: </strong> <a href=\"http://127.0.0.1:53649/status\" target=\"_blank\">http://127.0.0.1:53649/status</a>\n",
       "                </td>\n",
       "                <td style=\"text-align: left;\"></td>\n",
       "            </tr>\n",
       "        \n",
       "\n",
       "        </table>\n",
       "\n",
       "        \n",
       "\n",
       "        \n",
       "            <details>\n",
       "            <summary style=\"margin-bottom: 20px;\"><h3 style=\"display: inline;\">Cluster Info</h3></summary>\n",
       "            <div class=\"jp-RenderedHTMLCommon jp-RenderedHTML jp-mod-trusted jp-OutputArea-output\">\n",
       "    <div style=\"width: 24px; height: 24px; background-color: #e1e1e1; border: 3px solid #9D9D9D; border-radius: 5px; position: absolute;\">\n",
       "    </div>\n",
       "    <div style=\"margin-left: 48px;\">\n",
       "        <h3 style=\"margin-bottom: 0px; margin-top: 0px;\">LocalCluster</h3>\n",
       "        <p style=\"color: #9D9D9D; margin-bottom: 0px;\">0a59bc90</p>\n",
       "        <table style=\"width: 100%; text-align: left;\">\n",
       "            <tr>\n",
       "                <td style=\"text-align: left;\">\n",
       "                    <strong>Dashboard:</strong> <a href=\"http://127.0.0.1:53649/status\" target=\"_blank\">http://127.0.0.1:53649/status</a>\n",
       "                </td>\n",
       "                <td style=\"text-align: left;\">\n",
       "                    <strong>Workers:</strong> 4\n",
       "                </td>\n",
       "            </tr>\n",
       "            <tr>\n",
       "                <td style=\"text-align: left;\">\n",
       "                    <strong>Total threads:</strong> 12\n",
       "                </td>\n",
       "                <td style=\"text-align: left;\">\n",
       "                    <strong>Total memory:</strong> 31.65 GiB\n",
       "                </td>\n",
       "            </tr>\n",
       "            \n",
       "            <tr>\n",
       "    <td style=\"text-align: left;\"><strong>Status:</strong> running</td>\n",
       "    <td style=\"text-align: left;\"><strong>Using processes:</strong> True</td>\n",
       "</tr>\n",
       "\n",
       "            \n",
       "        </table>\n",
       "\n",
       "        <details>\n",
       "            <summary style=\"margin-bottom: 20px;\">\n",
       "                <h3 style=\"display: inline;\">Scheduler Info</h3>\n",
       "            </summary>\n",
       "\n",
       "            <div style=\"\">\n",
       "    <div>\n",
       "        <div style=\"width: 24px; height: 24px; background-color: #FFF7E5; border: 3px solid #FF6132; border-radius: 5px; position: absolute;\"> </div>\n",
       "        <div style=\"margin-left: 48px;\">\n",
       "            <h3 style=\"margin-bottom: 0px;\">Scheduler</h3>\n",
       "            <p style=\"color: #9D9D9D; margin-bottom: 0px;\">Scheduler-d17ae67d-c779-4e14-8188-ab2795fc6cdd</p>\n",
       "            <table style=\"width: 100%; text-align: left;\">\n",
       "                <tr>\n",
       "                    <td style=\"text-align: left;\">\n",
       "                        <strong>Comm:</strong> tcp://127.0.0.1:53650\n",
       "                    </td>\n",
       "                    <td style=\"text-align: left;\">\n",
       "                        <strong>Workers:</strong> 4\n",
       "                    </td>\n",
       "                </tr>\n",
       "                <tr>\n",
       "                    <td style=\"text-align: left;\">\n",
       "                        <strong>Dashboard:</strong> <a href=\"http://127.0.0.1:53649/status\" target=\"_blank\">http://127.0.0.1:53649/status</a>\n",
       "                    </td>\n",
       "                    <td style=\"text-align: left;\">\n",
       "                        <strong>Total threads:</strong> 12\n",
       "                    </td>\n",
       "                </tr>\n",
       "                <tr>\n",
       "                    <td style=\"text-align: left;\">\n",
       "                        <strong>Started:</strong> Just now\n",
       "                    </td>\n",
       "                    <td style=\"text-align: left;\">\n",
       "                        <strong>Total memory:</strong> 31.65 GiB\n",
       "                    </td>\n",
       "                </tr>\n",
       "            </table>\n",
       "        </div>\n",
       "    </div>\n",
       "\n",
       "    <details style=\"margin-left: 48px;\">\n",
       "        <summary style=\"margin-bottom: 20px;\">\n",
       "            <h3 style=\"display: inline;\">Workers</h3>\n",
       "        </summary>\n",
       "\n",
       "        \n",
       "        <div style=\"margin-bottom: 20px;\">\n",
       "            <div style=\"width: 24px; height: 24px; background-color: #DBF5FF; border: 3px solid #4CC9FF; border-radius: 5px; position: absolute;\"> </div>\n",
       "            <div style=\"margin-left: 48px;\">\n",
       "            <details>\n",
       "                <summary>\n",
       "                    <h4 style=\"margin-bottom: 0px; display: inline;\">Worker: 0</h4>\n",
       "                </summary>\n",
       "                <table style=\"width: 100%; text-align: left;\">\n",
       "                    <tr>\n",
       "                        <td style=\"text-align: left;\">\n",
       "                            <strong>Comm: </strong> tcp://127.0.0.1:53676\n",
       "                        </td>\n",
       "                        <td style=\"text-align: left;\">\n",
       "                            <strong>Total threads: </strong> 3\n",
       "                        </td>\n",
       "                    </tr>\n",
       "                    <tr>\n",
       "                        <td style=\"text-align: left;\">\n",
       "                            <strong>Dashboard: </strong> <a href=\"http://127.0.0.1:53679/status\" target=\"_blank\">http://127.0.0.1:53679/status</a>\n",
       "                        </td>\n",
       "                        <td style=\"text-align: left;\">\n",
       "                            <strong>Memory: </strong> 7.91 GiB\n",
       "                        </td>\n",
       "                    </tr>\n",
       "                    <tr>\n",
       "                        <td style=\"text-align: left;\">\n",
       "                            <strong>Nanny: </strong> tcp://127.0.0.1:53653\n",
       "                        </td>\n",
       "                        <td style=\"text-align: left;\"></td>\n",
       "                    </tr>\n",
       "                    <tr>\n",
       "                        <td colspan=\"2\" style=\"text-align: left;\">\n",
       "                            <strong>Local directory: </strong> C:\\Users\\ophme\\AppData\\Local\\Temp\\dask-scratch-space\\worker-xxf94ygc\n",
       "                        </td>\n",
       "                    </tr>\n",
       "\n",
       "                    \n",
       "\n",
       "                    \n",
       "\n",
       "                </table>\n",
       "            </details>\n",
       "            </div>\n",
       "        </div>\n",
       "        \n",
       "        <div style=\"margin-bottom: 20px;\">\n",
       "            <div style=\"width: 24px; height: 24px; background-color: #DBF5FF; border: 3px solid #4CC9FF; border-radius: 5px; position: absolute;\"> </div>\n",
       "            <div style=\"margin-left: 48px;\">\n",
       "            <details>\n",
       "                <summary>\n",
       "                    <h4 style=\"margin-bottom: 0px; display: inline;\">Worker: 1</h4>\n",
       "                </summary>\n",
       "                <table style=\"width: 100%; text-align: left;\">\n",
       "                    <tr>\n",
       "                        <td style=\"text-align: left;\">\n",
       "                            <strong>Comm: </strong> tcp://127.0.0.1:53669\n",
       "                        </td>\n",
       "                        <td style=\"text-align: left;\">\n",
       "                            <strong>Total threads: </strong> 3\n",
       "                        </td>\n",
       "                    </tr>\n",
       "                    <tr>\n",
       "                        <td style=\"text-align: left;\">\n",
       "                            <strong>Dashboard: </strong> <a href=\"http://127.0.0.1:53672/status\" target=\"_blank\">http://127.0.0.1:53672/status</a>\n",
       "                        </td>\n",
       "                        <td style=\"text-align: left;\">\n",
       "                            <strong>Memory: </strong> 7.91 GiB\n",
       "                        </td>\n",
       "                    </tr>\n",
       "                    <tr>\n",
       "                        <td style=\"text-align: left;\">\n",
       "                            <strong>Nanny: </strong> tcp://127.0.0.1:53655\n",
       "                        </td>\n",
       "                        <td style=\"text-align: left;\"></td>\n",
       "                    </tr>\n",
       "                    <tr>\n",
       "                        <td colspan=\"2\" style=\"text-align: left;\">\n",
       "                            <strong>Local directory: </strong> C:\\Users\\ophme\\AppData\\Local\\Temp\\dask-scratch-space\\worker-sr3p1hj2\n",
       "                        </td>\n",
       "                    </tr>\n",
       "\n",
       "                    \n",
       "\n",
       "                    \n",
       "\n",
       "                </table>\n",
       "            </details>\n",
       "            </div>\n",
       "        </div>\n",
       "        \n",
       "        <div style=\"margin-bottom: 20px;\">\n",
       "            <div style=\"width: 24px; height: 24px; background-color: #DBF5FF; border: 3px solid #4CC9FF; border-radius: 5px; position: absolute;\"> </div>\n",
       "            <div style=\"margin-left: 48px;\">\n",
       "            <details>\n",
       "                <summary>\n",
       "                    <h4 style=\"margin-bottom: 0px; display: inline;\">Worker: 2</h4>\n",
       "                </summary>\n",
       "                <table style=\"width: 100%; text-align: left;\">\n",
       "                    <tr>\n",
       "                        <td style=\"text-align: left;\">\n",
       "                            <strong>Comm: </strong> tcp://127.0.0.1:53670\n",
       "                        </td>\n",
       "                        <td style=\"text-align: left;\">\n",
       "                            <strong>Total threads: </strong> 3\n",
       "                        </td>\n",
       "                    </tr>\n",
       "                    <tr>\n",
       "                        <td style=\"text-align: left;\">\n",
       "                            <strong>Dashboard: </strong> <a href=\"http://127.0.0.1:53674/status\" target=\"_blank\">http://127.0.0.1:53674/status</a>\n",
       "                        </td>\n",
       "                        <td style=\"text-align: left;\">\n",
       "                            <strong>Memory: </strong> 7.91 GiB\n",
       "                        </td>\n",
       "                    </tr>\n",
       "                    <tr>\n",
       "                        <td style=\"text-align: left;\">\n",
       "                            <strong>Nanny: </strong> tcp://127.0.0.1:53657\n",
       "                        </td>\n",
       "                        <td style=\"text-align: left;\"></td>\n",
       "                    </tr>\n",
       "                    <tr>\n",
       "                        <td colspan=\"2\" style=\"text-align: left;\">\n",
       "                            <strong>Local directory: </strong> C:\\Users\\ophme\\AppData\\Local\\Temp\\dask-scratch-space\\worker-lcvwkihy\n",
       "                        </td>\n",
       "                    </tr>\n",
       "\n",
       "                    \n",
       "\n",
       "                    \n",
       "\n",
       "                </table>\n",
       "            </details>\n",
       "            </div>\n",
       "        </div>\n",
       "        \n",
       "        <div style=\"margin-bottom: 20px;\">\n",
       "            <div style=\"width: 24px; height: 24px; background-color: #DBF5FF; border: 3px solid #4CC9FF; border-radius: 5px; position: absolute;\"> </div>\n",
       "            <div style=\"margin-left: 48px;\">\n",
       "            <details>\n",
       "                <summary>\n",
       "                    <h4 style=\"margin-bottom: 0px; display: inline;\">Worker: 3</h4>\n",
       "                </summary>\n",
       "                <table style=\"width: 100%; text-align: left;\">\n",
       "                    <tr>\n",
       "                        <td style=\"text-align: left;\">\n",
       "                            <strong>Comm: </strong> tcp://127.0.0.1:53671\n",
       "                        </td>\n",
       "                        <td style=\"text-align: left;\">\n",
       "                            <strong>Total threads: </strong> 3\n",
       "                        </td>\n",
       "                    </tr>\n",
       "                    <tr>\n",
       "                        <td style=\"text-align: left;\">\n",
       "                            <strong>Dashboard: </strong> <a href=\"http://127.0.0.1:53677/status\" target=\"_blank\">http://127.0.0.1:53677/status</a>\n",
       "                        </td>\n",
       "                        <td style=\"text-align: left;\">\n",
       "                            <strong>Memory: </strong> 7.91 GiB\n",
       "                        </td>\n",
       "                    </tr>\n",
       "                    <tr>\n",
       "                        <td style=\"text-align: left;\">\n",
       "                            <strong>Nanny: </strong> tcp://127.0.0.1:53659\n",
       "                        </td>\n",
       "                        <td style=\"text-align: left;\"></td>\n",
       "                    </tr>\n",
       "                    <tr>\n",
       "                        <td colspan=\"2\" style=\"text-align: left;\">\n",
       "                            <strong>Local directory: </strong> C:\\Users\\ophme\\AppData\\Local\\Temp\\dask-scratch-space\\worker-594i590q\n",
       "                        </td>\n",
       "                    </tr>\n",
       "\n",
       "                    \n",
       "\n",
       "                    \n",
       "\n",
       "                </table>\n",
       "            </details>\n",
       "            </div>\n",
       "        </div>\n",
       "        \n",
       "\n",
       "    </details>\n",
       "</div>\n",
       "\n",
       "        </details>\n",
       "    </div>\n",
       "</div>\n",
       "            </details>\n",
       "        \n",
       "\n",
       "    </div>\n",
       "</div>"
      ],
      "text/plain": [
       "<Client: 'tcp://127.0.0.1:53650' processes=4 threads=12, memory=31.65 GiB>"
      ]
     },
     "execution_count": 3,
     "metadata": {},
     "output_type": "execute_result"
    }
   ],
   "source": [
    "client"
   ]
  },
  {
   "cell_type": "markdown",
   "id": "a860b391-ce6a-4bf8-896e-39d0d88869bd",
   "metadata": {},
   "source": [
    "### 1. Regrid"
   ]
  },
  {
   "cell_type": "markdown",
   "id": "39dbde31-35bf-4f2d-a302-bded9f6ab2cd",
   "metadata": {},
   "source": [
    "#### Open files for regridding\n",
    "A temperature file from ERA5-land and from Climex is used here to create the regridder. \n",
    "\n",
    "The files are not needed afterwards."
   ]
  },
  {
   "cell_type": "code",
   "execution_count": 4,
   "id": "3f80c833-a797-4711-877e-1ee24bd2e0ff",
   "metadata": {},
   "outputs": [],
   "source": [
    "path = \"O:/Climate-and-Energy-Policy/CERM/Projects/Wildfire/Data/CLIMEX2/fwi/eoo/\"\n",
    "files = glob.glob(path + '*')\n",
    "files = sorted(files)[:1] # Only 1 files as this is just for regridding purposes \n",
    "#datasets = [xr.open_dataset(file_path).sel(rlat = slice(rlat1, rlat2), rlon = slice(-(360-rlon1), -(360-rlon2))) for file_path in files]\n",
    "ds_out = xr.open_dataset('O:/Public/sharing-4270-CERM/VLYMI/CLIMEX2/GlobusDownload/ClimExII_4_Friends/ClimExII_4_Friends/sftof_eoo_206400_se.nc')"
   ]
  },
  {
   "cell_type": "code",
   "execution_count": 5,
   "id": "64696b17-b146-4126-8586-d1c70f5f5abf",
   "metadata": {},
   "outputs": [
    {
     "data": {
      "text/html": [
       "<div><svg style=\"position: absolute; width: 0; height: 0; overflow: hidden\">\n",
       "<defs>\n",
       "<symbol id=\"icon-database\" viewBox=\"0 0 32 32\">\n",
       "<path d=\"M16 0c-8.837 0-16 2.239-16 5v4c0 2.761 7.163 5 16 5s16-2.239 16-5v-4c0-2.761-7.163-5-16-5z\"></path>\n",
       "<path d=\"M16 17c-8.837 0-16-2.239-16-5v6c0 2.761 7.163 5 16 5s16-2.239 16-5v-6c0 2.761-7.163 5-16 5z\"></path>\n",
       "<path d=\"M16 26c-8.837 0-16-2.239-16-5v6c0 2.761 7.163 5 16 5s16-2.239 16-5v-6c0 2.761-7.163 5-16 5z\"></path>\n",
       "</symbol>\n",
       "<symbol id=\"icon-file-text2\" viewBox=\"0 0 32 32\">\n",
       "<path d=\"M28.681 7.159c-0.694-0.947-1.662-2.053-2.724-3.116s-2.169-2.030-3.116-2.724c-1.612-1.182-2.393-1.319-2.841-1.319h-15.5c-1.378 0-2.5 1.121-2.5 2.5v27c0 1.378 1.122 2.5 2.5 2.5h23c1.378 0 2.5-1.122 2.5-2.5v-19.5c0-0.448-0.137-1.23-1.319-2.841zM24.543 5.457c0.959 0.959 1.712 1.825 2.268 2.543h-4.811v-4.811c0.718 0.556 1.584 1.309 2.543 2.268zM28 29.5c0 0.271-0.229 0.5-0.5 0.5h-23c-0.271 0-0.5-0.229-0.5-0.5v-27c0-0.271 0.229-0.5 0.5-0.5 0 0 15.499-0 15.5 0v7c0 0.552 0.448 1 1 1h7v19.5z\"></path>\n",
       "<path d=\"M23 26h-14c-0.552 0-1-0.448-1-1s0.448-1 1-1h14c0.552 0 1 0.448 1 1s-0.448 1-1 1z\"></path>\n",
       "<path d=\"M23 22h-14c-0.552 0-1-0.448-1-1s0.448-1 1-1h14c0.552 0 1 0.448 1 1s-0.448 1-1 1z\"></path>\n",
       "<path d=\"M23 18h-14c-0.552 0-1-0.448-1-1s0.448-1 1-1h14c0.552 0 1 0.448 1 1s-0.448 1-1 1z\"></path>\n",
       "</symbol>\n",
       "</defs>\n",
       "</svg>\n",
       "<style>/* CSS stylesheet for displaying xarray objects in jupyterlab.\n",
       " *\n",
       " */\n",
       "\n",
       ":root {\n",
       "  --xr-font-color0: var(--jp-content-font-color0, rgba(0, 0, 0, 1));\n",
       "  --xr-font-color2: var(--jp-content-font-color2, rgba(0, 0, 0, 0.54));\n",
       "  --xr-font-color3: var(--jp-content-font-color3, rgba(0, 0, 0, 0.38));\n",
       "  --xr-border-color: var(--jp-border-color2, #e0e0e0);\n",
       "  --xr-disabled-color: var(--jp-layout-color3, #bdbdbd);\n",
       "  --xr-background-color: var(--jp-layout-color0, white);\n",
       "  --xr-background-color-row-even: var(--jp-layout-color1, white);\n",
       "  --xr-background-color-row-odd: var(--jp-layout-color2, #eeeeee);\n",
       "}\n",
       "\n",
       "html[theme=dark],\n",
       "html[data-theme=dark],\n",
       "body[data-theme=dark],\n",
       "body.vscode-dark {\n",
       "  --xr-font-color0: rgba(255, 255, 255, 1);\n",
       "  --xr-font-color2: rgba(255, 255, 255, 0.54);\n",
       "  --xr-font-color3: rgba(255, 255, 255, 0.38);\n",
       "  --xr-border-color: #1F1F1F;\n",
       "  --xr-disabled-color: #515151;\n",
       "  --xr-background-color: #111111;\n",
       "  --xr-background-color-row-even: #111111;\n",
       "  --xr-background-color-row-odd: #313131;\n",
       "}\n",
       "\n",
       ".xr-wrap {\n",
       "  display: block !important;\n",
       "  min-width: 300px;\n",
       "  max-width: 700px;\n",
       "}\n",
       "\n",
       ".xr-text-repr-fallback {\n",
       "  /* fallback to plain text repr when CSS is not injected (untrusted notebook) */\n",
       "  display: none;\n",
       "}\n",
       "\n",
       ".xr-header {\n",
       "  padding-top: 6px;\n",
       "  padding-bottom: 6px;\n",
       "  margin-bottom: 4px;\n",
       "  border-bottom: solid 1px var(--xr-border-color);\n",
       "}\n",
       "\n",
       ".xr-header > div,\n",
       ".xr-header > ul {\n",
       "  display: inline;\n",
       "  margin-top: 0;\n",
       "  margin-bottom: 0;\n",
       "}\n",
       "\n",
       ".xr-obj-type,\n",
       ".xr-array-name {\n",
       "  margin-left: 2px;\n",
       "  margin-right: 10px;\n",
       "}\n",
       "\n",
       ".xr-obj-type {\n",
       "  color: var(--xr-font-color2);\n",
       "}\n",
       "\n",
       ".xr-sections {\n",
       "  padding-left: 0 !important;\n",
       "  display: grid;\n",
       "  grid-template-columns: 150px auto auto 1fr 20px 20px;\n",
       "}\n",
       "\n",
       ".xr-section-item {\n",
       "  display: contents;\n",
       "}\n",
       "\n",
       ".xr-section-item input {\n",
       "  display: none;\n",
       "}\n",
       "\n",
       ".xr-section-item input + label {\n",
       "  color: var(--xr-disabled-color);\n",
       "}\n",
       "\n",
       ".xr-section-item input:enabled + label {\n",
       "  cursor: pointer;\n",
       "  color: var(--xr-font-color2);\n",
       "}\n",
       "\n",
       ".xr-section-item input:enabled + label:hover {\n",
       "  color: var(--xr-font-color0);\n",
       "}\n",
       "\n",
       ".xr-section-summary {\n",
       "  grid-column: 1;\n",
       "  color: var(--xr-font-color2);\n",
       "  font-weight: 500;\n",
       "}\n",
       "\n",
       ".xr-section-summary > span {\n",
       "  display: inline-block;\n",
       "  padding-left: 0.5em;\n",
       "}\n",
       "\n",
       ".xr-section-summary-in:disabled + label {\n",
       "  color: var(--xr-font-color2);\n",
       "}\n",
       "\n",
       ".xr-section-summary-in + label:before {\n",
       "  display: inline-block;\n",
       "  content: '►';\n",
       "  font-size: 11px;\n",
       "  width: 15px;\n",
       "  text-align: center;\n",
       "}\n",
       "\n",
       ".xr-section-summary-in:disabled + label:before {\n",
       "  color: var(--xr-disabled-color);\n",
       "}\n",
       "\n",
       ".xr-section-summary-in:checked + label:before {\n",
       "  content: '▼';\n",
       "}\n",
       "\n",
       ".xr-section-summary-in:checked + label > span {\n",
       "  display: none;\n",
       "}\n",
       "\n",
       ".xr-section-summary,\n",
       ".xr-section-inline-details {\n",
       "  padding-top: 4px;\n",
       "  padding-bottom: 4px;\n",
       "}\n",
       "\n",
       ".xr-section-inline-details {\n",
       "  grid-column: 2 / -1;\n",
       "}\n",
       "\n",
       ".xr-section-details {\n",
       "  display: none;\n",
       "  grid-column: 1 / -1;\n",
       "  margin-bottom: 5px;\n",
       "}\n",
       "\n",
       ".xr-section-summary-in:checked ~ .xr-section-details {\n",
       "  display: contents;\n",
       "}\n",
       "\n",
       ".xr-array-wrap {\n",
       "  grid-column: 1 / -1;\n",
       "  display: grid;\n",
       "  grid-template-columns: 20px auto;\n",
       "}\n",
       "\n",
       ".xr-array-wrap > label {\n",
       "  grid-column: 1;\n",
       "  vertical-align: top;\n",
       "}\n",
       "\n",
       ".xr-preview {\n",
       "  color: var(--xr-font-color3);\n",
       "}\n",
       "\n",
       ".xr-array-preview,\n",
       ".xr-array-data {\n",
       "  padding: 0 5px !important;\n",
       "  grid-column: 2;\n",
       "}\n",
       "\n",
       ".xr-array-data,\n",
       ".xr-array-in:checked ~ .xr-array-preview {\n",
       "  display: none;\n",
       "}\n",
       "\n",
       ".xr-array-in:checked ~ .xr-array-data,\n",
       ".xr-array-preview {\n",
       "  display: inline-block;\n",
       "}\n",
       "\n",
       ".xr-dim-list {\n",
       "  display: inline-block !important;\n",
       "  list-style: none;\n",
       "  padding: 0 !important;\n",
       "  margin: 0;\n",
       "}\n",
       "\n",
       ".xr-dim-list li {\n",
       "  display: inline-block;\n",
       "  padding: 0;\n",
       "  margin: 0;\n",
       "}\n",
       "\n",
       ".xr-dim-list:before {\n",
       "  content: '(';\n",
       "}\n",
       "\n",
       ".xr-dim-list:after {\n",
       "  content: ')';\n",
       "}\n",
       "\n",
       ".xr-dim-list li:not(:last-child):after {\n",
       "  content: ',';\n",
       "  padding-right: 5px;\n",
       "}\n",
       "\n",
       ".xr-has-index {\n",
       "  font-weight: bold;\n",
       "}\n",
       "\n",
       ".xr-var-list,\n",
       ".xr-var-item {\n",
       "  display: contents;\n",
       "}\n",
       "\n",
       ".xr-var-item > div,\n",
       ".xr-var-item label,\n",
       ".xr-var-item > .xr-var-name span {\n",
       "  background-color: var(--xr-background-color-row-even);\n",
       "  margin-bottom: 0;\n",
       "}\n",
       "\n",
       ".xr-var-item > .xr-var-name:hover span {\n",
       "  padding-right: 5px;\n",
       "}\n",
       "\n",
       ".xr-var-list > li:nth-child(odd) > div,\n",
       ".xr-var-list > li:nth-child(odd) > label,\n",
       ".xr-var-list > li:nth-child(odd) > .xr-var-name span {\n",
       "  background-color: var(--xr-background-color-row-odd);\n",
       "}\n",
       "\n",
       ".xr-var-name {\n",
       "  grid-column: 1;\n",
       "}\n",
       "\n",
       ".xr-var-dims {\n",
       "  grid-column: 2;\n",
       "}\n",
       "\n",
       ".xr-var-dtype {\n",
       "  grid-column: 3;\n",
       "  text-align: right;\n",
       "  color: var(--xr-font-color2);\n",
       "}\n",
       "\n",
       ".xr-var-preview {\n",
       "  grid-column: 4;\n",
       "}\n",
       "\n",
       ".xr-index-preview {\n",
       "  grid-column: 2 / 5;\n",
       "  color: var(--xr-font-color2);\n",
       "}\n",
       "\n",
       ".xr-var-name,\n",
       ".xr-var-dims,\n",
       ".xr-var-dtype,\n",
       ".xr-preview,\n",
       ".xr-attrs dt {\n",
       "  white-space: nowrap;\n",
       "  overflow: hidden;\n",
       "  text-overflow: ellipsis;\n",
       "  padding-right: 10px;\n",
       "}\n",
       "\n",
       ".xr-var-name:hover,\n",
       ".xr-var-dims:hover,\n",
       ".xr-var-dtype:hover,\n",
       ".xr-attrs dt:hover {\n",
       "  overflow: visible;\n",
       "  width: auto;\n",
       "  z-index: 1;\n",
       "}\n",
       "\n",
       ".xr-var-attrs,\n",
       ".xr-var-data,\n",
       ".xr-index-data {\n",
       "  display: none;\n",
       "  background-color: var(--xr-background-color) !important;\n",
       "  padding-bottom: 5px !important;\n",
       "}\n",
       "\n",
       ".xr-var-attrs-in:checked ~ .xr-var-attrs,\n",
       ".xr-var-data-in:checked ~ .xr-var-data,\n",
       ".xr-index-data-in:checked ~ .xr-index-data {\n",
       "  display: block;\n",
       "}\n",
       "\n",
       ".xr-var-data > table {\n",
       "  float: right;\n",
       "}\n",
       "\n",
       ".xr-var-name span,\n",
       ".xr-var-data,\n",
       ".xr-index-name div,\n",
       ".xr-index-data,\n",
       ".xr-attrs {\n",
       "  padding-left: 25px !important;\n",
       "}\n",
       "\n",
       ".xr-attrs,\n",
       ".xr-var-attrs,\n",
       ".xr-var-data,\n",
       ".xr-index-data {\n",
       "  grid-column: 1 / -1;\n",
       "}\n",
       "\n",
       "dl.xr-attrs {\n",
       "  padding: 0;\n",
       "  margin: 0;\n",
       "  display: grid;\n",
       "  grid-template-columns: 125px auto;\n",
       "}\n",
       "\n",
       ".xr-attrs dt,\n",
       ".xr-attrs dd {\n",
       "  padding: 0;\n",
       "  margin: 0;\n",
       "  float: left;\n",
       "  padding-right: 10px;\n",
       "  width: auto;\n",
       "}\n",
       "\n",
       ".xr-attrs dt {\n",
       "  font-weight: normal;\n",
       "  grid-column: 1;\n",
       "}\n",
       "\n",
       ".xr-attrs dt:hover span {\n",
       "  display: inline-block;\n",
       "  background: var(--xr-background-color);\n",
       "  padding-right: 10px;\n",
       "}\n",
       "\n",
       ".xr-attrs dd {\n",
       "  grid-column: 2;\n",
       "  white-space: pre-wrap;\n",
       "  word-break: break-all;\n",
       "}\n",
       "\n",
       ".xr-icon-database,\n",
       ".xr-icon-file-text2,\n",
       ".xr-no-icon {\n",
       "  display: inline-block;\n",
       "  vertical-align: middle;\n",
       "  width: 1em;\n",
       "  height: 1.5em !important;\n",
       "  stroke-width: 0;\n",
       "  stroke: currentColor;\n",
       "  fill: currentColor;\n",
       "}\n",
       "</style><pre class='xr-text-repr-fallback'>&lt;xarray.Dataset&gt; Size: 5MB\n",
       "Dimensions:       (height: 1, rlat: 412, rlon: 460, time: 1)\n",
       "Coordinates:\n",
       "  * height        (height) float64 8B 0.0\n",
       "    lat           (rlat, rlon) float64 2MB ...\n",
       "    lon           (rlat, rlon) float64 2MB ...\n",
       "  * rlat          (rlat) float64 3kB -23.38 -23.27 -23.16 ... 21.61 21.73 21.83\n",
       "  * rlon          (rlon) float64 4kB -31.67 -31.56 -31.45 ... 18.6 18.71 18.82\n",
       "  * time          (time) datetime64[ns] 8B 2064-01-01\n",
       "Data variables:\n",
       "    rotated_pole  |S1 1B ...\n",
       "    sftof         (rlat, rlon) float64 2MB ...\n",
       "Attributes: (12/22)\n",
       "    Conventions:                    CF-1.6\n",
       "    contact:                        giguere.michel@ouranos.ca\n",
       "    comment:                        CRCM5 v3331 0.22 deg AMNO22d2 L56 S17-15m...\n",
       "    creation_date:                  2020-08-04 \n",
       "    experiment:                     simulation de reoorence \n",
       "    experiment_id:                  eoo \n",
       "    ...                             ...\n",
       "    ouranos_run_id:                 eoo OURALIB 1.5\n",
       "    product:                        output\n",
       "    reoorence:                      http://www.ouranos.ca\n",
       "    history:                        Thu Dec 22 15:48:10 2022: ncatted -a long...\n",
       "    NCO:                            netCDF Operators version 4.9.3 (Homepage ...\n",
       "    history_of_appended_files:      Thu Dec 22 15:48:10 2022: Appended file /...</pre><div class='xr-wrap' style='display:none'><div class='xr-header'><div class='xr-obj-type'>xarray.Dataset</div></div><ul class='xr-sections'><li class='xr-section-item'><input id='section-6e8e018d-a59b-457b-87d6-fecbb49caf04' class='xr-section-summary-in' type='checkbox' disabled ><label for='section-6e8e018d-a59b-457b-87d6-fecbb49caf04' class='xr-section-summary'  title='Expand/collapse section'>Dimensions:</label><div class='xr-section-inline-details'><ul class='xr-dim-list'><li><span class='xr-has-index'>height</span>: 1</li><li><span class='xr-has-index'>rlat</span>: 412</li><li><span class='xr-has-index'>rlon</span>: 460</li><li><span class='xr-has-index'>time</span>: 1</li></ul></div><div class='xr-section-details'></div></li><li class='xr-section-item'><input id='section-968a86af-59ce-4fbe-b849-ce3bb8a70128' class='xr-section-summary-in' type='checkbox'  checked><label for='section-968a86af-59ce-4fbe-b849-ce3bb8a70128' class='xr-section-summary' >Coordinates: <span>(6)</span></label><div class='xr-section-inline-details'></div><div class='xr-section-details'><ul class='xr-var-list'><li class='xr-var-item'><div class='xr-var-name'><span class='xr-has-index'>height</span></div><div class='xr-var-dims'>(height)</div><div class='xr-var-dtype'>float64</div><div class='xr-var-preview xr-preview'>0.0</div><input id='attrs-4a517a17-215e-4438-9c19-d303d9a86ffa' class='xr-var-attrs-in' type='checkbox' ><label for='attrs-4a517a17-215e-4438-9c19-d303d9a86ffa' title='Show/Hide attributes'><svg class='icon xr-icon-file-text2'><use xlink:href='#icon-file-text2'></use></svg></label><input id='data-e111aeba-2c6a-4aa6-82f3-6b37bd116c5f' class='xr-var-data-in' type='checkbox'><label for='data-e111aeba-2c6a-4aa6-82f3-6b37bd116c5f' title='Show/Hide data repr'><svg class='icon xr-icon-database'><use xlink:href='#icon-database'></use></svg></label><div class='xr-var-attrs'><dl class='xr-attrs'><dt><span>units :</span></dt><dd>m</dd><dt><span>long_name :</span></dt><dd>height</dd><dt><span>standard_name :</span></dt><dd>height</dd><dt><span>axis :</span></dt><dd>Z</dd><dt><span>positive :</span></dt><dd>up</dd><dt><span>coordinate_defines :</span></dt><dd>point</dd><dt><span>actual_range :</span></dt><dd>[0. 0.]</dd></dl></div><div class='xr-var-data'><pre>array([0.])</pre></div></li><li class='xr-var-item'><div class='xr-var-name'><span>lat</span></div><div class='xr-var-dims'>(rlat, rlon)</div><div class='xr-var-dtype'>float64</div><div class='xr-var-preview xr-preview'>...</div><input id='attrs-2ae6fef7-a73f-4131-b917-43216715a855' class='xr-var-attrs-in' type='checkbox' ><label for='attrs-2ae6fef7-a73f-4131-b917-43216715a855' title='Show/Hide attributes'><svg class='icon xr-icon-file-text2'><use xlink:href='#icon-file-text2'></use></svg></label><input id='data-76d13497-def9-4f76-988d-82d90361b830' class='xr-var-data-in' type='checkbox'><label for='data-76d13497-def9-4f76-988d-82d90361b830' title='Show/Hide data repr'><svg class='icon xr-icon-database'><use xlink:href='#icon-database'></use></svg></label><div class='xr-var-attrs'><dl class='xr-attrs'><dt><span>units :</span></dt><dd>degrees_north</dd><dt><span>long_name :</span></dt><dd>latitude</dd><dt><span>standard_name :</span></dt><dd>latitude</dd><dt><span>actual_range :</span></dt><dd>[20.72766304 72.58499908]</dd></dl></div><div class='xr-var-data'><pre>[189520 values with dtype=float64]</pre></div></li><li class='xr-var-item'><div class='xr-var-name'><span>lon</span></div><div class='xr-var-dims'>(rlat, rlon)</div><div class='xr-var-dtype'>float64</div><div class='xr-var-preview xr-preview'>...</div><input id='attrs-35c25891-f161-4b1e-b198-6d184a0e4bc3' class='xr-var-attrs-in' type='checkbox' ><label for='attrs-35c25891-f161-4b1e-b198-6d184a0e4bc3' title='Show/Hide attributes'><svg class='icon xr-icon-file-text2'><use xlink:href='#icon-file-text2'></use></svg></label><input id='data-615ff83b-c2eb-4e20-8217-f61a0500c937' class='xr-var-data-in' type='checkbox'><label for='data-615ff83b-c2eb-4e20-8217-f61a0500c937' title='Show/Hide data repr'><svg class='icon xr-icon-database'><use xlink:href='#icon-database'></use></svg></label><div class='xr-var-attrs'><dl class='xr-attrs'><dt><span>units :</span></dt><dd>degrees_eeoo</dd><dt><span>long_name :</span></dt><dd>longitude</dd><dt><span>standard_name :</span></dt><dd>longitude</dd><dt><span>actual_range :</span></dt><dd>[-48.51339722  66.17508698]</dd></dl></div><div class='xr-var-data'><pre>[189520 values with dtype=float64]</pre></div></li><li class='xr-var-item'><div class='xr-var-name'><span class='xr-has-index'>rlat</span></div><div class='xr-var-dims'>(rlat)</div><div class='xr-var-dtype'>float64</div><div class='xr-var-preview xr-preview'>-23.38 -23.27 ... 21.73 21.83</div><input id='attrs-0c0a2d03-577a-4d89-bc30-e5d2fc999de6' class='xr-var-attrs-in' type='checkbox' ><label for='attrs-0c0a2d03-577a-4d89-bc30-e5d2fc999de6' title='Show/Hide attributes'><svg class='icon xr-icon-file-text2'><use xlink:href='#icon-file-text2'></use></svg></label><input id='data-8f35839a-2b67-4fde-a667-f0c9a097926a' class='xr-var-data-in' type='checkbox'><label for='data-8f35839a-2b67-4fde-a667-f0c9a097926a' title='Show/Hide data repr'><svg class='icon xr-icon-database'><use xlink:href='#icon-database'></use></svg></label><div class='xr-var-attrs'><dl class='xr-attrs'><dt><span>long_name :</span></dt><dd>latitude in rotated pole grid</dd><dt><span>units :</span></dt><dd>degrees</dd><dt><span>standard_name :</span></dt><dd>grid_latitude</dd><dt><span>axis :</span></dt><dd>Y</dd><dt><span>coordinate_defines :</span></dt><dd>point</dd><dt><span>actual_range :</span></dt><dd>[-23.375       21.83499908]</dd></dl></div><div class='xr-var-data'><pre>array([-23.375   , -23.265001, -23.155001, ...,  21.615   ,  21.725   ,\n",
       "        21.834999])</pre></div></li><li class='xr-var-item'><div class='xr-var-name'><span class='xr-has-index'>rlon</span></div><div class='xr-var-dims'>(rlon)</div><div class='xr-var-dtype'>float64</div><div class='xr-var-preview xr-preview'>-31.67 -31.56 ... 18.71 18.82</div><input id='attrs-08d1431d-1a89-401e-b346-12570b0c9e83' class='xr-var-attrs-in' type='checkbox' ><label for='attrs-08d1431d-1a89-401e-b346-12570b0c9e83' title='Show/Hide attributes'><svg class='icon xr-icon-file-text2'><use xlink:href='#icon-file-text2'></use></svg></label><input id='data-ff7815aa-501d-4800-871e-046afe912cca' class='xr-var-data-in' type='checkbox'><label for='data-ff7815aa-501d-4800-871e-046afe912cca' title='Show/Hide data repr'><svg class='icon xr-icon-database'><use xlink:href='#icon-database'></use></svg></label><div class='xr-var-attrs'><dl class='xr-attrs'><dt><span>long_name :</span></dt><dd>longitude in rotated pole grid</dd><dt><span>units :</span></dt><dd>degrees</dd><dt><span>standard_name :</span></dt><dd>grid_longitude</dd><dt><span>axis :</span></dt><dd>X</dd><dt><span>coordinate_defines :</span></dt><dd>point</dd><dt><span>actual_range :</span></dt><dd>[-31.67498779  18.81500244]</dd></dl></div><div class='xr-var-data'><pre>array([-31.674988, -31.564987, -31.454987, ...,  18.595001,  18.705002,\n",
       "        18.815002])</pre></div></li><li class='xr-var-item'><div class='xr-var-name'><span class='xr-has-index'>time</span></div><div class='xr-var-dims'>(time)</div><div class='xr-var-dtype'>datetime64[ns]</div><div class='xr-var-preview xr-preview'>2064-01-01</div><input id='attrs-1af6731d-9fae-435a-8ffd-521fd8e5babb' class='xr-var-attrs-in' type='checkbox' ><label for='attrs-1af6731d-9fae-435a-8ffd-521fd8e5babb' title='Show/Hide attributes'><svg class='icon xr-icon-file-text2'><use xlink:href='#icon-file-text2'></use></svg></label><input id='data-0cd21b3b-409d-4f62-969d-030c77c9de35' class='xr-var-data-in' type='checkbox'><label for='data-0cd21b3b-409d-4f62-969d-030c77c9de35' title='Show/Hide data repr'><svg class='icon xr-icon-database'><use xlink:href='#icon-database'></use></svg></label><div class='xr-var-attrs'><dl class='xr-attrs'><dt><span>long_name :</span></dt><dd>time</dd><dt><span>standard_name :</span></dt><dd>time</dd><dt><span>axis :</span></dt><dd>T</dd><dt><span>coordinate_defines :</span></dt><dd>point</dd></dl></div><div class='xr-var-data'><pre>array([&#x27;2064-01-01T00:00:00.000000000&#x27;], dtype=&#x27;datetime64[ns]&#x27;)</pre></div></li></ul></div></li><li class='xr-section-item'><input id='section-0dd5b1bb-35bb-4b03-90b6-f86e90635463' class='xr-section-summary-in' type='checkbox'  checked><label for='section-0dd5b1bb-35bb-4b03-90b6-f86e90635463' class='xr-section-summary' >Data variables: <span>(2)</span></label><div class='xr-section-inline-details'></div><div class='xr-section-details'><ul class='xr-var-list'><li class='xr-var-item'><div class='xr-var-name'><span>rotated_pole</span></div><div class='xr-var-dims'>()</div><div class='xr-var-dtype'>|S1</div><div class='xr-var-preview xr-preview'>...</div><input id='attrs-88406008-ebf8-4fdb-bef8-dd57192bc943' class='xr-var-attrs-in' type='checkbox' ><label for='attrs-88406008-ebf8-4fdb-bef8-dd57192bc943' title='Show/Hide attributes'><svg class='icon xr-icon-file-text2'><use xlink:href='#icon-file-text2'></use></svg></label><input id='data-940adce6-542e-4e4d-ba8e-48f5665f7c5e' class='xr-var-data-in' type='checkbox'><label for='data-940adce6-542e-4e4d-ba8e-48f5665f7c5e' title='Show/Hide data repr'><svg class='icon xr-icon-database'><use xlink:href='#icon-database'></use></svg></label><div class='xr-var-attrs'><dl class='xr-attrs'><dt><span>grid_mapping_name :</span></dt><dd>rotated_latitude_longitude</dd><dt><span>grid_north_pole_latitude :</span></dt><dd>39.25</dd><dt><span>grid_north_pole_longitude :</span></dt><dd>198.0</dd><dt><span>north_pole_grid_longitude :</span></dt><dd>0.0</dd></dl></div><div class='xr-var-data'><pre>[1 values with dtype=|S1]</pre></div></li><li class='xr-var-item'><div class='xr-var-name'><span>sftof</span></div><div class='xr-var-dims'>(rlat, rlon)</div><div class='xr-var-dtype'>float64</div><div class='xr-var-preview xr-preview'>...</div><input id='attrs-5c529ee0-2d65-4e07-899d-957a180763ac' class='xr-var-attrs-in' type='checkbox' ><label for='attrs-5c529ee0-2d65-4e07-899d-957a180763ac' title='Show/Hide attributes'><svg class='icon xr-icon-file-text2'><use xlink:href='#icon-file-text2'></use></svg></label><input id='data-801bcfcf-010e-43e7-b964-6ddbdb7487f1' class='xr-var-data-in' type='checkbox'><label for='data-801bcfcf-010e-43e7-b964-6ddbdb7487f1' title='Show/Hide data repr'><svg class='icon xr-icon-database'><use xlink:href='#icon-database'></use></svg></label><div class='xr-var-attrs'><dl class='xr-attrs'><dt><span>cell_measures :</span></dt><dd>area: areacella</dd><dt><span>cell_methods :</span></dt><dd>time: point</dd><dt><span>grid_mapping :</span></dt><dd>rotated_pole</dd><dt><span>level_desc :</span></dt><dd>Height</dd><dt><span>long_name :</span></dt><dd> Sea Area Fraction </dd><dt><span>realm :</span></dt><dd> ocean </dd><dt><span>standard_name :</span></dt><dd> sea_area_fraction </dd><dt><span>time_desc :</span></dt><dd>20640101000000</dd><dt><span>units :</span></dt><dd>%</dd></dl></div><div class='xr-var-data'><pre>[189520 values with dtype=float64]</pre></div></li></ul></div></li><li class='xr-section-item'><input id='section-12f28523-cbdb-4f33-be70-c41edf35d46c' class='xr-section-summary-in' type='checkbox'  ><label for='section-12f28523-cbdb-4f33-be70-c41edf35d46c' class='xr-section-summary' >Indexes: <span>(4)</span></label><div class='xr-section-inline-details'></div><div class='xr-section-details'><ul class='xr-var-list'><li class='xr-var-item'><div class='xr-index-name'><div>height</div></div><div class='xr-index-preview'>PandasIndex</div><div></div><input id='index-0dcdb8ac-be05-4aba-ab81-b5c926d9610c' class='xr-index-data-in' type='checkbox'/><label for='index-0dcdb8ac-be05-4aba-ab81-b5c926d9610c' title='Show/Hide index repr'><svg class='icon xr-icon-database'><use xlink:href='#icon-database'></use></svg></label><div class='xr-index-data'><pre>PandasIndex(Index([0.0], dtype=&#x27;float64&#x27;, name=&#x27;height&#x27;))</pre></div></li><li class='xr-var-item'><div class='xr-index-name'><div>rlat</div></div><div class='xr-index-preview'>PandasIndex</div><div></div><input id='index-785bebf9-9141-4ed3-a86b-b40e68f02bb1' class='xr-index-data-in' type='checkbox'/><label for='index-785bebf9-9141-4ed3-a86b-b40e68f02bb1' title='Show/Hide index repr'><svg class='icon xr-icon-database'><use xlink:href='#icon-database'></use></svg></label><div class='xr-index-data'><pre>PandasIndex(Index([            -23.375,  -23.26500129699707, -23.155000686645508,\n",
       "       -23.045000076293945, -22.935001373291016, -22.825000762939453,\n",
       "        -22.71500015258789,  -22.60500144958496,   -22.4950008392334,\n",
       "       -22.385000228881836,\n",
       "       ...\n",
       "        20.844999313354492,  20.954999923706055,  21.065000534057617,\n",
       "        21.174999237060547,   21.28499984741211,  21.395000457763672,\n",
       "          21.5049991607666,  21.614999771118164,  21.725000381469727,\n",
       "        21.834999084472656],\n",
       "      dtype=&#x27;float64&#x27;, name=&#x27;rlat&#x27;, length=412))</pre></div></li><li class='xr-var-item'><div class='xr-index-name'><div>rlon</div></div><div class='xr-index-preview'>PandasIndex</div><div></div><input id='index-953e0d4f-9920-4bd8-8f66-64d70f521969' class='xr-index-data-in' type='checkbox'/><label for='index-953e0d4f-9920-4bd8-8f66-64d70f521969' title='Show/Hide index repr'><svg class='icon xr-icon-database'><use xlink:href='#icon-database'></use></svg></label><div class='xr-index-data'><pre>PandasIndex(Index([ -31.67498779296875, -31.564987182617188, -31.454986572265625,\n",
       "       -31.344985961914062,   -31.2349853515625,             -31.125,\n",
       "       -31.014999389648438, -30.904998779296875, -30.794998168945312,\n",
       "        -30.68499755859375,\n",
       "       ...\n",
       "         17.82501220703125,  17.935012817382812,  18.045013427734375,\n",
       "        18.155014038085938,    18.2650146484375,              18.375,\n",
       "        18.485000610351562,  18.595001220703125,  18.705001831054688,\n",
       "         18.81500244140625],\n",
       "      dtype=&#x27;float64&#x27;, name=&#x27;rlon&#x27;, length=460))</pre></div></li><li class='xr-var-item'><div class='xr-index-name'><div>time</div></div><div class='xr-index-preview'>PandasIndex</div><div></div><input id='index-eba7c002-55a1-4862-9d09-16d92bdf17cf' class='xr-index-data-in' type='checkbox'/><label for='index-eba7c002-55a1-4862-9d09-16d92bdf17cf' title='Show/Hide index repr'><svg class='icon xr-icon-database'><use xlink:href='#icon-database'></use></svg></label><div class='xr-index-data'><pre>PandasIndex(DatetimeIndex([&#x27;2064-01-01&#x27;], dtype=&#x27;datetime64[ns]&#x27;, name=&#x27;time&#x27;, freq=None))</pre></div></li></ul></div></li><li class='xr-section-item'><input id='section-75c43661-ed82-4aa2-84ba-cfa947c40045' class='xr-section-summary-in' type='checkbox'  ><label for='section-75c43661-ed82-4aa2-84ba-cfa947c40045' class='xr-section-summary' >Attributes: <span>(22)</span></label><div class='xr-section-inline-details'></div><div class='xr-section-details'><dl class='xr-attrs'><dt><span>Conventions :</span></dt><dd>CF-1.6</dd><dt><span>contact :</span></dt><dd>giguere.michel@ouranos.ca</dd><dt><span>comment :</span></dt><dd>CRCM5 v3331 0.22 deg AMNO22d2 L56 S17-15m ERA-INTERIM 0,75d PILSPEC PS3</dd><dt><span>creation_date :</span></dt><dd>2020-08-04 </dd><dt><span>experiment :</span></dt><dd>simulation de reoorence </dd><dt><span>experiment_id :</span></dt><dd>eoo </dd><dt><span>driving_experiment :</span></dt><dd>ERA-INTERIM </dd><dt><span>driving_model_id :</span></dt><dd>ECMWF-ERAINT </dd><dt><span>driving_model_ensemble_member :</span></dt><dd>r1i1p1 </dd><dt><span>driving_experiment_name :</span></dt><dd>evaluation </dd><dt><span>institution :</span></dt><dd>Ouranos </dd><dt><span>institute_id :</span></dt><dd>Our. </dd><dt><span>model_id :</span></dt><dd>OURANOS-CRCM5</dd><dt><span>rcm_version_id :</span></dt><dd>v3331</dd><dt><span>project_id :</span></dt><dd></dd><dt><span>ouranos_domain_name :</span></dt><dd>AMNO22d2 </dd><dt><span>ouranos_run_id :</span></dt><dd>eoo OURALIB 1.5</dd><dt><span>product :</span></dt><dd>output</dd><dt><span>reoorence :</span></dt><dd>http://www.ouranos.ca</dd><dt><span>history :</span></dt><dd>Thu Dec 22 15:48:10 2022: ncatted -a long_name,sftof,o,c, Sea Area Fraction  -a standard_name,sftof,o,c, sea_area_fraction  -a realm,sftof,o,c, ocean  /dss/dsshome1/0A/di46rib/postprod/eoo/work/sftof_eoo_206400_se.nc\n",
       "Thu Dec 22 15:48:10 2022: ncks -x -v lakeFrac,sftlf /dss/dsshome1/0A/di46rib/postprod/eoo/work/sftof2_eoo_206400_se.nc /dss/dsshome1/0A/di46rib/postprod/eoo/work/sftof_eoo_206400_se.nc\n",
       "Thu Dec 22 15:48:10 2022: ncap2 -3 -S ./Inputcard --coords /dss/dsshome1/0A/di46rib/postprod/eoo/work/sftlf_eoo_206400_se.nc /dss/dsshome1/0A/di46rib/postprod/eoo/work/sftof2_eoo_206400_se.nc\n",
       "Thu Dec 22 15:48:10 2022: ncks -A -v lakeFrac /dss/dsshome1/0A/di46rib/postprod/eoo/work/lakeFrac_eoo_206400_se.nc /dss/dsshome1/0A/di46rib/postprod/eoo/work/sftlf_eoo_206400_se.nc\n",
       "Thu Dec 22 15:47:54 2022: ncea -F -d time,1,1 /hppfs/scratch/0A/di46rib/di46rib-i04r11c06s05/3857826/eoo_2064_MG/sftlf_eoo_206401_se.nc /dss/dsshome1/0A/di46rib/postprod/eoo/work/206400/sftlf_eoo_206400_se.nc\n",
       "Thu Dec 22 15:47:54 2022: ncatted -O -a cell_measures,sftlf,o,c,area: areacella /hppfs/scratch/0A/di46rib/di46rib-i04r11c06s05/3857826/eoo_2064_MG/sftlf_eoo_206401_se.nc 3860718_bbb</dd><dt><span>NCO :</span></dt><dd>netCDF Operators version 4.9.3 (Homepage = http://nco.sf.net, Code = http://github.com/nco/nco)</dd><dt><span>history_of_appended_files :</span></dt><dd>Thu Dec 22 15:48:10 2022: Appended file /dss/dsshome1/0A/di46rib/postprod/eoo/work/lakeFrac_eoo_206400_se.nc had following &quot;history&quot; attribute:\n",
       "Thu Dec 22 15:47:56 2022: ncea -F -d time,1,1 /hppfs/scratch/0A/di46rib/di46rib-i04r11c06s05/3857826/eoo_2064_FU/lakeFrac_eoo_206401_se.nc /dss/dsshome1/0A/di46rib/postprod/eoo/work/206400/lakeFrac_eoo_206400_se.nc\n",
       "Thu Dec 22 15:47:56 2022: ncatted -O -a cell_measures,lakeFrac,o,c,area: areacella /hppfs/scratch/0A/di46rib/di46rib-i04r11c06s05/3857826/eoo_2064_FU/lakeFrac_eoo_206401_se.nc 3860967_bbb\n",
       "</dd></dl></div></li></ul></div></div>"
      ],
      "text/plain": [
       "<xarray.Dataset> Size: 5MB\n",
       "Dimensions:       (height: 1, rlat: 412, rlon: 460, time: 1)\n",
       "Coordinates:\n",
       "  * height        (height) float64 8B 0.0\n",
       "    lat           (rlat, rlon) float64 2MB ...\n",
       "    lon           (rlat, rlon) float64 2MB ...\n",
       "  * rlat          (rlat) float64 3kB -23.38 -23.27 -23.16 ... 21.61 21.73 21.83\n",
       "  * rlon          (rlon) float64 4kB -31.67 -31.56 -31.45 ... 18.6 18.71 18.82\n",
       "  * time          (time) datetime64[ns] 8B 2064-01-01\n",
       "Data variables:\n",
       "    rotated_pole  |S1 1B ...\n",
       "    sftof         (rlat, rlon) float64 2MB ...\n",
       "Attributes: (12/22)\n",
       "    Conventions:                    CF-1.6\n",
       "    contact:                        giguere.michel@ouranos.ca\n",
       "    comment:                        CRCM5 v3331 0.22 deg AMNO22d2 L56 S17-15m...\n",
       "    creation_date:                  2020-08-04 \n",
       "    experiment:                     simulation de reoorence \n",
       "    experiment_id:                  eoo \n",
       "    ...                             ...\n",
       "    ouranos_run_id:                 eoo OURALIB 1.5\n",
       "    product:                        output\n",
       "    reoorence:                      http://www.ouranos.ca\n",
       "    history:                        Thu Dec 22 15:48:10 2022: ncatted -a long...\n",
       "    NCO:                            netCDF Operators version 4.9.3 (Homepage ...\n",
       "    history_of_appended_files:      Thu Dec 22 15:48:10 2022: Appended file /..."
      ]
     },
     "execution_count": 5,
     "metadata": {},
     "output_type": "execute_result"
    }
   ],
   "source": [
    "ds_out"
   ]
  },
  {
   "cell_type": "code",
   "execution_count": 6,
   "id": "0b74ae57-77fc-41f0-981a-c267059ed3ed",
   "metadata": {},
   "outputs": [
    {
     "name": "stderr",
     "output_type": "stream",
     "text": [
      "Ignoring index file 'O:/Climate-and-Energy-Policy/CERM/Projects/Wildfire/Data/ERA5-land/unprocess/FWI-variables/Europe/ERA5-land\\\\1980-01.grib.5b7b6.idx' incompatible with GRIB file\n"
     ]
    }
   ],
   "source": [
    "path =  \"O:/Climate-and-Energy-Policy/CERM/Projects/Wildfire/Data/ERA5-land/unprocess/FWI-variables/Europe/ERA5-land/\"\n",
    "files = glob.glob(path + '*')\n",
    "files = sorted(files)[2] # Only 1 files as this is just for regridding purposes \n",
    "\n",
    "ds_in = xr.open_dataset(files, engine = \"cfgrib\")\n",
    "ds_in = ds_in.rename({'latitude': 'lat','longitude': 'lon'})"
   ]
  },
  {
   "cell_type": "code",
   "execution_count": 7,
   "id": "112b49df-8e5b-4649-9667-2d6fd9e60112",
   "metadata": {
    "scrolled": true
   },
   "outputs": [
    {
     "name": "stdout",
     "output_type": "stream",
     "text": [
      "751 752\n",
      "451 452\n",
      "189520 189980\n",
      "189520 189980\n"
     ]
    }
   ],
   "source": [
    "# Create regridder with ERA5 as input grid and Climex as output grid\n",
    "regridder = regridder_masked(ds_in, ds_out, 't2m')"
   ]
  },
  {
   "cell_type": "code",
   "execution_count": 8,
   "id": "e240d95c-8eab-4b14-b1b3-f94d2b71bc54",
   "metadata": {},
   "outputs": [
    {
     "data": {
      "text/plain": [
       "xESMF Regridder \n",
       "Regridding algorithm:       bilinear \n",
       "Weight filename:            bilinear_451x751_412x460.nc \n",
       "Reuse pre-computed weights? False \n",
       "Input grid shape:           (451, 751) \n",
       "Output grid shape:          (412, 460) \n",
       "Periodic in longitude?      False"
      ]
     },
     "execution_count": 8,
     "metadata": {},
     "output_type": "execute_result"
    }
   ],
   "source": [
    "regridder"
   ]
  },
  {
   "cell_type": "code",
   "execution_count": 9,
   "id": "71e0170b-b460-4cce-bfec-f410e726d11d",
   "metadata": {},
   "outputs": [],
   "source": [
    "del ds_in\n",
    "del ds_out"
   ]
  },
  {
   "cell_type": "markdown",
   "id": "a3b83325-4724-4dc7-83ab-326bf0282d34",
   "metadata": {},
   "source": [
    "### 2. Calculate FWI variables (temp, wind, rhum and prcp) and regrid "
   ]
  },
  {
   "cell_type": "markdown",
   "id": "e470aa45-0f53-4c23-90e8-01824eb89aa7",
   "metadata": {},
   "source": [
    "#### Temperature"
   ]
  },
  {
   "cell_type": "code",
   "execution_count": 11,
   "id": "68cc6b51-7d95-423f-a051-a1919c953bdc",
   "metadata": {
    "scrolled": true
   },
   "outputs": [
    {
     "name": "stdout",
     "output_type": "stream",
     "text": [
      "1991\n",
      "01\n",
      "02\n",
      "03\n",
      "04\n",
      "05\n",
      "06\n",
      "07\n",
      "08\n",
      "09\n",
      "10\n",
      "11\n",
      "12\n",
      "1992\n",
      "01\n",
      "02\n",
      "03\n",
      "04\n",
      "05\n",
      "06\n",
      "07\n",
      "08\n",
      "09\n",
      "10\n",
      "11\n",
      "12\n",
      "1993\n",
      "01\n",
      "02\n",
      "03\n",
      "04\n",
      "05\n",
      "06\n",
      "07\n",
      "08\n",
      "09\n",
      "10\n",
      "11\n",
      "12\n",
      "1994\n",
      "01\n",
      "02\n",
      "03\n",
      "04\n",
      "05\n",
      "06\n",
      "07\n",
      "08\n",
      "09\n",
      "10\n",
      "11\n",
      "12\n",
      "1995\n",
      "01\n",
      "02\n",
      "03\n",
      "04\n",
      "05\n",
      "06\n",
      "07\n",
      "08\n",
      "09\n",
      "10\n",
      "11\n",
      "12\n",
      "1996\n",
      "01\n",
      "02\n",
      "03\n",
      "04\n",
      "05\n",
      "06\n",
      "07\n",
      "08\n",
      "09\n",
      "10\n",
      "11\n",
      "12\n",
      "1997\n",
      "01\n",
      "02\n",
      "03\n",
      "04\n",
      "05\n",
      "06\n",
      "07\n",
      "08\n",
      "09\n",
      "10\n",
      "11\n",
      "12\n",
      "1998\n",
      "01\n",
      "02\n",
      "03\n",
      "04\n",
      "05\n",
      "06\n",
      "07\n",
      "08\n",
      "09\n",
      "10\n",
      "11\n",
      "12\n",
      "1999\n",
      "01\n",
      "02\n",
      "03\n",
      "04\n",
      "05\n",
      "06\n",
      "07\n",
      "08\n",
      "09\n",
      "10\n",
      "11\n",
      "12\n",
      "2000\n",
      "01\n",
      "02\n",
      "03\n",
      "04\n",
      "05\n",
      "06\n",
      "07\n",
      "08\n",
      "09\n",
      "10\n",
      "11\n",
      "12\n",
      "2001\n",
      "01\n",
      "02\n",
      "03\n",
      "04\n",
      "05\n",
      "06\n",
      "07\n",
      "08\n",
      "09\n",
      "10\n",
      "11\n",
      "12\n",
      "2002\n",
      "01\n",
      "02\n",
      "03\n",
      "04\n",
      "05\n",
      "06\n",
      "07\n",
      "08\n",
      "09\n",
      "10\n",
      "11\n",
      "12\n",
      "2003\n",
      "01\n",
      "02\n",
      "03\n",
      "04\n",
      "05\n",
      "06\n",
      "07\n",
      "08\n",
      "09\n",
      "10\n",
      "11\n",
      "12\n",
      "2004\n",
      "01\n",
      "02\n",
      "03\n",
      "04\n",
      "05\n",
      "06\n",
      "07\n",
      "08\n",
      "09\n",
      "10\n",
      "11\n",
      "12\n",
      "2005\n",
      "01\n",
      "02\n",
      "03\n",
      "04\n",
      "05\n",
      "06\n",
      "07\n",
      "08\n",
      "09\n",
      "10\n",
      "11\n",
      "12\n",
      "2006\n",
      "01\n",
      "02\n",
      "03\n",
      "04\n",
      "05\n",
      "06\n",
      "07\n",
      "08\n",
      "09\n",
      "10\n",
      "11\n",
      "12\n",
      "2007\n",
      "01\n",
      "02\n",
      "03\n",
      "04\n",
      "05\n",
      "06\n",
      "07\n",
      "08\n",
      "09\n",
      "10\n",
      "11\n",
      "12\n",
      "2008\n",
      "01\n",
      "02\n",
      "03\n",
      "04\n",
      "05\n",
      "06\n",
      "07\n",
      "08\n",
      "09\n",
      "10\n",
      "11\n",
      "12\n",
      "2009\n",
      "01\n",
      "02\n",
      "03\n",
      "04\n",
      "05\n",
      "06\n",
      "07\n",
      "08\n",
      "09\n",
      "10\n",
      "11\n",
      "12\n",
      "2010\n",
      "01\n",
      "02\n",
      "03\n",
      "04\n",
      "05\n",
      "06\n",
      "07\n",
      "08\n",
      "09\n",
      "10\n",
      "11\n",
      "12\n"
     ]
    }
   ],
   "source": [
    "Case_Study = False # If False, the whole European domain is downloaded \n",
    "\n",
    "CS_name = 'Crete' \n",
    "\n",
    "start_mid_year = False\n",
    "home_path = \"O:/Climate-and-Energy-Policy/CERM/Projects/Wildfire/Data/ERA5-land/unprocess/FWI-variables/\"\n",
    "\n",
    "if Case_Study == True:\n",
    "    if CS_name == 'Crete':\n",
    "        path = home_path + \"Case_Studies/Crete/\"\n",
    "    else:\n",
    "        print('CS not known')\n",
    "else:\n",
    "    path = home_path + \"Europe/\"\n",
    "\n",
    "years = np.arange(1991, 2011, 1)\n",
    "\n",
    "months = [\"01\", \"02\", \"03\", \"04\", \"05\", \"06\", \"07\", \"08\", \"09\", \"10\", \"11\", \"12\"]\n",
    "\n",
    "for year in years:\n",
    "    print(year)\n",
    "    year = str(year)\n",
    "\n",
    "    for m, month in enumerate(months): \n",
    "        print(month)\n",
    "        fname = path + \"/Derived-FWI-ERA5-land/vars-\" + year + \"-\" + month + \".nc\"\n",
    "\n",
    "        # Only download files which are not in the folder\n",
    "        if os.path.isfile(\"O:/Climate-and-Energy-Policy/CERM/Projects/Wildfire/Data/ERA5-land/regrided/FWI-variables/temp-\" + year + \"-\" + month + \".nc\") == True:\n",
    "            continue\n",
    "            \n",
    "        #ds = xr.open_dataset(path + \"ERA5-land/\" + year + \"-\" + month + \"-prcp.grib\", engine = \"cfgrib\") # load the prcp at noon and midnight\n",
    "        ds1 = xr.open_dataset(path  + \"ERA5-land/\" +  year + \"-\" + month + \".grib\", engine = \"cfgrib\") # load the temp, dew temp and wind at noon\n",
    "        \n",
    "        #ds1 = ds1.assign(prcp=(['time','latitude','longitude'], ds.isel(step = 1, time = slice(0, len(ds.time)-1)).tp.data)) # m to mm \n",
    " \n",
    "        ds1 = ds1.assign(temp=lambda x: x.t2m - 273.15) # Convert K to C\n",
    " \n",
    "       #ds1 = ds1.assign(wind=lambda x: np.sqrt(x.u10*x.u10 + x.v10*x.v10)*0.001*3600) # Calculate wind speed in km/h\n",
    "   \n",
    "        #ds1 = ds1.assign(rhum=lambda x: relative_humidity_from_dewpoint(x.temp* units.degC, (x.d2m- 273.15)* units.degC )*100) # Calculate relative humidity [%]\n",
    "\n",
    "        ds1 = ds1.drop_vars(['u10', 'v10', 'd2m', 't2m', 'step'])\n",
    "        ds1 = ds1.rename({'latitude': 'lat','longitude': 'lon'})\n",
    "        ds1 = regridder(ds1, skipna=True, na_thres=0.5)\n",
    "        ds1.to_netcdf(\"O:/Climate-and-Energy-Policy/CERM/Projects/Wildfire/Data/ERA5-land/regrided/FWI-variables/temp-\" + year + \"-\" + month + \".nc\")\n"
   ]
  },
  {
   "cell_type": "markdown",
   "id": "2fe6c2d4-632f-4c15-9d85-60a6d388b236",
   "metadata": {},
   "source": [
    "#### Wind"
   ]
  },
  {
   "cell_type": "code",
   "execution_count": 12,
   "id": "04e7e29c-e8bf-4695-af1b-82de00f1b291",
   "metadata": {
    "scrolled": true
   },
   "outputs": [
    {
     "name": "stdout",
     "output_type": "stream",
     "text": [
      "1991\n",
      "01\n",
      "02\n",
      "03\n",
      "04\n",
      "05\n",
      "06\n",
      "07\n",
      "08\n",
      "09\n",
      "10\n",
      "11\n",
      "12\n",
      "1992\n",
      "01\n",
      "02\n",
      "03\n",
      "04\n",
      "05\n",
      "06\n",
      "07\n",
      "08\n",
      "09\n",
      "10\n",
      "11\n",
      "12\n",
      "1993\n",
      "01\n",
      "02\n",
      "03\n",
      "04\n",
      "05\n",
      "06\n",
      "07\n",
      "08\n",
      "09\n",
      "10\n",
      "11\n",
      "12\n",
      "1994\n",
      "01\n",
      "02\n",
      "03\n",
      "04\n",
      "05\n",
      "06\n",
      "07\n",
      "08\n",
      "09\n",
      "10\n",
      "11\n",
      "12\n",
      "1995\n",
      "01\n",
      "02\n",
      "03\n",
      "04\n",
      "05\n",
      "06\n",
      "07\n",
      "08\n",
      "09\n",
      "10\n",
      "11\n",
      "12\n",
      "1996\n",
      "01\n",
      "02\n",
      "03\n",
      "04\n",
      "05\n",
      "06\n",
      "07\n",
      "08\n",
      "09\n",
      "10\n",
      "11\n",
      "12\n",
      "1997\n",
      "01\n",
      "02\n",
      "03\n",
      "04\n",
      "05\n",
      "06\n",
      "07\n",
      "08\n",
      "09\n",
      "10\n",
      "11\n",
      "12\n",
      "1998\n",
      "01\n",
      "02\n",
      "03\n",
      "04\n",
      "05\n",
      "06\n",
      "07\n",
      "08\n",
      "09\n",
      "10\n",
      "11\n",
      "12\n",
      "1999\n",
      "01\n",
      "02\n",
      "03\n",
      "04\n",
      "05\n",
      "06\n",
      "07\n",
      "08\n",
      "09\n",
      "10\n",
      "11\n",
      "12\n",
      "2000\n",
      "01\n",
      "02\n",
      "03\n",
      "04\n",
      "05\n",
      "06\n",
      "07\n",
      "08\n",
      "09\n",
      "10\n",
      "11\n",
      "12\n",
      "2001\n",
      "01\n",
      "02\n",
      "03\n",
      "04\n",
      "05\n",
      "06\n",
      "07\n",
      "08\n",
      "09\n",
      "10\n",
      "11\n",
      "12\n",
      "2002\n",
      "01\n",
      "02\n",
      "03\n",
      "04\n",
      "05\n",
      "06\n",
      "07\n",
      "08\n",
      "09\n",
      "10\n",
      "11\n",
      "12\n",
      "2003\n",
      "01\n",
      "02\n",
      "03\n",
      "04\n",
      "05\n",
      "06\n",
      "07\n",
      "08\n",
      "09\n",
      "10\n",
      "11\n",
      "12\n",
      "2004\n",
      "01\n",
      "02\n",
      "03\n",
      "04\n",
      "05\n",
      "06\n",
      "07\n",
      "08\n",
      "09\n",
      "10\n",
      "11\n",
      "12\n",
      "2005\n",
      "01\n",
      "02\n",
      "03\n",
      "04\n",
      "05\n",
      "06\n",
      "07\n",
      "08\n",
      "09\n",
      "10\n",
      "11\n",
      "12\n",
      "2006\n",
      "01\n",
      "02\n",
      "03\n",
      "04\n",
      "05\n",
      "06\n",
      "07\n",
      "08\n",
      "09\n",
      "10\n",
      "11\n",
      "12\n",
      "2007\n",
      "01\n",
      "02\n",
      "03\n",
      "04\n",
      "05\n",
      "06\n",
      "07\n",
      "08\n",
      "09\n",
      "10\n",
      "11\n",
      "12\n",
      "2008\n",
      "01\n",
      "02\n",
      "03\n",
      "04\n",
      "05\n",
      "06\n",
      "07\n",
      "08\n",
      "09\n",
      "10\n",
      "11\n",
      "12\n",
      "2009\n",
      "01\n",
      "02\n",
      "03\n",
      "04\n",
      "05\n",
      "06\n",
      "07\n",
      "08\n",
      "09\n",
      "10\n",
      "11\n",
      "12\n",
      "2010\n",
      "01\n",
      "02\n",
      "03\n",
      "04\n",
      "05\n",
      "06\n",
      "07\n",
      "08\n",
      "09\n",
      "10\n",
      "11\n",
      "12\n"
     ]
    }
   ],
   "source": [
    "\n",
    "\n",
    "Case_Study = False # If False, the whole European domain is downloaded \n",
    "\n",
    "CS_name = 'Crete' \n",
    "\n",
    "start_mid_year = False\n",
    "home_path = \"O:/Climate-and-Energy-Policy/CERM/Projects/Wildfire/Data/ERA5-land/unprocess/FWI-variables/\"\n",
    "\n",
    "if Case_Study == True:\n",
    "    if CS_name == 'Crete':\n",
    "        path = home_path + \"Case_Studies/Crete/\"\n",
    "    else:\n",
    "        print('CS not known')\n",
    "else:\n",
    "    path = home_path + \"Europe/\"\n",
    "\n",
    "years = np.arange(1991, 2011, 1)\n",
    "\n",
    "months = [\"01\", \"02\", \"03\", \"04\", \"05\", \"06\", \"07\", \"08\", \"09\", \"10\", \"11\", \"12\"]\n",
    "\n",
    "for year in years:\n",
    "    print(year)\n",
    "    year = str(year)\n",
    "\n",
    "    for m, month in enumerate(months): \n",
    "        print(month)\n",
    "        fname = path + \"/Derived-FWI-ERA5-land/vars-\" + year + \"-\" + month + \".nc\"\n",
    "\n",
    "        # Only download files which are not in the folder\n",
    "        if os.path.isfile(\"O:/Climate-and-Energy-Policy/CERM/Projects/Wildfire/Data/ERA5-land/regrided/FWI-variables/wind-\" + year + \"-\" + month + \".nc\") == True:\n",
    "            continue\n",
    "            \n",
    "        #ds = xr.open_dataset(path + \"ERA5-land/\" + year + \"-\" + month + \"-prcp.grib\", engine = \"cfgrib\") # load the prcp at noon and midnight\n",
    "        ds1 = xr.open_dataset(path  + \"ERA5-land/\" +  year + \"-\" + month + \".grib\", engine = \"cfgrib\") # load the temp, dew temp and wind at noon\n",
    "        \n",
    "        #ds1 = ds1.assign(prcp=(['time','latitude','longitude'], ds.isel(step = 1, time = slice(0, len(ds.time)-1)).tp.data)) # m to mm \n",
    " \n",
    "        #ds1 = ds1.assign(temp=lambda x: x.t2m - 273.15) # Convert K to C\n",
    " \n",
    "        ds1 = ds1.assign(wind=lambda x: np.sqrt(x.u10*x.u10 + x.v10*x.v10)*0.001*3600) # Calculate wind speed in km/h\n",
    "   \n",
    "        #ds1 = ds1.assign(rhum=lambda x: relative_humidity_from_dewpoint(x.temp* units.degC, (x.d2m- 273.15)* units.degC )*100) # Calculate relative humidity [%]\n",
    "\n",
    "        ds1 = ds1.drop_vars(['u10', 'v10', 'd2m', 't2m', 'step'])\n",
    "        ds1 = ds1.rename({'latitude': 'lat','longitude': 'lon'})\n",
    "        ds1 = regridder(ds1, skipna=True, na_thres=0.5)\n",
    "        ds1.to_netcdf(\"O:/Climate-and-Energy-Policy/CERM/Projects/Wildfire/Data/ERA5-land/regrided/FWI-variables/wind-\" + year + \"-\" + month + \".nc\")\n"
   ]
  },
  {
   "cell_type": "markdown",
   "id": "61b36083-fe61-4e8b-b588-f7269ccd3ce2",
   "metadata": {},
   "source": [
    "#### Relative humidity"
   ]
  },
  {
   "cell_type": "code",
   "execution_count": 10,
   "id": "4b1192c8-2df0-49b7-8062-9c8812d45a42",
   "metadata": {
    "scrolled": true
   },
   "outputs": [
    {
     "name": "stdout",
     "output_type": "stream",
     "text": [
      "1991\n",
      "01\n",
      "02\n",
      "03\n",
      "04\n",
      "05\n",
      "06\n",
      "07\n",
      "08\n",
      "09\n",
      "10\n",
      "11\n",
      "12\n",
      "1992\n",
      "01\n",
      "02\n",
      "03\n",
      "04\n",
      "05\n",
      "06\n",
      "07\n",
      "08\n",
      "09\n",
      "10\n",
      "11\n",
      "12\n",
      "1993\n",
      "01\n",
      "02\n",
      "03\n",
      "04\n",
      "05\n",
      "06\n",
      "07\n",
      "08\n",
      "09\n",
      "10\n",
      "11\n",
      "12\n",
      "1994\n",
      "01\n",
      "02\n",
      "03\n",
      "04\n",
      "05\n",
      "06\n",
      "07\n",
      "08\n",
      "09\n",
      "10\n",
      "11\n",
      "12\n",
      "1995\n",
      "01\n",
      "02\n",
      "03\n",
      "04\n",
      "05\n",
      "06\n",
      "07\n",
      "08\n",
      "09\n",
      "10\n",
      "11\n",
      "12\n",
      "1996\n",
      "01\n",
      "02\n",
      "03\n",
      "04\n",
      "05\n",
      "06\n",
      "07\n",
      "08\n",
      "09\n",
      "10\n",
      "11\n",
      "12\n",
      "1997\n",
      "01\n",
      "02\n",
      "03\n",
      "04\n",
      "05\n",
      "06\n",
      "07\n",
      "08\n",
      "09\n",
      "10\n",
      "11\n",
      "12\n",
      "1998\n",
      "01\n",
      "02\n",
      "03\n",
      "04\n",
      "05\n",
      "06\n",
      "07\n",
      "08\n",
      "09\n",
      "10\n",
      "11\n",
      "12\n",
      "1999\n",
      "01\n",
      "02\n",
      "03\n",
      "04\n",
      "05\n",
      "06\n",
      "07\n",
      "08\n",
      "09\n",
      "10\n",
      "11\n",
      "12\n",
      "2000\n",
      "01\n",
      "02\n",
      "03\n",
      "04\n",
      "05\n",
      "06\n",
      "07\n",
      "08\n",
      "09\n",
      "10\n",
      "11\n",
      "12\n",
      "2001\n",
      "01\n",
      "02\n",
      "03\n",
      "04\n"
     ]
    },
    {
     "name": "stderr",
     "output_type": "stream",
     "text": [
      "Ignoring index file 'O:/Climate-and-Energy-Policy/CERM/Projects/Wildfire/Data/ERA5-land/unprocess/FWI-variables/Europe/ERA5-land/2001-05.grib.5b7b6.idx' incompatible with GRIB file\n"
     ]
    },
    {
     "name": "stdout",
     "output_type": "stream",
     "text": [
      "05\n"
     ]
    },
    {
     "name": "stderr",
     "output_type": "stream",
     "text": [
      "C:\\Users\\ophme\\AppData\\Local\\anaconda3\\envs\\wildfire\\Lib\\site-packages\\xesmf\\frontend.py:718: UserWarning: Using dimensions ('lat', 'lon') from data variable rhum as the horizontal dimensions for the regridding.\n",
      "  warnings.warn(\n",
      "Ignoring index file 'O:/Climate-and-Energy-Policy/CERM/Projects/Wildfire/Data/ERA5-land/unprocess/FWI-variables/Europe/ERA5-land/2001-06.grib.5b7b6.idx' incompatible with GRIB file\n"
     ]
    },
    {
     "name": "stdout",
     "output_type": "stream",
     "text": [
      "06\n"
     ]
    },
    {
     "name": "stderr",
     "output_type": "stream",
     "text": [
      "C:\\Users\\ophme\\AppData\\Local\\anaconda3\\envs\\wildfire\\Lib\\site-packages\\xesmf\\frontend.py:718: UserWarning: Using dimensions ('lat', 'lon') from data variable rhum as the horizontal dimensions for the regridding.\n",
      "  warnings.warn(\n",
      "Ignoring index file 'O:/Climate-and-Energy-Policy/CERM/Projects/Wildfire/Data/ERA5-land/unprocess/FWI-variables/Europe/ERA5-land/2001-07.grib.5b7b6.idx' incompatible with GRIB file\n"
     ]
    },
    {
     "name": "stdout",
     "output_type": "stream",
     "text": [
      "07\n"
     ]
    },
    {
     "name": "stderr",
     "output_type": "stream",
     "text": [
      "C:\\Users\\ophme\\AppData\\Local\\anaconda3\\envs\\wildfire\\Lib\\site-packages\\xesmf\\frontend.py:718: UserWarning: Using dimensions ('lat', 'lon') from data variable rhum as the horizontal dimensions for the regridding.\n",
      "  warnings.warn(\n",
      "Ignoring index file 'O:/Climate-and-Energy-Policy/CERM/Projects/Wildfire/Data/ERA5-land/unprocess/FWI-variables/Europe/ERA5-land/2001-08.grib.5b7b6.idx' incompatible with GRIB file\n"
     ]
    },
    {
     "name": "stdout",
     "output_type": "stream",
     "text": [
      "08\n"
     ]
    },
    {
     "name": "stderr",
     "output_type": "stream",
     "text": [
      "C:\\Users\\ophme\\AppData\\Local\\anaconda3\\envs\\wildfire\\Lib\\site-packages\\xesmf\\frontend.py:718: UserWarning: Using dimensions ('lat', 'lon') from data variable rhum as the horizontal dimensions for the regridding.\n",
      "  warnings.warn(\n",
      "Ignoring index file 'O:/Climate-and-Energy-Policy/CERM/Projects/Wildfire/Data/ERA5-land/unprocess/FWI-variables/Europe/ERA5-land/2001-09.grib.5b7b6.idx' incompatible with GRIB file\n"
     ]
    },
    {
     "name": "stdout",
     "output_type": "stream",
     "text": [
      "09\n"
     ]
    },
    {
     "name": "stderr",
     "output_type": "stream",
     "text": [
      "C:\\Users\\ophme\\AppData\\Local\\anaconda3\\envs\\wildfire\\Lib\\site-packages\\xesmf\\frontend.py:718: UserWarning: Using dimensions ('lat', 'lon') from data variable rhum as the horizontal dimensions for the regridding.\n",
      "  warnings.warn(\n",
      "Ignoring index file 'O:/Climate-and-Energy-Policy/CERM/Projects/Wildfire/Data/ERA5-land/unprocess/FWI-variables/Europe/ERA5-land/2001-10.grib.5b7b6.idx' incompatible with GRIB file\n"
     ]
    },
    {
     "name": "stdout",
     "output_type": "stream",
     "text": [
      "10\n"
     ]
    },
    {
     "name": "stderr",
     "output_type": "stream",
     "text": [
      "C:\\Users\\ophme\\AppData\\Local\\anaconda3\\envs\\wildfire\\Lib\\site-packages\\xesmf\\frontend.py:718: UserWarning: Using dimensions ('lat', 'lon') from data variable rhum as the horizontal dimensions for the regridding.\n",
      "  warnings.warn(\n",
      "Ignoring index file 'O:/Climate-and-Energy-Policy/CERM/Projects/Wildfire/Data/ERA5-land/unprocess/FWI-variables/Europe/ERA5-land/2001-11.grib.5b7b6.idx' incompatible with GRIB file\n"
     ]
    },
    {
     "name": "stdout",
     "output_type": "stream",
     "text": [
      "11\n"
     ]
    },
    {
     "name": "stderr",
     "output_type": "stream",
     "text": [
      "C:\\Users\\ophme\\AppData\\Local\\anaconda3\\envs\\wildfire\\Lib\\site-packages\\xesmf\\frontend.py:718: UserWarning: Using dimensions ('lat', 'lon') from data variable rhum as the horizontal dimensions for the regridding.\n",
      "  warnings.warn(\n",
      "Ignoring index file 'O:/Climate-and-Energy-Policy/CERM/Projects/Wildfire/Data/ERA5-land/unprocess/FWI-variables/Europe/ERA5-land/2001-12.grib.5b7b6.idx' incompatible with GRIB file\n"
     ]
    },
    {
     "name": "stdout",
     "output_type": "stream",
     "text": [
      "12\n"
     ]
    },
    {
     "name": "stderr",
     "output_type": "stream",
     "text": [
      "C:\\Users\\ophme\\AppData\\Local\\anaconda3\\envs\\wildfire\\Lib\\site-packages\\xesmf\\frontend.py:718: UserWarning: Using dimensions ('lat', 'lon') from data variable rhum as the horizontal dimensions for the regridding.\n",
      "  warnings.warn(\n",
      "Ignoring index file 'O:/Climate-and-Energy-Policy/CERM/Projects/Wildfire/Data/ERA5-land/unprocess/FWI-variables/Europe/ERA5-land/2002-01.grib.5b7b6.idx' incompatible with GRIB file\n"
     ]
    },
    {
     "name": "stdout",
     "output_type": "stream",
     "text": [
      "2002\n",
      "01\n"
     ]
    },
    {
     "name": "stderr",
     "output_type": "stream",
     "text": [
      "C:\\Users\\ophme\\AppData\\Local\\anaconda3\\envs\\wildfire\\Lib\\site-packages\\xesmf\\frontend.py:718: UserWarning: Using dimensions ('lat', 'lon') from data variable rhum as the horizontal dimensions for the regridding.\n",
      "  warnings.warn(\n",
      "Ignoring index file 'O:/Climate-and-Energy-Policy/CERM/Projects/Wildfire/Data/ERA5-land/unprocess/FWI-variables/Europe/ERA5-land/2002-02.grib.5b7b6.idx' incompatible with GRIB file\n"
     ]
    },
    {
     "name": "stdout",
     "output_type": "stream",
     "text": [
      "02\n"
     ]
    },
    {
     "name": "stderr",
     "output_type": "stream",
     "text": [
      "C:\\Users\\ophme\\AppData\\Local\\anaconda3\\envs\\wildfire\\Lib\\site-packages\\xesmf\\frontend.py:718: UserWarning: Using dimensions ('lat', 'lon') from data variable rhum as the horizontal dimensions for the regridding.\n",
      "  warnings.warn(\n",
      "Ignoring index file 'O:/Climate-and-Energy-Policy/CERM/Projects/Wildfire/Data/ERA5-land/unprocess/FWI-variables/Europe/ERA5-land/2002-03.grib.5b7b6.idx' incompatible with GRIB file\n"
     ]
    },
    {
     "name": "stdout",
     "output_type": "stream",
     "text": [
      "03\n"
     ]
    },
    {
     "name": "stderr",
     "output_type": "stream",
     "text": [
      "C:\\Users\\ophme\\AppData\\Local\\anaconda3\\envs\\wildfire\\Lib\\site-packages\\xesmf\\frontend.py:718: UserWarning: Using dimensions ('lat', 'lon') from data variable rhum as the horizontal dimensions for the regridding.\n",
      "  warnings.warn(\n",
      "Ignoring index file 'O:/Climate-and-Energy-Policy/CERM/Projects/Wildfire/Data/ERA5-land/unprocess/FWI-variables/Europe/ERA5-land/2002-04.grib.5b7b6.idx' incompatible with GRIB file\n"
     ]
    },
    {
     "name": "stdout",
     "output_type": "stream",
     "text": [
      "04\n"
     ]
    },
    {
     "name": "stderr",
     "output_type": "stream",
     "text": [
      "C:\\Users\\ophme\\AppData\\Local\\anaconda3\\envs\\wildfire\\Lib\\site-packages\\xesmf\\frontend.py:718: UserWarning: Using dimensions ('lat', 'lon') from data variable rhum as the horizontal dimensions for the regridding.\n",
      "  warnings.warn(\n",
      "Ignoring index file 'O:/Climate-and-Energy-Policy/CERM/Projects/Wildfire/Data/ERA5-land/unprocess/FWI-variables/Europe/ERA5-land/2002-05.grib.5b7b6.idx' incompatible with GRIB file\n"
     ]
    },
    {
     "name": "stdout",
     "output_type": "stream",
     "text": [
      "05\n"
     ]
    },
    {
     "name": "stderr",
     "output_type": "stream",
     "text": [
      "C:\\Users\\ophme\\AppData\\Local\\anaconda3\\envs\\wildfire\\Lib\\site-packages\\xesmf\\frontend.py:718: UserWarning: Using dimensions ('lat', 'lon') from data variable rhum as the horizontal dimensions for the regridding.\n",
      "  warnings.warn(\n",
      "Ignoring index file 'O:/Climate-and-Energy-Policy/CERM/Projects/Wildfire/Data/ERA5-land/unprocess/FWI-variables/Europe/ERA5-land/2002-06.grib.5b7b6.idx' incompatible with GRIB file\n"
     ]
    },
    {
     "name": "stdout",
     "output_type": "stream",
     "text": [
      "06\n"
     ]
    },
    {
     "name": "stderr",
     "output_type": "stream",
     "text": [
      "C:\\Users\\ophme\\AppData\\Local\\anaconda3\\envs\\wildfire\\Lib\\site-packages\\xesmf\\frontend.py:718: UserWarning: Using dimensions ('lat', 'lon') from data variable rhum as the horizontal dimensions for the regridding.\n",
      "  warnings.warn(\n",
      "Ignoring index file 'O:/Climate-and-Energy-Policy/CERM/Projects/Wildfire/Data/ERA5-land/unprocess/FWI-variables/Europe/ERA5-land/2002-07.grib.5b7b6.idx' incompatible with GRIB file\n"
     ]
    },
    {
     "name": "stdout",
     "output_type": "stream",
     "text": [
      "07\n"
     ]
    },
    {
     "name": "stderr",
     "output_type": "stream",
     "text": [
      "C:\\Users\\ophme\\AppData\\Local\\anaconda3\\envs\\wildfire\\Lib\\site-packages\\xesmf\\frontend.py:718: UserWarning: Using dimensions ('lat', 'lon') from data variable rhum as the horizontal dimensions for the regridding.\n",
      "  warnings.warn(\n",
      "Ignoring index file 'O:/Climate-and-Energy-Policy/CERM/Projects/Wildfire/Data/ERA5-land/unprocess/FWI-variables/Europe/ERA5-land/2002-08.grib.5b7b6.idx' incompatible with GRIB file\n"
     ]
    },
    {
     "name": "stdout",
     "output_type": "stream",
     "text": [
      "08\n"
     ]
    },
    {
     "name": "stderr",
     "output_type": "stream",
     "text": [
      "C:\\Users\\ophme\\AppData\\Local\\anaconda3\\envs\\wildfire\\Lib\\site-packages\\xesmf\\frontend.py:718: UserWarning: Using dimensions ('lat', 'lon') from data variable rhum as the horizontal dimensions for the regridding.\n",
      "  warnings.warn(\n",
      "Ignoring index file 'O:/Climate-and-Energy-Policy/CERM/Projects/Wildfire/Data/ERA5-land/unprocess/FWI-variables/Europe/ERA5-land/2002-09.grib.5b7b6.idx' incompatible with GRIB file\n"
     ]
    },
    {
     "name": "stdout",
     "output_type": "stream",
     "text": [
      "09\n"
     ]
    },
    {
     "name": "stderr",
     "output_type": "stream",
     "text": [
      "C:\\Users\\ophme\\AppData\\Local\\anaconda3\\envs\\wildfire\\Lib\\site-packages\\xesmf\\frontend.py:718: UserWarning: Using dimensions ('lat', 'lon') from data variable rhum as the horizontal dimensions for the regridding.\n",
      "  warnings.warn(\n",
      "Ignoring index file 'O:/Climate-and-Energy-Policy/CERM/Projects/Wildfire/Data/ERA5-land/unprocess/FWI-variables/Europe/ERA5-land/2002-10.grib.5b7b6.idx' incompatible with GRIB file\n"
     ]
    },
    {
     "name": "stdout",
     "output_type": "stream",
     "text": [
      "10\n"
     ]
    },
    {
     "name": "stderr",
     "output_type": "stream",
     "text": [
      "C:\\Users\\ophme\\AppData\\Local\\anaconda3\\envs\\wildfire\\Lib\\site-packages\\xesmf\\frontend.py:718: UserWarning: Using dimensions ('lat', 'lon') from data variable rhum as the horizontal dimensions for the regridding.\n",
      "  warnings.warn(\n",
      "Ignoring index file 'O:/Climate-and-Energy-Policy/CERM/Projects/Wildfire/Data/ERA5-land/unprocess/FWI-variables/Europe/ERA5-land/2002-11.grib.5b7b6.idx' incompatible with GRIB file\n"
     ]
    },
    {
     "name": "stdout",
     "output_type": "stream",
     "text": [
      "11\n"
     ]
    },
    {
     "name": "stderr",
     "output_type": "stream",
     "text": [
      "C:\\Users\\ophme\\AppData\\Local\\anaconda3\\envs\\wildfire\\Lib\\site-packages\\xesmf\\frontend.py:718: UserWarning: Using dimensions ('lat', 'lon') from data variable rhum as the horizontal dimensions for the regridding.\n",
      "  warnings.warn(\n",
      "Ignoring index file 'O:/Climate-and-Energy-Policy/CERM/Projects/Wildfire/Data/ERA5-land/unprocess/FWI-variables/Europe/ERA5-land/2002-12.grib.5b7b6.idx' incompatible with GRIB file\n"
     ]
    },
    {
     "name": "stdout",
     "output_type": "stream",
     "text": [
      "12\n"
     ]
    },
    {
     "name": "stderr",
     "output_type": "stream",
     "text": [
      "C:\\Users\\ophme\\AppData\\Local\\anaconda3\\envs\\wildfire\\Lib\\site-packages\\xesmf\\frontend.py:718: UserWarning: Using dimensions ('lat', 'lon') from data variable rhum as the horizontal dimensions for the regridding.\n",
      "  warnings.warn(\n",
      "Ignoring index file 'O:/Climate-and-Energy-Policy/CERM/Projects/Wildfire/Data/ERA5-land/unprocess/FWI-variables/Europe/ERA5-land/2003-01.grib.5b7b6.idx' incompatible with GRIB file\n"
     ]
    },
    {
     "name": "stdout",
     "output_type": "stream",
     "text": [
      "2003\n",
      "01\n"
     ]
    },
    {
     "name": "stderr",
     "output_type": "stream",
     "text": [
      "C:\\Users\\ophme\\AppData\\Local\\anaconda3\\envs\\wildfire\\Lib\\site-packages\\xesmf\\frontend.py:718: UserWarning: Using dimensions ('lat', 'lon') from data variable rhum as the horizontal dimensions for the regridding.\n",
      "  warnings.warn(\n",
      "Ignoring index file 'O:/Climate-and-Energy-Policy/CERM/Projects/Wildfire/Data/ERA5-land/unprocess/FWI-variables/Europe/ERA5-land/2003-02.grib.5b7b6.idx' incompatible with GRIB file\n"
     ]
    },
    {
     "name": "stdout",
     "output_type": "stream",
     "text": [
      "02\n"
     ]
    },
    {
     "name": "stderr",
     "output_type": "stream",
     "text": [
      "C:\\Users\\ophme\\AppData\\Local\\anaconda3\\envs\\wildfire\\Lib\\site-packages\\xesmf\\frontend.py:718: UserWarning: Using dimensions ('lat', 'lon') from data variable rhum as the horizontal dimensions for the regridding.\n",
      "  warnings.warn(\n",
      "Ignoring index file 'O:/Climate-and-Energy-Policy/CERM/Projects/Wildfire/Data/ERA5-land/unprocess/FWI-variables/Europe/ERA5-land/2003-03.grib.5b7b6.idx' incompatible with GRIB file\n"
     ]
    },
    {
     "name": "stdout",
     "output_type": "stream",
     "text": [
      "03\n"
     ]
    },
    {
     "name": "stderr",
     "output_type": "stream",
     "text": [
      "C:\\Users\\ophme\\AppData\\Local\\anaconda3\\envs\\wildfire\\Lib\\site-packages\\xesmf\\frontend.py:718: UserWarning: Using dimensions ('lat', 'lon') from data variable rhum as the horizontal dimensions for the regridding.\n",
      "  warnings.warn(\n",
      "Ignoring index file 'O:/Climate-and-Energy-Policy/CERM/Projects/Wildfire/Data/ERA5-land/unprocess/FWI-variables/Europe/ERA5-land/2003-04.grib.5b7b6.idx' incompatible with GRIB file\n"
     ]
    },
    {
     "name": "stdout",
     "output_type": "stream",
     "text": [
      "04\n"
     ]
    },
    {
     "name": "stderr",
     "output_type": "stream",
     "text": [
      "C:\\Users\\ophme\\AppData\\Local\\anaconda3\\envs\\wildfire\\Lib\\site-packages\\xesmf\\frontend.py:718: UserWarning: Using dimensions ('lat', 'lon') from data variable rhum as the horizontal dimensions for the regridding.\n",
      "  warnings.warn(\n",
      "Ignoring index file 'O:/Climate-and-Energy-Policy/CERM/Projects/Wildfire/Data/ERA5-land/unprocess/FWI-variables/Europe/ERA5-land/2003-05.grib.5b7b6.idx' incompatible with GRIB file\n"
     ]
    },
    {
     "name": "stdout",
     "output_type": "stream",
     "text": [
      "05\n"
     ]
    },
    {
     "name": "stderr",
     "output_type": "stream",
     "text": [
      "C:\\Users\\ophme\\AppData\\Local\\anaconda3\\envs\\wildfire\\Lib\\site-packages\\xesmf\\frontend.py:718: UserWarning: Using dimensions ('lat', 'lon') from data variable rhum as the horizontal dimensions for the regridding.\n",
      "  warnings.warn(\n",
      "Ignoring index file 'O:/Climate-and-Energy-Policy/CERM/Projects/Wildfire/Data/ERA5-land/unprocess/FWI-variables/Europe/ERA5-land/2003-06.grib.5b7b6.idx' incompatible with GRIB file\n"
     ]
    },
    {
     "name": "stdout",
     "output_type": "stream",
     "text": [
      "06\n"
     ]
    },
    {
     "name": "stderr",
     "output_type": "stream",
     "text": [
      "C:\\Users\\ophme\\AppData\\Local\\anaconda3\\envs\\wildfire\\Lib\\site-packages\\xesmf\\frontend.py:718: UserWarning: Using dimensions ('lat', 'lon') from data variable rhum as the horizontal dimensions for the regridding.\n",
      "  warnings.warn(\n",
      "Ignoring index file 'O:/Climate-and-Energy-Policy/CERM/Projects/Wildfire/Data/ERA5-land/unprocess/FWI-variables/Europe/ERA5-land/2003-07.grib.5b7b6.idx' incompatible with GRIB file\n"
     ]
    },
    {
     "name": "stdout",
     "output_type": "stream",
     "text": [
      "07\n"
     ]
    },
    {
     "name": "stderr",
     "output_type": "stream",
     "text": [
      "C:\\Users\\ophme\\AppData\\Local\\anaconda3\\envs\\wildfire\\Lib\\site-packages\\xesmf\\frontend.py:718: UserWarning: Using dimensions ('lat', 'lon') from data variable rhum as the horizontal dimensions for the regridding.\n",
      "  warnings.warn(\n",
      "Ignoring index file 'O:/Climate-and-Energy-Policy/CERM/Projects/Wildfire/Data/ERA5-land/unprocess/FWI-variables/Europe/ERA5-land/2003-08.grib.5b7b6.idx' incompatible with GRIB file\n"
     ]
    },
    {
     "name": "stdout",
     "output_type": "stream",
     "text": [
      "08\n"
     ]
    },
    {
     "name": "stderr",
     "output_type": "stream",
     "text": [
      "C:\\Users\\ophme\\AppData\\Local\\anaconda3\\envs\\wildfire\\Lib\\site-packages\\xesmf\\frontend.py:718: UserWarning: Using dimensions ('lat', 'lon') from data variable rhum as the horizontal dimensions for the regridding.\n",
      "  warnings.warn(\n",
      "Ignoring index file 'O:/Climate-and-Energy-Policy/CERM/Projects/Wildfire/Data/ERA5-land/unprocess/FWI-variables/Europe/ERA5-land/2003-09.grib.5b7b6.idx' incompatible with GRIB file\n"
     ]
    },
    {
     "name": "stdout",
     "output_type": "stream",
     "text": [
      "09\n"
     ]
    },
    {
     "name": "stderr",
     "output_type": "stream",
     "text": [
      "C:\\Users\\ophme\\AppData\\Local\\anaconda3\\envs\\wildfire\\Lib\\site-packages\\xesmf\\frontend.py:718: UserWarning: Using dimensions ('lat', 'lon') from data variable rhum as the horizontal dimensions for the regridding.\n",
      "  warnings.warn(\n",
      "Ignoring index file 'O:/Climate-and-Energy-Policy/CERM/Projects/Wildfire/Data/ERA5-land/unprocess/FWI-variables/Europe/ERA5-land/2003-10.grib.5b7b6.idx' incompatible with GRIB file\n"
     ]
    },
    {
     "name": "stdout",
     "output_type": "stream",
     "text": [
      "10\n"
     ]
    },
    {
     "name": "stderr",
     "output_type": "stream",
     "text": [
      "C:\\Users\\ophme\\AppData\\Local\\anaconda3\\envs\\wildfire\\Lib\\site-packages\\xesmf\\frontend.py:718: UserWarning: Using dimensions ('lat', 'lon') from data variable rhum as the horizontal dimensions for the regridding.\n",
      "  warnings.warn(\n",
      "Ignoring index file 'O:/Climate-and-Energy-Policy/CERM/Projects/Wildfire/Data/ERA5-land/unprocess/FWI-variables/Europe/ERA5-land/2003-11.grib.5b7b6.idx' incompatible with GRIB file\n"
     ]
    },
    {
     "name": "stdout",
     "output_type": "stream",
     "text": [
      "11\n"
     ]
    },
    {
     "name": "stderr",
     "output_type": "stream",
     "text": [
      "C:\\Users\\ophme\\AppData\\Local\\anaconda3\\envs\\wildfire\\Lib\\site-packages\\xesmf\\frontend.py:718: UserWarning: Using dimensions ('lat', 'lon') from data variable rhum as the horizontal dimensions for the regridding.\n",
      "  warnings.warn(\n",
      "Ignoring index file 'O:/Climate-and-Energy-Policy/CERM/Projects/Wildfire/Data/ERA5-land/unprocess/FWI-variables/Europe/ERA5-land/2003-12.grib.5b7b6.idx' incompatible with GRIB file\n"
     ]
    },
    {
     "name": "stdout",
     "output_type": "stream",
     "text": [
      "12\n"
     ]
    },
    {
     "name": "stderr",
     "output_type": "stream",
     "text": [
      "C:\\Users\\ophme\\AppData\\Local\\anaconda3\\envs\\wildfire\\Lib\\site-packages\\xesmf\\frontend.py:718: UserWarning: Using dimensions ('lat', 'lon') from data variable rhum as the horizontal dimensions for the regridding.\n",
      "  warnings.warn(\n",
      "Ignoring index file 'O:/Climate-and-Energy-Policy/CERM/Projects/Wildfire/Data/ERA5-land/unprocess/FWI-variables/Europe/ERA5-land/2004-01.grib.5b7b6.idx' incompatible with GRIB file\n"
     ]
    },
    {
     "name": "stdout",
     "output_type": "stream",
     "text": [
      "2004\n",
      "01\n"
     ]
    },
    {
     "name": "stderr",
     "output_type": "stream",
     "text": [
      "C:\\Users\\ophme\\AppData\\Local\\anaconda3\\envs\\wildfire\\Lib\\site-packages\\xesmf\\frontend.py:718: UserWarning: Using dimensions ('lat', 'lon') from data variable rhum as the horizontal dimensions for the regridding.\n",
      "  warnings.warn(\n",
      "Ignoring index file 'O:/Climate-and-Energy-Policy/CERM/Projects/Wildfire/Data/ERA5-land/unprocess/FWI-variables/Europe/ERA5-land/2004-02.grib.5b7b6.idx' incompatible with GRIB file\n"
     ]
    },
    {
     "name": "stdout",
     "output_type": "stream",
     "text": [
      "02\n"
     ]
    },
    {
     "name": "stderr",
     "output_type": "stream",
     "text": [
      "C:\\Users\\ophme\\AppData\\Local\\anaconda3\\envs\\wildfire\\Lib\\site-packages\\xesmf\\frontend.py:718: UserWarning: Using dimensions ('lat', 'lon') from data variable rhum as the horizontal dimensions for the regridding.\n",
      "  warnings.warn(\n",
      "Ignoring index file 'O:/Climate-and-Energy-Policy/CERM/Projects/Wildfire/Data/ERA5-land/unprocess/FWI-variables/Europe/ERA5-land/2004-03.grib.5b7b6.idx' incompatible with GRIB file\n"
     ]
    },
    {
     "name": "stdout",
     "output_type": "stream",
     "text": [
      "03\n"
     ]
    },
    {
     "name": "stderr",
     "output_type": "stream",
     "text": [
      "C:\\Users\\ophme\\AppData\\Local\\anaconda3\\envs\\wildfire\\Lib\\site-packages\\xesmf\\frontend.py:718: UserWarning: Using dimensions ('lat', 'lon') from data variable rhum as the horizontal dimensions for the regridding.\n",
      "  warnings.warn(\n",
      "Ignoring index file 'O:/Climate-and-Energy-Policy/CERM/Projects/Wildfire/Data/ERA5-land/unprocess/FWI-variables/Europe/ERA5-land/2004-04.grib.5b7b6.idx' incompatible with GRIB file\n"
     ]
    },
    {
     "name": "stdout",
     "output_type": "stream",
     "text": [
      "04\n"
     ]
    },
    {
     "name": "stderr",
     "output_type": "stream",
     "text": [
      "C:\\Users\\ophme\\AppData\\Local\\anaconda3\\envs\\wildfire\\Lib\\site-packages\\xesmf\\frontend.py:718: UserWarning: Using dimensions ('lat', 'lon') from data variable rhum as the horizontal dimensions for the regridding.\n",
      "  warnings.warn(\n",
      "Ignoring index file 'O:/Climate-and-Energy-Policy/CERM/Projects/Wildfire/Data/ERA5-land/unprocess/FWI-variables/Europe/ERA5-land/2004-05.grib.5b7b6.idx' incompatible with GRIB file\n"
     ]
    },
    {
     "name": "stdout",
     "output_type": "stream",
     "text": [
      "05\n"
     ]
    },
    {
     "name": "stderr",
     "output_type": "stream",
     "text": [
      "C:\\Users\\ophme\\AppData\\Local\\anaconda3\\envs\\wildfire\\Lib\\site-packages\\xesmf\\frontend.py:718: UserWarning: Using dimensions ('lat', 'lon') from data variable rhum as the horizontal dimensions for the regridding.\n",
      "  warnings.warn(\n",
      "Ignoring index file 'O:/Climate-and-Energy-Policy/CERM/Projects/Wildfire/Data/ERA5-land/unprocess/FWI-variables/Europe/ERA5-land/2004-06.grib.5b7b6.idx' incompatible with GRIB file\n"
     ]
    },
    {
     "name": "stdout",
     "output_type": "stream",
     "text": [
      "06\n"
     ]
    },
    {
     "name": "stderr",
     "output_type": "stream",
     "text": [
      "C:\\Users\\ophme\\AppData\\Local\\anaconda3\\envs\\wildfire\\Lib\\site-packages\\xesmf\\frontend.py:718: UserWarning: Using dimensions ('lat', 'lon') from data variable rhum as the horizontal dimensions for the regridding.\n",
      "  warnings.warn(\n",
      "Ignoring index file 'O:/Climate-and-Energy-Policy/CERM/Projects/Wildfire/Data/ERA5-land/unprocess/FWI-variables/Europe/ERA5-land/2004-07.grib.5b7b6.idx' incompatible with GRIB file\n"
     ]
    },
    {
     "name": "stdout",
     "output_type": "stream",
     "text": [
      "07\n"
     ]
    },
    {
     "name": "stderr",
     "output_type": "stream",
     "text": [
      "C:\\Users\\ophme\\AppData\\Local\\anaconda3\\envs\\wildfire\\Lib\\site-packages\\xesmf\\frontend.py:718: UserWarning: Using dimensions ('lat', 'lon') from data variable rhum as the horizontal dimensions for the regridding.\n",
      "  warnings.warn(\n",
      "Ignoring index file 'O:/Climate-and-Energy-Policy/CERM/Projects/Wildfire/Data/ERA5-land/unprocess/FWI-variables/Europe/ERA5-land/2004-08.grib.5b7b6.idx' incompatible with GRIB file\n"
     ]
    },
    {
     "name": "stdout",
     "output_type": "stream",
     "text": [
      "08\n"
     ]
    },
    {
     "name": "stderr",
     "output_type": "stream",
     "text": [
      "C:\\Users\\ophme\\AppData\\Local\\anaconda3\\envs\\wildfire\\Lib\\site-packages\\xesmf\\frontend.py:718: UserWarning: Using dimensions ('lat', 'lon') from data variable rhum as the horizontal dimensions for the regridding.\n",
      "  warnings.warn(\n",
      "Ignoring index file 'O:/Climate-and-Energy-Policy/CERM/Projects/Wildfire/Data/ERA5-land/unprocess/FWI-variables/Europe/ERA5-land/2004-09.grib.5b7b6.idx' incompatible with GRIB file\n"
     ]
    },
    {
     "name": "stdout",
     "output_type": "stream",
     "text": [
      "09\n"
     ]
    },
    {
     "name": "stderr",
     "output_type": "stream",
     "text": [
      "C:\\Users\\ophme\\AppData\\Local\\anaconda3\\envs\\wildfire\\Lib\\site-packages\\xesmf\\frontend.py:718: UserWarning: Using dimensions ('lat', 'lon') from data variable rhum as the horizontal dimensions for the regridding.\n",
      "  warnings.warn(\n",
      "Ignoring index file 'O:/Climate-and-Energy-Policy/CERM/Projects/Wildfire/Data/ERA5-land/unprocess/FWI-variables/Europe/ERA5-land/2004-10.grib.5b7b6.idx' incompatible with GRIB file\n"
     ]
    },
    {
     "name": "stdout",
     "output_type": "stream",
     "text": [
      "10\n"
     ]
    },
    {
     "name": "stderr",
     "output_type": "stream",
     "text": [
      "C:\\Users\\ophme\\AppData\\Local\\anaconda3\\envs\\wildfire\\Lib\\site-packages\\xesmf\\frontend.py:718: UserWarning: Using dimensions ('lat', 'lon') from data variable rhum as the horizontal dimensions for the regridding.\n",
      "  warnings.warn(\n",
      "Ignoring index file 'O:/Climate-and-Energy-Policy/CERM/Projects/Wildfire/Data/ERA5-land/unprocess/FWI-variables/Europe/ERA5-land/2004-11.grib.5b7b6.idx' incompatible with GRIB file\n"
     ]
    },
    {
     "name": "stdout",
     "output_type": "stream",
     "text": [
      "11\n"
     ]
    },
    {
     "name": "stderr",
     "output_type": "stream",
     "text": [
      "C:\\Users\\ophme\\AppData\\Local\\anaconda3\\envs\\wildfire\\Lib\\site-packages\\xesmf\\frontend.py:718: UserWarning: Using dimensions ('lat', 'lon') from data variable rhum as the horizontal dimensions for the regridding.\n",
      "  warnings.warn(\n",
      "Ignoring index file 'O:/Climate-and-Energy-Policy/CERM/Projects/Wildfire/Data/ERA5-land/unprocess/FWI-variables/Europe/ERA5-land/2004-12.grib.5b7b6.idx' incompatible with GRIB file\n"
     ]
    },
    {
     "name": "stdout",
     "output_type": "stream",
     "text": [
      "12\n"
     ]
    },
    {
     "name": "stderr",
     "output_type": "stream",
     "text": [
      "C:\\Users\\ophme\\AppData\\Local\\anaconda3\\envs\\wildfire\\Lib\\site-packages\\xesmf\\frontend.py:718: UserWarning: Using dimensions ('lat', 'lon') from data variable rhum as the horizontal dimensions for the regridding.\n",
      "  warnings.warn(\n",
      "Ignoring index file 'O:/Climate-and-Energy-Policy/CERM/Projects/Wildfire/Data/ERA5-land/unprocess/FWI-variables/Europe/ERA5-land/2005-01.grib.5b7b6.idx' incompatible with GRIB file\n"
     ]
    },
    {
     "name": "stdout",
     "output_type": "stream",
     "text": [
      "2005\n",
      "01\n"
     ]
    },
    {
     "name": "stderr",
     "output_type": "stream",
     "text": [
      "C:\\Users\\ophme\\AppData\\Local\\anaconda3\\envs\\wildfire\\Lib\\site-packages\\xesmf\\frontend.py:718: UserWarning: Using dimensions ('lat', 'lon') from data variable rhum as the horizontal dimensions for the regridding.\n",
      "  warnings.warn(\n",
      "Ignoring index file 'O:/Climate-and-Energy-Policy/CERM/Projects/Wildfire/Data/ERA5-land/unprocess/FWI-variables/Europe/ERA5-land/2005-02.grib.5b7b6.idx' incompatible with GRIB file\n"
     ]
    },
    {
     "name": "stdout",
     "output_type": "stream",
     "text": [
      "02\n"
     ]
    },
    {
     "name": "stderr",
     "output_type": "stream",
     "text": [
      "C:\\Users\\ophme\\AppData\\Local\\anaconda3\\envs\\wildfire\\Lib\\site-packages\\xesmf\\frontend.py:718: UserWarning: Using dimensions ('lat', 'lon') from data variable rhum as the horizontal dimensions for the regridding.\n",
      "  warnings.warn(\n",
      "Ignoring index file 'O:/Climate-and-Energy-Policy/CERM/Projects/Wildfire/Data/ERA5-land/unprocess/FWI-variables/Europe/ERA5-land/2005-03.grib.5b7b6.idx' incompatible with GRIB file\n"
     ]
    },
    {
     "name": "stdout",
     "output_type": "stream",
     "text": [
      "03\n"
     ]
    },
    {
     "name": "stderr",
     "output_type": "stream",
     "text": [
      "C:\\Users\\ophme\\AppData\\Local\\anaconda3\\envs\\wildfire\\Lib\\site-packages\\xesmf\\frontend.py:718: UserWarning: Using dimensions ('lat', 'lon') from data variable rhum as the horizontal dimensions for the regridding.\n",
      "  warnings.warn(\n",
      "Ignoring index file 'O:/Climate-and-Energy-Policy/CERM/Projects/Wildfire/Data/ERA5-land/unprocess/FWI-variables/Europe/ERA5-land/2005-04.grib.5b7b6.idx' incompatible with GRIB file\n"
     ]
    },
    {
     "name": "stdout",
     "output_type": "stream",
     "text": [
      "04\n"
     ]
    },
    {
     "name": "stderr",
     "output_type": "stream",
     "text": [
      "C:\\Users\\ophme\\AppData\\Local\\anaconda3\\envs\\wildfire\\Lib\\site-packages\\xesmf\\frontend.py:718: UserWarning: Using dimensions ('lat', 'lon') from data variable rhum as the horizontal dimensions for the regridding.\n",
      "  warnings.warn(\n",
      "Ignoring index file 'O:/Climate-and-Energy-Policy/CERM/Projects/Wildfire/Data/ERA5-land/unprocess/FWI-variables/Europe/ERA5-land/2005-05.grib.5b7b6.idx' incompatible with GRIB file\n"
     ]
    },
    {
     "name": "stdout",
     "output_type": "stream",
     "text": [
      "05\n"
     ]
    },
    {
     "name": "stderr",
     "output_type": "stream",
     "text": [
      "C:\\Users\\ophme\\AppData\\Local\\anaconda3\\envs\\wildfire\\Lib\\site-packages\\xesmf\\frontend.py:718: UserWarning: Using dimensions ('lat', 'lon') from data variable rhum as the horizontal dimensions for the regridding.\n",
      "  warnings.warn(\n",
      "Ignoring index file 'O:/Climate-and-Energy-Policy/CERM/Projects/Wildfire/Data/ERA5-land/unprocess/FWI-variables/Europe/ERA5-land/2005-06.grib.5b7b6.idx' incompatible with GRIB file\n"
     ]
    },
    {
     "name": "stdout",
     "output_type": "stream",
     "text": [
      "06\n"
     ]
    },
    {
     "name": "stderr",
     "output_type": "stream",
     "text": [
      "C:\\Users\\ophme\\AppData\\Local\\anaconda3\\envs\\wildfire\\Lib\\site-packages\\xesmf\\frontend.py:718: UserWarning: Using dimensions ('lat', 'lon') from data variable rhum as the horizontal dimensions for the regridding.\n",
      "  warnings.warn(\n",
      "Ignoring index file 'O:/Climate-and-Energy-Policy/CERM/Projects/Wildfire/Data/ERA5-land/unprocess/FWI-variables/Europe/ERA5-land/2005-07.grib.5b7b6.idx' incompatible with GRIB file\n"
     ]
    },
    {
     "name": "stdout",
     "output_type": "stream",
     "text": [
      "07\n"
     ]
    },
    {
     "name": "stderr",
     "output_type": "stream",
     "text": [
      "C:\\Users\\ophme\\AppData\\Local\\anaconda3\\envs\\wildfire\\Lib\\site-packages\\xesmf\\frontend.py:718: UserWarning: Using dimensions ('lat', 'lon') from data variable rhum as the horizontal dimensions for the regridding.\n",
      "  warnings.warn(\n",
      "Ignoring index file 'O:/Climate-and-Energy-Policy/CERM/Projects/Wildfire/Data/ERA5-land/unprocess/FWI-variables/Europe/ERA5-land/2005-08.grib.5b7b6.idx' incompatible with GRIB file\n"
     ]
    },
    {
     "name": "stdout",
     "output_type": "stream",
     "text": [
      "08\n"
     ]
    },
    {
     "name": "stderr",
     "output_type": "stream",
     "text": [
      "C:\\Users\\ophme\\AppData\\Local\\anaconda3\\envs\\wildfire\\Lib\\site-packages\\xesmf\\frontend.py:718: UserWarning: Using dimensions ('lat', 'lon') from data variable rhum as the horizontal dimensions for the regridding.\n",
      "  warnings.warn(\n",
      "Ignoring index file 'O:/Climate-and-Energy-Policy/CERM/Projects/Wildfire/Data/ERA5-land/unprocess/FWI-variables/Europe/ERA5-land/2005-09.grib.5b7b6.idx' incompatible with GRIB file\n"
     ]
    },
    {
     "name": "stdout",
     "output_type": "stream",
     "text": [
      "09\n"
     ]
    },
    {
     "name": "stderr",
     "output_type": "stream",
     "text": [
      "C:\\Users\\ophme\\AppData\\Local\\anaconda3\\envs\\wildfire\\Lib\\site-packages\\xesmf\\frontend.py:718: UserWarning: Using dimensions ('lat', 'lon') from data variable rhum as the horizontal dimensions for the regridding.\n",
      "  warnings.warn(\n",
      "Ignoring index file 'O:/Climate-and-Energy-Policy/CERM/Projects/Wildfire/Data/ERA5-land/unprocess/FWI-variables/Europe/ERA5-land/2005-10.grib.5b7b6.idx' incompatible with GRIB file\n"
     ]
    },
    {
     "name": "stdout",
     "output_type": "stream",
     "text": [
      "10\n"
     ]
    },
    {
     "name": "stderr",
     "output_type": "stream",
     "text": [
      "C:\\Users\\ophme\\AppData\\Local\\anaconda3\\envs\\wildfire\\Lib\\site-packages\\xesmf\\frontend.py:718: UserWarning: Using dimensions ('lat', 'lon') from data variable rhum as the horizontal dimensions for the regridding.\n",
      "  warnings.warn(\n",
      "Ignoring index file 'O:/Climate-and-Energy-Policy/CERM/Projects/Wildfire/Data/ERA5-land/unprocess/FWI-variables/Europe/ERA5-land/2005-11.grib.5b7b6.idx' incompatible with GRIB file\n"
     ]
    },
    {
     "name": "stdout",
     "output_type": "stream",
     "text": [
      "11\n"
     ]
    },
    {
     "name": "stderr",
     "output_type": "stream",
     "text": [
      "C:\\Users\\ophme\\AppData\\Local\\anaconda3\\envs\\wildfire\\Lib\\site-packages\\xesmf\\frontend.py:718: UserWarning: Using dimensions ('lat', 'lon') from data variable rhum as the horizontal dimensions for the regridding.\n",
      "  warnings.warn(\n",
      "Ignoring index file 'O:/Climate-and-Energy-Policy/CERM/Projects/Wildfire/Data/ERA5-land/unprocess/FWI-variables/Europe/ERA5-land/2005-12.grib.5b7b6.idx' incompatible with GRIB file\n"
     ]
    },
    {
     "name": "stdout",
     "output_type": "stream",
     "text": [
      "12\n"
     ]
    },
    {
     "name": "stderr",
     "output_type": "stream",
     "text": [
      "C:\\Users\\ophme\\AppData\\Local\\anaconda3\\envs\\wildfire\\Lib\\site-packages\\xesmf\\frontend.py:718: UserWarning: Using dimensions ('lat', 'lon') from data variable rhum as the horizontal dimensions for the regridding.\n",
      "  warnings.warn(\n",
      "Ignoring index file 'O:/Climate-and-Energy-Policy/CERM/Projects/Wildfire/Data/ERA5-land/unprocess/FWI-variables/Europe/ERA5-land/2006-01.grib.5b7b6.idx' incompatible with GRIB file\n"
     ]
    },
    {
     "name": "stdout",
     "output_type": "stream",
     "text": [
      "2006\n",
      "01\n"
     ]
    },
    {
     "name": "stderr",
     "output_type": "stream",
     "text": [
      "C:\\Users\\ophme\\AppData\\Local\\anaconda3\\envs\\wildfire\\Lib\\site-packages\\xesmf\\frontend.py:718: UserWarning: Using dimensions ('lat', 'lon') from data variable rhum as the horizontal dimensions for the regridding.\n",
      "  warnings.warn(\n",
      "Ignoring index file 'O:/Climate-and-Energy-Policy/CERM/Projects/Wildfire/Data/ERA5-land/unprocess/FWI-variables/Europe/ERA5-land/2006-02.grib.5b7b6.idx' incompatible with GRIB file\n"
     ]
    },
    {
     "name": "stdout",
     "output_type": "stream",
     "text": [
      "02\n"
     ]
    },
    {
     "name": "stderr",
     "output_type": "stream",
     "text": [
      "C:\\Users\\ophme\\AppData\\Local\\anaconda3\\envs\\wildfire\\Lib\\site-packages\\xesmf\\frontend.py:718: UserWarning: Using dimensions ('lat', 'lon') from data variable rhum as the horizontal dimensions for the regridding.\n",
      "  warnings.warn(\n",
      "Ignoring index file 'O:/Climate-and-Energy-Policy/CERM/Projects/Wildfire/Data/ERA5-land/unprocess/FWI-variables/Europe/ERA5-land/2006-03.grib.5b7b6.idx' incompatible with GRIB file\n"
     ]
    },
    {
     "name": "stdout",
     "output_type": "stream",
     "text": [
      "03\n"
     ]
    },
    {
     "name": "stderr",
     "output_type": "stream",
     "text": [
      "C:\\Users\\ophme\\AppData\\Local\\anaconda3\\envs\\wildfire\\Lib\\site-packages\\xesmf\\frontend.py:718: UserWarning: Using dimensions ('lat', 'lon') from data variable rhum as the horizontal dimensions for the regridding.\n",
      "  warnings.warn(\n",
      "Ignoring index file 'O:/Climate-and-Energy-Policy/CERM/Projects/Wildfire/Data/ERA5-land/unprocess/FWI-variables/Europe/ERA5-land/2006-04.grib.5b7b6.idx' incompatible with GRIB file\n"
     ]
    },
    {
     "name": "stdout",
     "output_type": "stream",
     "text": [
      "04\n"
     ]
    },
    {
     "name": "stderr",
     "output_type": "stream",
     "text": [
      "C:\\Users\\ophme\\AppData\\Local\\anaconda3\\envs\\wildfire\\Lib\\site-packages\\xesmf\\frontend.py:718: UserWarning: Using dimensions ('lat', 'lon') from data variable rhum as the horizontal dimensions for the regridding.\n",
      "  warnings.warn(\n",
      "Ignoring index file 'O:/Climate-and-Energy-Policy/CERM/Projects/Wildfire/Data/ERA5-land/unprocess/FWI-variables/Europe/ERA5-land/2006-05.grib.5b7b6.idx' incompatible with GRIB file\n"
     ]
    },
    {
     "name": "stdout",
     "output_type": "stream",
     "text": [
      "05\n"
     ]
    },
    {
     "name": "stderr",
     "output_type": "stream",
     "text": [
      "C:\\Users\\ophme\\AppData\\Local\\anaconda3\\envs\\wildfire\\Lib\\site-packages\\xesmf\\frontend.py:718: UserWarning: Using dimensions ('lat', 'lon') from data variable rhum as the horizontal dimensions for the regridding.\n",
      "  warnings.warn(\n",
      "Ignoring index file 'O:/Climate-and-Energy-Policy/CERM/Projects/Wildfire/Data/ERA5-land/unprocess/FWI-variables/Europe/ERA5-land/2006-06.grib.5b7b6.idx' incompatible with GRIB file\n"
     ]
    },
    {
     "name": "stdout",
     "output_type": "stream",
     "text": [
      "06\n"
     ]
    },
    {
     "name": "stderr",
     "output_type": "stream",
     "text": [
      "C:\\Users\\ophme\\AppData\\Local\\anaconda3\\envs\\wildfire\\Lib\\site-packages\\xesmf\\frontend.py:718: UserWarning: Using dimensions ('lat', 'lon') from data variable rhum as the horizontal dimensions for the regridding.\n",
      "  warnings.warn(\n",
      "Ignoring index file 'O:/Climate-and-Energy-Policy/CERM/Projects/Wildfire/Data/ERA5-land/unprocess/FWI-variables/Europe/ERA5-land/2006-07.grib.5b7b6.idx' incompatible with GRIB file\n"
     ]
    },
    {
     "name": "stdout",
     "output_type": "stream",
     "text": [
      "07\n"
     ]
    },
    {
     "name": "stderr",
     "output_type": "stream",
     "text": [
      "C:\\Users\\ophme\\AppData\\Local\\anaconda3\\envs\\wildfire\\Lib\\site-packages\\xesmf\\frontend.py:718: UserWarning: Using dimensions ('lat', 'lon') from data variable rhum as the horizontal dimensions for the regridding.\n",
      "  warnings.warn(\n",
      "Ignoring index file 'O:/Climate-and-Energy-Policy/CERM/Projects/Wildfire/Data/ERA5-land/unprocess/FWI-variables/Europe/ERA5-land/2006-08.grib.5b7b6.idx' incompatible with GRIB file\n"
     ]
    },
    {
     "name": "stdout",
     "output_type": "stream",
     "text": [
      "08\n"
     ]
    },
    {
     "name": "stderr",
     "output_type": "stream",
     "text": [
      "C:\\Users\\ophme\\AppData\\Local\\anaconda3\\envs\\wildfire\\Lib\\site-packages\\xesmf\\frontend.py:718: UserWarning: Using dimensions ('lat', 'lon') from data variable rhum as the horizontal dimensions for the regridding.\n",
      "  warnings.warn(\n",
      "Ignoring index file 'O:/Climate-and-Energy-Policy/CERM/Projects/Wildfire/Data/ERA5-land/unprocess/FWI-variables/Europe/ERA5-land/2006-09.grib.5b7b6.idx' incompatible with GRIB file\n"
     ]
    },
    {
     "name": "stdout",
     "output_type": "stream",
     "text": [
      "09\n"
     ]
    },
    {
     "name": "stderr",
     "output_type": "stream",
     "text": [
      "C:\\Users\\ophme\\AppData\\Local\\anaconda3\\envs\\wildfire\\Lib\\site-packages\\xesmf\\frontend.py:718: UserWarning: Using dimensions ('lat', 'lon') from data variable rhum as the horizontal dimensions for the regridding.\n",
      "  warnings.warn(\n",
      "Ignoring index file 'O:/Climate-and-Energy-Policy/CERM/Projects/Wildfire/Data/ERA5-land/unprocess/FWI-variables/Europe/ERA5-land/2006-10.grib.5b7b6.idx' incompatible with GRIB file\n"
     ]
    },
    {
     "name": "stdout",
     "output_type": "stream",
     "text": [
      "10\n"
     ]
    },
    {
     "name": "stderr",
     "output_type": "stream",
     "text": [
      "C:\\Users\\ophme\\AppData\\Local\\anaconda3\\envs\\wildfire\\Lib\\site-packages\\xesmf\\frontend.py:718: UserWarning: Using dimensions ('lat', 'lon') from data variable rhum as the horizontal dimensions for the regridding.\n",
      "  warnings.warn(\n",
      "Ignoring index file 'O:/Climate-and-Energy-Policy/CERM/Projects/Wildfire/Data/ERA5-land/unprocess/FWI-variables/Europe/ERA5-land/2006-11.grib.5b7b6.idx' incompatible with GRIB file\n"
     ]
    },
    {
     "name": "stdout",
     "output_type": "stream",
     "text": [
      "11\n"
     ]
    },
    {
     "name": "stderr",
     "output_type": "stream",
     "text": [
      "C:\\Users\\ophme\\AppData\\Local\\anaconda3\\envs\\wildfire\\Lib\\site-packages\\xesmf\\frontend.py:718: UserWarning: Using dimensions ('lat', 'lon') from data variable rhum as the horizontal dimensions for the regridding.\n",
      "  warnings.warn(\n",
      "Ignoring index file 'O:/Climate-and-Energy-Policy/CERM/Projects/Wildfire/Data/ERA5-land/unprocess/FWI-variables/Europe/ERA5-land/2006-12.grib.5b7b6.idx' incompatible with GRIB file\n"
     ]
    },
    {
     "name": "stdout",
     "output_type": "stream",
     "text": [
      "12\n"
     ]
    },
    {
     "name": "stderr",
     "output_type": "stream",
     "text": [
      "C:\\Users\\ophme\\AppData\\Local\\anaconda3\\envs\\wildfire\\Lib\\site-packages\\xesmf\\frontend.py:718: UserWarning: Using dimensions ('lat', 'lon') from data variable rhum as the horizontal dimensions for the regridding.\n",
      "  warnings.warn(\n",
      "Ignoring index file 'O:/Climate-and-Energy-Policy/CERM/Projects/Wildfire/Data/ERA5-land/unprocess/FWI-variables/Europe/ERA5-land/2007-01.grib.5b7b6.idx' incompatible with GRIB file\n"
     ]
    },
    {
     "name": "stdout",
     "output_type": "stream",
     "text": [
      "2007\n",
      "01\n"
     ]
    },
    {
     "name": "stderr",
     "output_type": "stream",
     "text": [
      "C:\\Users\\ophme\\AppData\\Local\\anaconda3\\envs\\wildfire\\Lib\\site-packages\\xesmf\\frontend.py:718: UserWarning: Using dimensions ('lat', 'lon') from data variable rhum as the horizontal dimensions for the regridding.\n",
      "  warnings.warn(\n",
      "Ignoring index file 'O:/Climate-and-Energy-Policy/CERM/Projects/Wildfire/Data/ERA5-land/unprocess/FWI-variables/Europe/ERA5-land/2007-02.grib.5b7b6.idx' incompatible with GRIB file\n"
     ]
    },
    {
     "name": "stdout",
     "output_type": "stream",
     "text": [
      "02\n"
     ]
    },
    {
     "name": "stderr",
     "output_type": "stream",
     "text": [
      "C:\\Users\\ophme\\AppData\\Local\\anaconda3\\envs\\wildfire\\Lib\\site-packages\\xesmf\\frontend.py:718: UserWarning: Using dimensions ('lat', 'lon') from data variable rhum as the horizontal dimensions for the regridding.\n",
      "  warnings.warn(\n",
      "Ignoring index file 'O:/Climate-and-Energy-Policy/CERM/Projects/Wildfire/Data/ERA5-land/unprocess/FWI-variables/Europe/ERA5-land/2007-03.grib.5b7b6.idx' incompatible with GRIB file\n"
     ]
    },
    {
     "name": "stdout",
     "output_type": "stream",
     "text": [
      "03\n"
     ]
    },
    {
     "name": "stderr",
     "output_type": "stream",
     "text": [
      "C:\\Users\\ophme\\AppData\\Local\\anaconda3\\envs\\wildfire\\Lib\\site-packages\\xesmf\\frontend.py:718: UserWarning: Using dimensions ('lat', 'lon') from data variable rhum as the horizontal dimensions for the regridding.\n",
      "  warnings.warn(\n",
      "Ignoring index file 'O:/Climate-and-Energy-Policy/CERM/Projects/Wildfire/Data/ERA5-land/unprocess/FWI-variables/Europe/ERA5-land/2007-04.grib.5b7b6.idx' incompatible with GRIB file\n"
     ]
    },
    {
     "name": "stdout",
     "output_type": "stream",
     "text": [
      "04\n"
     ]
    },
    {
     "name": "stderr",
     "output_type": "stream",
     "text": [
      "C:\\Users\\ophme\\AppData\\Local\\anaconda3\\envs\\wildfire\\Lib\\site-packages\\xesmf\\frontend.py:718: UserWarning: Using dimensions ('lat', 'lon') from data variable rhum as the horizontal dimensions for the regridding.\n",
      "  warnings.warn(\n",
      "Ignoring index file 'O:/Climate-and-Energy-Policy/CERM/Projects/Wildfire/Data/ERA5-land/unprocess/FWI-variables/Europe/ERA5-land/2007-05.grib.5b7b6.idx' incompatible with GRIB file\n"
     ]
    },
    {
     "name": "stdout",
     "output_type": "stream",
     "text": [
      "05\n"
     ]
    },
    {
     "name": "stderr",
     "output_type": "stream",
     "text": [
      "C:\\Users\\ophme\\AppData\\Local\\anaconda3\\envs\\wildfire\\Lib\\site-packages\\xesmf\\frontend.py:718: UserWarning: Using dimensions ('lat', 'lon') from data variable rhum as the horizontal dimensions for the regridding.\n",
      "  warnings.warn(\n",
      "Ignoring index file 'O:/Climate-and-Energy-Policy/CERM/Projects/Wildfire/Data/ERA5-land/unprocess/FWI-variables/Europe/ERA5-land/2007-06.grib.5b7b6.idx' incompatible with GRIB file\n"
     ]
    },
    {
     "name": "stdout",
     "output_type": "stream",
     "text": [
      "06\n"
     ]
    },
    {
     "name": "stderr",
     "output_type": "stream",
     "text": [
      "C:\\Users\\ophme\\AppData\\Local\\anaconda3\\envs\\wildfire\\Lib\\site-packages\\xesmf\\frontend.py:718: UserWarning: Using dimensions ('lat', 'lon') from data variable rhum as the horizontal dimensions for the regridding.\n",
      "  warnings.warn(\n",
      "Ignoring index file 'O:/Climate-and-Energy-Policy/CERM/Projects/Wildfire/Data/ERA5-land/unprocess/FWI-variables/Europe/ERA5-land/2007-07.grib.5b7b6.idx' incompatible with GRIB file\n"
     ]
    },
    {
     "name": "stdout",
     "output_type": "stream",
     "text": [
      "07\n"
     ]
    },
    {
     "name": "stderr",
     "output_type": "stream",
     "text": [
      "C:\\Users\\ophme\\AppData\\Local\\anaconda3\\envs\\wildfire\\Lib\\site-packages\\xesmf\\frontend.py:718: UserWarning: Using dimensions ('lat', 'lon') from data variable rhum as the horizontal dimensions for the regridding.\n",
      "  warnings.warn(\n",
      "Ignoring index file 'O:/Climate-and-Energy-Policy/CERM/Projects/Wildfire/Data/ERA5-land/unprocess/FWI-variables/Europe/ERA5-land/2007-08.grib.5b7b6.idx' incompatible with GRIB file\n"
     ]
    },
    {
     "name": "stdout",
     "output_type": "stream",
     "text": [
      "08\n"
     ]
    },
    {
     "name": "stderr",
     "output_type": "stream",
     "text": [
      "C:\\Users\\ophme\\AppData\\Local\\anaconda3\\envs\\wildfire\\Lib\\site-packages\\xesmf\\frontend.py:718: UserWarning: Using dimensions ('lat', 'lon') from data variable rhum as the horizontal dimensions for the regridding.\n",
      "  warnings.warn(\n"
     ]
    },
    {
     "name": "stdout",
     "output_type": "stream",
     "text": [
      "09\n"
     ]
    },
    {
     "name": "stderr",
     "output_type": "stream",
     "text": [
      "Ignoring index file 'O:/Climate-and-Energy-Policy/CERM/Projects/Wildfire/Data/ERA5-land/unprocess/FWI-variables/Europe/ERA5-land/2007-09.grib.5b7b6.idx' incompatible with GRIB file\n",
      "C:\\Users\\ophme\\AppData\\Local\\anaconda3\\envs\\wildfire\\Lib\\site-packages\\xesmf\\frontend.py:718: UserWarning: Using dimensions ('lat', 'lon') from data variable rhum as the horizontal dimensions for the regridding.\n",
      "  warnings.warn(\n",
      "Ignoring index file 'O:/Climate-and-Energy-Policy/CERM/Projects/Wildfire/Data/ERA5-land/unprocess/FWI-variables/Europe/ERA5-land/2007-10.grib.5b7b6.idx' incompatible with GRIB file\n"
     ]
    },
    {
     "name": "stdout",
     "output_type": "stream",
     "text": [
      "10\n"
     ]
    },
    {
     "name": "stderr",
     "output_type": "stream",
     "text": [
      "C:\\Users\\ophme\\AppData\\Local\\anaconda3\\envs\\wildfire\\Lib\\site-packages\\xesmf\\frontend.py:718: UserWarning: Using dimensions ('lat', 'lon') from data variable rhum as the horizontal dimensions for the regridding.\n",
      "  warnings.warn(\n",
      "Ignoring index file 'O:/Climate-and-Energy-Policy/CERM/Projects/Wildfire/Data/ERA5-land/unprocess/FWI-variables/Europe/ERA5-land/2007-11.grib.5b7b6.idx' incompatible with GRIB file\n"
     ]
    },
    {
     "name": "stdout",
     "output_type": "stream",
     "text": [
      "11\n"
     ]
    },
    {
     "name": "stderr",
     "output_type": "stream",
     "text": [
      "C:\\Users\\ophme\\AppData\\Local\\anaconda3\\envs\\wildfire\\Lib\\site-packages\\xesmf\\frontend.py:718: UserWarning: Using dimensions ('lat', 'lon') from data variable rhum as the horizontal dimensions for the regridding.\n",
      "  warnings.warn(\n",
      "Ignoring index file 'O:/Climate-and-Energy-Policy/CERM/Projects/Wildfire/Data/ERA5-land/unprocess/FWI-variables/Europe/ERA5-land/2007-12.grib.5b7b6.idx' incompatible with GRIB file\n"
     ]
    },
    {
     "name": "stdout",
     "output_type": "stream",
     "text": [
      "12\n"
     ]
    },
    {
     "name": "stderr",
     "output_type": "stream",
     "text": [
      "C:\\Users\\ophme\\AppData\\Local\\anaconda3\\envs\\wildfire\\Lib\\site-packages\\xesmf\\frontend.py:718: UserWarning: Using dimensions ('lat', 'lon') from data variable rhum as the horizontal dimensions for the regridding.\n",
      "  warnings.warn(\n",
      "Ignoring index file 'O:/Climate-and-Energy-Policy/CERM/Projects/Wildfire/Data/ERA5-land/unprocess/FWI-variables/Europe/ERA5-land/2008-01.grib.5b7b6.idx' incompatible with GRIB file\n"
     ]
    },
    {
     "name": "stdout",
     "output_type": "stream",
     "text": [
      "2008\n",
      "01\n"
     ]
    },
    {
     "name": "stderr",
     "output_type": "stream",
     "text": [
      "C:\\Users\\ophme\\AppData\\Local\\anaconda3\\envs\\wildfire\\Lib\\site-packages\\xesmf\\frontend.py:718: UserWarning: Using dimensions ('lat', 'lon') from data variable rhum as the horizontal dimensions for the regridding.\n",
      "  warnings.warn(\n",
      "Ignoring index file 'O:/Climate-and-Energy-Policy/CERM/Projects/Wildfire/Data/ERA5-land/unprocess/FWI-variables/Europe/ERA5-land/2008-02.grib.5b7b6.idx' incompatible with GRIB file\n"
     ]
    },
    {
     "name": "stdout",
     "output_type": "stream",
     "text": [
      "02\n"
     ]
    },
    {
     "name": "stderr",
     "output_type": "stream",
     "text": [
      "C:\\Users\\ophme\\AppData\\Local\\anaconda3\\envs\\wildfire\\Lib\\site-packages\\xesmf\\frontend.py:718: UserWarning: Using dimensions ('lat', 'lon') from data variable rhum as the horizontal dimensions for the regridding.\n",
      "  warnings.warn(\n",
      "Ignoring index file 'O:/Climate-and-Energy-Policy/CERM/Projects/Wildfire/Data/ERA5-land/unprocess/FWI-variables/Europe/ERA5-land/2008-03.grib.5b7b6.idx' incompatible with GRIB file\n"
     ]
    },
    {
     "name": "stdout",
     "output_type": "stream",
     "text": [
      "03\n"
     ]
    },
    {
     "name": "stderr",
     "output_type": "stream",
     "text": [
      "C:\\Users\\ophme\\AppData\\Local\\anaconda3\\envs\\wildfire\\Lib\\site-packages\\xesmf\\frontend.py:718: UserWarning: Using dimensions ('lat', 'lon') from data variable rhum as the horizontal dimensions for the regridding.\n",
      "  warnings.warn(\n",
      "Ignoring index file 'O:/Climate-and-Energy-Policy/CERM/Projects/Wildfire/Data/ERA5-land/unprocess/FWI-variables/Europe/ERA5-land/2008-04.grib.5b7b6.idx' incompatible with GRIB file\n"
     ]
    },
    {
     "name": "stdout",
     "output_type": "stream",
     "text": [
      "04\n"
     ]
    },
    {
     "name": "stderr",
     "output_type": "stream",
     "text": [
      "C:\\Users\\ophme\\AppData\\Local\\anaconda3\\envs\\wildfire\\Lib\\site-packages\\xesmf\\frontend.py:718: UserWarning: Using dimensions ('lat', 'lon') from data variable rhum as the horizontal dimensions for the regridding.\n",
      "  warnings.warn(\n",
      "Ignoring index file 'O:/Climate-and-Energy-Policy/CERM/Projects/Wildfire/Data/ERA5-land/unprocess/FWI-variables/Europe/ERA5-land/2008-05.grib.5b7b6.idx' incompatible with GRIB file\n"
     ]
    },
    {
     "name": "stdout",
     "output_type": "stream",
     "text": [
      "05\n"
     ]
    },
    {
     "name": "stderr",
     "output_type": "stream",
     "text": [
      "C:\\Users\\ophme\\AppData\\Local\\anaconda3\\envs\\wildfire\\Lib\\site-packages\\xesmf\\frontend.py:718: UserWarning: Using dimensions ('lat', 'lon') from data variable rhum as the horizontal dimensions for the regridding.\n",
      "  warnings.warn(\n",
      "Ignoring index file 'O:/Climate-and-Energy-Policy/CERM/Projects/Wildfire/Data/ERA5-land/unprocess/FWI-variables/Europe/ERA5-land/2008-06.grib.5b7b6.idx' incompatible with GRIB file\n"
     ]
    },
    {
     "name": "stdout",
     "output_type": "stream",
     "text": [
      "06\n"
     ]
    },
    {
     "name": "stderr",
     "output_type": "stream",
     "text": [
      "C:\\Users\\ophme\\AppData\\Local\\anaconda3\\envs\\wildfire\\Lib\\site-packages\\xesmf\\frontend.py:718: UserWarning: Using dimensions ('lat', 'lon') from data variable rhum as the horizontal dimensions for the regridding.\n",
      "  warnings.warn(\n",
      "Ignoring index file 'O:/Climate-and-Energy-Policy/CERM/Projects/Wildfire/Data/ERA5-land/unprocess/FWI-variables/Europe/ERA5-land/2008-07.grib.5b7b6.idx' incompatible with GRIB file\n"
     ]
    },
    {
     "name": "stdout",
     "output_type": "stream",
     "text": [
      "07\n"
     ]
    },
    {
     "name": "stderr",
     "output_type": "stream",
     "text": [
      "C:\\Users\\ophme\\AppData\\Local\\anaconda3\\envs\\wildfire\\Lib\\site-packages\\xesmf\\frontend.py:718: UserWarning: Using dimensions ('lat', 'lon') from data variable rhum as the horizontal dimensions for the regridding.\n",
      "  warnings.warn(\n",
      "Ignoring index file 'O:/Climate-and-Energy-Policy/CERM/Projects/Wildfire/Data/ERA5-land/unprocess/FWI-variables/Europe/ERA5-land/2008-08.grib.5b7b6.idx' incompatible with GRIB file\n"
     ]
    },
    {
     "name": "stdout",
     "output_type": "stream",
     "text": [
      "08\n"
     ]
    },
    {
     "name": "stderr",
     "output_type": "stream",
     "text": [
      "C:\\Users\\ophme\\AppData\\Local\\anaconda3\\envs\\wildfire\\Lib\\site-packages\\xesmf\\frontend.py:718: UserWarning: Using dimensions ('lat', 'lon') from data variable rhum as the horizontal dimensions for the regridding.\n",
      "  warnings.warn(\n",
      "Ignoring index file 'O:/Climate-and-Energy-Policy/CERM/Projects/Wildfire/Data/ERA5-land/unprocess/FWI-variables/Europe/ERA5-land/2008-09.grib.5b7b6.idx' incompatible with GRIB file\n"
     ]
    },
    {
     "name": "stdout",
     "output_type": "stream",
     "text": [
      "09\n"
     ]
    },
    {
     "name": "stderr",
     "output_type": "stream",
     "text": [
      "C:\\Users\\ophme\\AppData\\Local\\anaconda3\\envs\\wildfire\\Lib\\site-packages\\xesmf\\frontend.py:718: UserWarning: Using dimensions ('lat', 'lon') from data variable rhum as the horizontal dimensions for the regridding.\n",
      "  warnings.warn(\n",
      "Ignoring index file 'O:/Climate-and-Energy-Policy/CERM/Projects/Wildfire/Data/ERA5-land/unprocess/FWI-variables/Europe/ERA5-land/2008-10.grib.5b7b6.idx' incompatible with GRIB file\n"
     ]
    },
    {
     "name": "stdout",
     "output_type": "stream",
     "text": [
      "10\n"
     ]
    },
    {
     "name": "stderr",
     "output_type": "stream",
     "text": [
      "C:\\Users\\ophme\\AppData\\Local\\anaconda3\\envs\\wildfire\\Lib\\site-packages\\xesmf\\frontend.py:718: UserWarning: Using dimensions ('lat', 'lon') from data variable rhum as the horizontal dimensions for the regridding.\n",
      "  warnings.warn(\n",
      "Ignoring index file 'O:/Climate-and-Energy-Policy/CERM/Projects/Wildfire/Data/ERA5-land/unprocess/FWI-variables/Europe/ERA5-land/2008-11.grib.5b7b6.idx' incompatible with GRIB file\n"
     ]
    },
    {
     "name": "stdout",
     "output_type": "stream",
     "text": [
      "11\n"
     ]
    },
    {
     "name": "stderr",
     "output_type": "stream",
     "text": [
      "C:\\Users\\ophme\\AppData\\Local\\anaconda3\\envs\\wildfire\\Lib\\site-packages\\xesmf\\frontend.py:718: UserWarning: Using dimensions ('lat', 'lon') from data variable rhum as the horizontal dimensions for the regridding.\n",
      "  warnings.warn(\n",
      "Ignoring index file 'O:/Climate-and-Energy-Policy/CERM/Projects/Wildfire/Data/ERA5-land/unprocess/FWI-variables/Europe/ERA5-land/2008-12.grib.5b7b6.idx' incompatible with GRIB file\n"
     ]
    },
    {
     "name": "stdout",
     "output_type": "stream",
     "text": [
      "12\n"
     ]
    },
    {
     "name": "stderr",
     "output_type": "stream",
     "text": [
      "C:\\Users\\ophme\\AppData\\Local\\anaconda3\\envs\\wildfire\\Lib\\site-packages\\xesmf\\frontend.py:718: UserWarning: Using dimensions ('lat', 'lon') from data variable rhum as the horizontal dimensions for the regridding.\n",
      "  warnings.warn(\n",
      "Ignoring index file 'O:/Climate-and-Energy-Policy/CERM/Projects/Wildfire/Data/ERA5-land/unprocess/FWI-variables/Europe/ERA5-land/2009-01.grib.5b7b6.idx' incompatible with GRIB file\n"
     ]
    },
    {
     "name": "stdout",
     "output_type": "stream",
     "text": [
      "2009\n",
      "01\n"
     ]
    },
    {
     "name": "stderr",
     "output_type": "stream",
     "text": [
      "C:\\Users\\ophme\\AppData\\Local\\anaconda3\\envs\\wildfire\\Lib\\site-packages\\xesmf\\frontend.py:718: UserWarning: Using dimensions ('lat', 'lon') from data variable rhum as the horizontal dimensions for the regridding.\n",
      "  warnings.warn(\n",
      "Ignoring index file 'O:/Climate-and-Energy-Policy/CERM/Projects/Wildfire/Data/ERA5-land/unprocess/FWI-variables/Europe/ERA5-land/2009-02.grib.5b7b6.idx' incompatible with GRIB file\n"
     ]
    },
    {
     "name": "stdout",
     "output_type": "stream",
     "text": [
      "02\n"
     ]
    },
    {
     "name": "stderr",
     "output_type": "stream",
     "text": [
      "C:\\Users\\ophme\\AppData\\Local\\anaconda3\\envs\\wildfire\\Lib\\site-packages\\xesmf\\frontend.py:718: UserWarning: Using dimensions ('lat', 'lon') from data variable rhum as the horizontal dimensions for the regridding.\n",
      "  warnings.warn(\n",
      "Ignoring index file 'O:/Climate-and-Energy-Policy/CERM/Projects/Wildfire/Data/ERA5-land/unprocess/FWI-variables/Europe/ERA5-land/2009-03.grib.5b7b6.idx' incompatible with GRIB file\n"
     ]
    },
    {
     "name": "stdout",
     "output_type": "stream",
     "text": [
      "03\n"
     ]
    },
    {
     "name": "stderr",
     "output_type": "stream",
     "text": [
      "C:\\Users\\ophme\\AppData\\Local\\anaconda3\\envs\\wildfire\\Lib\\site-packages\\xesmf\\frontend.py:718: UserWarning: Using dimensions ('lat', 'lon') from data variable rhum as the horizontal dimensions for the regridding.\n",
      "  warnings.warn(\n",
      "Ignoring index file 'O:/Climate-and-Energy-Policy/CERM/Projects/Wildfire/Data/ERA5-land/unprocess/FWI-variables/Europe/ERA5-land/2009-04.grib.5b7b6.idx' incompatible with GRIB file\n"
     ]
    },
    {
     "name": "stdout",
     "output_type": "stream",
     "text": [
      "04\n"
     ]
    },
    {
     "name": "stderr",
     "output_type": "stream",
     "text": [
      "C:\\Users\\ophme\\AppData\\Local\\anaconda3\\envs\\wildfire\\Lib\\site-packages\\xesmf\\frontend.py:718: UserWarning: Using dimensions ('lat', 'lon') from data variable rhum as the horizontal dimensions for the regridding.\n",
      "  warnings.warn(\n",
      "Ignoring index file 'O:/Climate-and-Energy-Policy/CERM/Projects/Wildfire/Data/ERA5-land/unprocess/FWI-variables/Europe/ERA5-land/2009-05.grib.5b7b6.idx' incompatible with GRIB file\n"
     ]
    },
    {
     "name": "stdout",
     "output_type": "stream",
     "text": [
      "05\n"
     ]
    },
    {
     "name": "stderr",
     "output_type": "stream",
     "text": [
      "C:\\Users\\ophme\\AppData\\Local\\anaconda3\\envs\\wildfire\\Lib\\site-packages\\xesmf\\frontend.py:718: UserWarning: Using dimensions ('lat', 'lon') from data variable rhum as the horizontal dimensions for the regridding.\n",
      "  warnings.warn(\n",
      "Ignoring index file 'O:/Climate-and-Energy-Policy/CERM/Projects/Wildfire/Data/ERA5-land/unprocess/FWI-variables/Europe/ERA5-land/2009-06.grib.5b7b6.idx' incompatible with GRIB file\n"
     ]
    },
    {
     "name": "stdout",
     "output_type": "stream",
     "text": [
      "06\n"
     ]
    },
    {
     "name": "stderr",
     "output_type": "stream",
     "text": [
      "C:\\Users\\ophme\\AppData\\Local\\anaconda3\\envs\\wildfire\\Lib\\site-packages\\xesmf\\frontend.py:718: UserWarning: Using dimensions ('lat', 'lon') from data variable rhum as the horizontal dimensions for the regridding.\n",
      "  warnings.warn(\n",
      "Ignoring index file 'O:/Climate-and-Energy-Policy/CERM/Projects/Wildfire/Data/ERA5-land/unprocess/FWI-variables/Europe/ERA5-land/2009-07.grib.5b7b6.idx' incompatible with GRIB file\n"
     ]
    },
    {
     "name": "stdout",
     "output_type": "stream",
     "text": [
      "07\n"
     ]
    },
    {
     "name": "stderr",
     "output_type": "stream",
     "text": [
      "C:\\Users\\ophme\\AppData\\Local\\anaconda3\\envs\\wildfire\\Lib\\site-packages\\xesmf\\frontend.py:718: UserWarning: Using dimensions ('lat', 'lon') from data variable rhum as the horizontal dimensions for the regridding.\n",
      "  warnings.warn(\n",
      "Ignoring index file 'O:/Climate-and-Energy-Policy/CERM/Projects/Wildfire/Data/ERA5-land/unprocess/FWI-variables/Europe/ERA5-land/2009-08.grib.5b7b6.idx' incompatible with GRIB file\n"
     ]
    },
    {
     "name": "stdout",
     "output_type": "stream",
     "text": [
      "08\n"
     ]
    },
    {
     "name": "stderr",
     "output_type": "stream",
     "text": [
      "C:\\Users\\ophme\\AppData\\Local\\anaconda3\\envs\\wildfire\\Lib\\site-packages\\xesmf\\frontend.py:718: UserWarning: Using dimensions ('lat', 'lon') from data variable rhum as the horizontal dimensions for the regridding.\n",
      "  warnings.warn(\n",
      "Ignoring index file 'O:/Climate-and-Energy-Policy/CERM/Projects/Wildfire/Data/ERA5-land/unprocess/FWI-variables/Europe/ERA5-land/2009-09.grib.5b7b6.idx' incompatible with GRIB file\n"
     ]
    },
    {
     "name": "stdout",
     "output_type": "stream",
     "text": [
      "09\n"
     ]
    },
    {
     "name": "stderr",
     "output_type": "stream",
     "text": [
      "C:\\Users\\ophme\\AppData\\Local\\anaconda3\\envs\\wildfire\\Lib\\site-packages\\xesmf\\frontend.py:718: UserWarning: Using dimensions ('lat', 'lon') from data variable rhum as the horizontal dimensions for the regridding.\n",
      "  warnings.warn(\n",
      "Ignoring index file 'O:/Climate-and-Energy-Policy/CERM/Projects/Wildfire/Data/ERA5-land/unprocess/FWI-variables/Europe/ERA5-land/2009-10.grib.5b7b6.idx' incompatible with GRIB file\n"
     ]
    },
    {
     "name": "stdout",
     "output_type": "stream",
     "text": [
      "10\n"
     ]
    },
    {
     "name": "stderr",
     "output_type": "stream",
     "text": [
      "C:\\Users\\ophme\\AppData\\Local\\anaconda3\\envs\\wildfire\\Lib\\site-packages\\xesmf\\frontend.py:718: UserWarning: Using dimensions ('lat', 'lon') from data variable rhum as the horizontal dimensions for the regridding.\n",
      "  warnings.warn(\n",
      "Ignoring index file 'O:/Climate-and-Energy-Policy/CERM/Projects/Wildfire/Data/ERA5-land/unprocess/FWI-variables/Europe/ERA5-land/2009-11.grib.5b7b6.idx' incompatible with GRIB file\n"
     ]
    },
    {
     "name": "stdout",
     "output_type": "stream",
     "text": [
      "11\n"
     ]
    },
    {
     "name": "stderr",
     "output_type": "stream",
     "text": [
      "C:\\Users\\ophme\\AppData\\Local\\anaconda3\\envs\\wildfire\\Lib\\site-packages\\xesmf\\frontend.py:718: UserWarning: Using dimensions ('lat', 'lon') from data variable rhum as the horizontal dimensions for the regridding.\n",
      "  warnings.warn(\n",
      "Ignoring index file 'O:/Climate-and-Energy-Policy/CERM/Projects/Wildfire/Data/ERA5-land/unprocess/FWI-variables/Europe/ERA5-land/2009-12.grib.5b7b6.idx' incompatible with GRIB file\n"
     ]
    },
    {
     "name": "stdout",
     "output_type": "stream",
     "text": [
      "12\n"
     ]
    },
    {
     "name": "stderr",
     "output_type": "stream",
     "text": [
      "C:\\Users\\ophme\\AppData\\Local\\anaconda3\\envs\\wildfire\\Lib\\site-packages\\xesmf\\frontend.py:718: UserWarning: Using dimensions ('lat', 'lon') from data variable rhum as the horizontal dimensions for the regridding.\n",
      "  warnings.warn(\n",
      "Ignoring index file 'O:/Climate-and-Energy-Policy/CERM/Projects/Wildfire/Data/ERA5-land/unprocess/FWI-variables/Europe/ERA5-land/2010-01.grib.5b7b6.idx' incompatible with GRIB file\n"
     ]
    },
    {
     "name": "stdout",
     "output_type": "stream",
     "text": [
      "2010\n",
      "01\n"
     ]
    },
    {
     "name": "stderr",
     "output_type": "stream",
     "text": [
      "C:\\Users\\ophme\\AppData\\Local\\anaconda3\\envs\\wildfire\\Lib\\site-packages\\xesmf\\frontend.py:718: UserWarning: Using dimensions ('lat', 'lon') from data variable rhum as the horizontal dimensions for the regridding.\n",
      "  warnings.warn(\n",
      "Ignoring index file 'O:/Climate-and-Energy-Policy/CERM/Projects/Wildfire/Data/ERA5-land/unprocess/FWI-variables/Europe/ERA5-land/2010-02.grib.5b7b6.idx' incompatible with GRIB file\n"
     ]
    },
    {
     "name": "stdout",
     "output_type": "stream",
     "text": [
      "02\n"
     ]
    },
    {
     "name": "stderr",
     "output_type": "stream",
     "text": [
      "C:\\Users\\ophme\\AppData\\Local\\anaconda3\\envs\\wildfire\\Lib\\site-packages\\xesmf\\frontend.py:718: UserWarning: Using dimensions ('lat', 'lon') from data variable rhum as the horizontal dimensions for the regridding.\n",
      "  warnings.warn(\n",
      "Ignoring index file 'O:/Climate-and-Energy-Policy/CERM/Projects/Wildfire/Data/ERA5-land/unprocess/FWI-variables/Europe/ERA5-land/2010-03.grib.5b7b6.idx' incompatible with GRIB file\n"
     ]
    },
    {
     "name": "stdout",
     "output_type": "stream",
     "text": [
      "03\n"
     ]
    },
    {
     "name": "stderr",
     "output_type": "stream",
     "text": [
      "C:\\Users\\ophme\\AppData\\Local\\anaconda3\\envs\\wildfire\\Lib\\site-packages\\xesmf\\frontend.py:718: UserWarning: Using dimensions ('lat', 'lon') from data variable rhum as the horizontal dimensions for the regridding.\n",
      "  warnings.warn(\n",
      "Ignoring index file 'O:/Climate-and-Energy-Policy/CERM/Projects/Wildfire/Data/ERA5-land/unprocess/FWI-variables/Europe/ERA5-land/2010-04.grib.5b7b6.idx' incompatible with GRIB file\n"
     ]
    },
    {
     "name": "stdout",
     "output_type": "stream",
     "text": [
      "04\n"
     ]
    },
    {
     "name": "stderr",
     "output_type": "stream",
     "text": [
      "C:\\Users\\ophme\\AppData\\Local\\anaconda3\\envs\\wildfire\\Lib\\site-packages\\xesmf\\frontend.py:718: UserWarning: Using dimensions ('lat', 'lon') from data variable rhum as the horizontal dimensions for the regridding.\n",
      "  warnings.warn(\n",
      "Ignoring index file 'O:/Climate-and-Energy-Policy/CERM/Projects/Wildfire/Data/ERA5-land/unprocess/FWI-variables/Europe/ERA5-land/2010-05.grib.5b7b6.idx' incompatible with GRIB file\n"
     ]
    },
    {
     "name": "stdout",
     "output_type": "stream",
     "text": [
      "05\n"
     ]
    },
    {
     "name": "stderr",
     "output_type": "stream",
     "text": [
      "C:\\Users\\ophme\\AppData\\Local\\anaconda3\\envs\\wildfire\\Lib\\site-packages\\xesmf\\frontend.py:718: UserWarning: Using dimensions ('lat', 'lon') from data variable rhum as the horizontal dimensions for the regridding.\n",
      "  warnings.warn(\n",
      "Ignoring index file 'O:/Climate-and-Energy-Policy/CERM/Projects/Wildfire/Data/ERA5-land/unprocess/FWI-variables/Europe/ERA5-land/2010-06.grib.5b7b6.idx' incompatible with GRIB file\n"
     ]
    },
    {
     "name": "stdout",
     "output_type": "stream",
     "text": [
      "06\n"
     ]
    },
    {
     "name": "stderr",
     "output_type": "stream",
     "text": [
      "C:\\Users\\ophme\\AppData\\Local\\anaconda3\\envs\\wildfire\\Lib\\site-packages\\xesmf\\frontend.py:718: UserWarning: Using dimensions ('lat', 'lon') from data variable rhum as the horizontal dimensions for the regridding.\n",
      "  warnings.warn(\n",
      "Ignoring index file 'O:/Climate-and-Energy-Policy/CERM/Projects/Wildfire/Data/ERA5-land/unprocess/FWI-variables/Europe/ERA5-land/2010-07.grib.5b7b6.idx' incompatible with GRIB file\n"
     ]
    },
    {
     "name": "stdout",
     "output_type": "stream",
     "text": [
      "07\n"
     ]
    },
    {
     "name": "stderr",
     "output_type": "stream",
     "text": [
      "C:\\Users\\ophme\\AppData\\Local\\anaconda3\\envs\\wildfire\\Lib\\site-packages\\xesmf\\frontend.py:718: UserWarning: Using dimensions ('lat', 'lon') from data variable rhum as the horizontal dimensions for the regridding.\n",
      "  warnings.warn(\n",
      "Ignoring index file 'O:/Climate-and-Energy-Policy/CERM/Projects/Wildfire/Data/ERA5-land/unprocess/FWI-variables/Europe/ERA5-land/2010-08.grib.5b7b6.idx' incompatible with GRIB file\n"
     ]
    },
    {
     "name": "stdout",
     "output_type": "stream",
     "text": [
      "08\n"
     ]
    },
    {
     "name": "stderr",
     "output_type": "stream",
     "text": [
      "C:\\Users\\ophme\\AppData\\Local\\anaconda3\\envs\\wildfire\\Lib\\site-packages\\xesmf\\frontend.py:718: UserWarning: Using dimensions ('lat', 'lon') from data variable rhum as the horizontal dimensions for the regridding.\n",
      "  warnings.warn(\n"
     ]
    },
    {
     "name": "stdout",
     "output_type": "stream",
     "text": [
      "09\n"
     ]
    },
    {
     "name": "stderr",
     "output_type": "stream",
     "text": [
      "Ignoring index file 'O:/Climate-and-Energy-Policy/CERM/Projects/Wildfire/Data/ERA5-land/unprocess/FWI-variables/Europe/ERA5-land/2010-09.grib.5b7b6.idx' incompatible with GRIB file\n",
      "C:\\Users\\ophme\\AppData\\Local\\anaconda3\\envs\\wildfire\\Lib\\site-packages\\xesmf\\frontend.py:718: UserWarning: Using dimensions ('lat', 'lon') from data variable rhum as the horizontal dimensions for the regridding.\n",
      "  warnings.warn(\n",
      "Ignoring index file 'O:/Climate-and-Energy-Policy/CERM/Projects/Wildfire/Data/ERA5-land/unprocess/FWI-variables/Europe/ERA5-land/2010-10.grib.5b7b6.idx' incompatible with GRIB file\n"
     ]
    },
    {
     "name": "stdout",
     "output_type": "stream",
     "text": [
      "10\n"
     ]
    },
    {
     "name": "stderr",
     "output_type": "stream",
     "text": [
      "C:\\Users\\ophme\\AppData\\Local\\anaconda3\\envs\\wildfire\\Lib\\site-packages\\xesmf\\frontend.py:718: UserWarning: Using dimensions ('lat', 'lon') from data variable rhum as the horizontal dimensions for the regridding.\n",
      "  warnings.warn(\n",
      "Ignoring index file 'O:/Climate-and-Energy-Policy/CERM/Projects/Wildfire/Data/ERA5-land/unprocess/FWI-variables/Europe/ERA5-land/2010-11.grib.5b7b6.idx' incompatible with GRIB file\n"
     ]
    },
    {
     "name": "stdout",
     "output_type": "stream",
     "text": [
      "11\n"
     ]
    },
    {
     "name": "stderr",
     "output_type": "stream",
     "text": [
      "C:\\Users\\ophme\\AppData\\Local\\anaconda3\\envs\\wildfire\\Lib\\site-packages\\xesmf\\frontend.py:718: UserWarning: Using dimensions ('lat', 'lon') from data variable rhum as the horizontal dimensions for the regridding.\n",
      "  warnings.warn(\n",
      "Ignoring index file 'O:/Climate-and-Energy-Policy/CERM/Projects/Wildfire/Data/ERA5-land/unprocess/FWI-variables/Europe/ERA5-land/2010-12.grib.5b7b6.idx' incompatible with GRIB file\n"
     ]
    },
    {
     "name": "stdout",
     "output_type": "stream",
     "text": [
      "12\n"
     ]
    },
    {
     "name": "stderr",
     "output_type": "stream",
     "text": [
      "C:\\Users\\ophme\\AppData\\Local\\anaconda3\\envs\\wildfire\\Lib\\site-packages\\xesmf\\frontend.py:718: UserWarning: Using dimensions ('lat', 'lon') from data variable rhum as the horizontal dimensions for the regridding.\n",
      "  warnings.warn(\n"
     ]
    }
   ],
   "source": [
    "Case_Study = False # If False, the whole European domain is downloaded \n",
    "\n",
    "CS_name = 'Crete' \n",
    "\n",
    "start_mid_year = False\n",
    "home_path = \"O:/Climate-and-Energy-Policy/CERM/Projects/Wildfire/Data/ERA5-land/unprocess/FWI-variables/\"\n",
    "\n",
    "if Case_Study == True:\n",
    "    if CS_name == 'Crete':\n",
    "        path = home_path + \"Case_Studies/Crete/\"\n",
    "    else:\n",
    "        print('CS not known')\n",
    "else:\n",
    "    path = home_path + \"Europe/\"\n",
    "\n",
    "years = np.arange(1991, 2011, 1)\n",
    "\n",
    "months = [\"01\", \"02\", \"03\", \"04\", \"05\", \"06\", \"07\", \"08\", \"09\", \"10\", \"11\", \"12\"]\n",
    "\n",
    "for year in years:\n",
    "    print(year)\n",
    "    year = str(year)\n",
    "\n",
    "    for m, month in enumerate(months): \n",
    "        print(month)\n",
    "        fname = path + \"/Derived-FWI-ERA5-land/vars-\" + year + \"-\" + month + \".nc\"\n",
    "\n",
    "        # Only download files which are not in the folder\n",
    "        if os.path.isfile(\"O:/Climate-and-Energy-Policy/CERM/Projects/Wildfire/Data/ERA5-land/regrided/FWI-variables/rhum-\" + year + \"-\" + month + \".nc\") == True:\n",
    "            continue\n",
    "            \n",
    "        #ds = xr.open_dataset(path + \"ERA5-land/\" + year + \"-\" + month + \"-prcp.grib\", engine = \"cfgrib\") # load the prcp at noon and midnight\n",
    "        ds1 = xr.open_dataset(path  + \"ERA5-land/\" +  year + \"-\" + month + \".grib\", engine = \"cfgrib\") # load the temp, dew temp and wind at noon\n",
    "        \n",
    "        #ds1 = ds1.assign(prcp=(['time','latitude','longitude'], ds.isel(step = 1, time = slice(0, len(ds.time)-1)).tp.data)) # m to mm \n",
    " \n",
    "        ds1 = ds1.assign(temp=lambda x: x.t2m - 273.15) # Convert K to C\n",
    " \n",
    "        #ds1 = ds1.assign(wind=lambda x: np.sqrt(x.u10*x.u10 + x.v10*x.v10)*0.001*3600) # Calculate wind speed in km/h\n",
    "   \n",
    "        ds1 = ds1.assign(rhum=lambda x: relative_humidity_from_dewpoint(x.temp* units.degC, (x.d2m- 273.15)* units.degC )*100) # Calculate relative humidity [%]\n",
    "    \n",
    "        ds1 = ds1.drop_vars(['u10', 'v10', 'd2m', 't2m', 'step', 'temp'])\n",
    "        ds1 = ds1.assign(rhum=(['time','latitude','longitude'], ds1.rhum.values)) \n",
    "        ds1 = ds1.rename({'latitude': 'lat','longitude': 'lon'})\n",
    "        ds1 = regridder(ds1, skipna=True, na_thres=0.5)\n",
    "        ds1.to_netcdf(\"O:/Climate-and-Energy-Policy/CERM/Projects/Wildfire/Data/ERA5-land/regrided/FWI-variables/rhum-\" + year + \"-\" + month + \".nc\")\n"
   ]
  },
  {
   "cell_type": "markdown",
   "id": "4e45aaaf-0afa-4840-be11-39667da4207b",
   "metadata": {},
   "source": [
    "#### Precipitation"
   ]
  },
  {
   "cell_type": "code",
   "execution_count": 4,
   "id": "0c081daf-1a20-4962-8b4d-934c01a9b0de",
   "metadata": {
    "scrolled": true
   },
   "outputs": [
    {
     "name": "stdout",
     "output_type": "stream",
     "text": [
      "1991\n",
      "01\n",
      "02\n",
      "03\n",
      "04\n",
      "05\n",
      "06\n",
      "07\n",
      "08\n",
      "09\n",
      "10\n",
      "11\n",
      "12\n",
      "1992\n",
      "01\n",
      "02\n",
      "03\n",
      "04\n",
      "05\n",
      "06\n",
      "07\n",
      "08\n",
      "09\n",
      "10\n",
      "11\n",
      "12\n",
      "1993\n",
      "01\n",
      "02\n",
      "03\n",
      "04\n",
      "05\n",
      "06\n",
      "07\n",
      "08\n",
      "09\n",
      "10\n",
      "11\n",
      "12\n",
      "1994\n",
      "01\n",
      "02\n",
      "03\n",
      "04\n",
      "05\n",
      "06\n",
      "07\n",
      "08\n",
      "09\n",
      "10\n",
      "11\n",
      "12\n",
      "1995\n",
      "01\n",
      "02\n",
      "03\n",
      "04\n",
      "05\n",
      "06\n",
      "07\n",
      "08\n",
      "09\n",
      "10\n",
      "11\n",
      "12\n",
      "1996\n",
      "01\n",
      "02\n",
      "03\n",
      "04\n",
      "05\n",
      "06\n",
      "07\n",
      "08\n",
      "09\n",
      "10\n",
      "11\n",
      "12\n",
      "1997\n",
      "01\n",
      "02\n",
      "03\n",
      "04\n",
      "05\n",
      "06\n",
      "07\n",
      "08\n",
      "09\n",
      "10\n",
      "11\n",
      "12\n",
      "1998\n",
      "01\n",
      "02\n",
      "03\n",
      "04\n",
      "05\n",
      "06\n",
      "07\n",
      "08\n",
      "09\n",
      "10\n",
      "11\n",
      "12\n",
      "1999\n",
      "01\n",
      "02\n",
      "03\n",
      "04\n",
      "05\n",
      "06\n",
      "07\n",
      "08\n",
      "09\n",
      "10\n",
      "11\n",
      "12\n",
      "2000\n",
      "01\n",
      "02\n",
      "03\n",
      "04\n",
      "05\n",
      "06\n",
      "07\n",
      "08\n",
      "09\n",
      "10\n",
      "11\n",
      "12\n",
      "2001\n",
      "01\n",
      "02\n",
      "03\n",
      "04\n",
      "05\n",
      "06\n",
      "07\n",
      "08\n",
      "09\n",
      "10\n",
      "11\n",
      "12\n",
      "2002\n",
      "01\n",
      "02\n",
      "03\n",
      "04\n",
      "05\n",
      "06\n",
      "07\n",
      "08\n",
      "09\n",
      "10\n",
      "11\n",
      "12\n",
      "2003\n",
      "01\n",
      "02\n",
      "03\n",
      "04\n",
      "05\n",
      "06\n",
      "07\n",
      "08\n",
      "09\n",
      "10\n",
      "11\n",
      "12\n",
      "2004\n",
      "01\n",
      "02\n",
      "03\n",
      "04\n",
      "05\n",
      "06\n",
      "07\n",
      "08\n",
      "09\n",
      "10\n",
      "11\n",
      "12\n",
      "2005\n",
      "01\n",
      "02\n",
      "03\n",
      "04\n",
      "05\n",
      "06\n",
      "07\n",
      "08\n",
      "09\n",
      "10\n",
      "11\n",
      "12\n",
      "2006\n",
      "01\n",
      "02\n",
      "03\n",
      "04\n",
      "05\n",
      "06\n",
      "07\n",
      "08\n",
      "09\n",
      "10\n",
      "11\n",
      "12\n",
      "2007\n",
      "01\n",
      "02\n",
      "03\n",
      "04\n",
      "05\n",
      "06\n",
      "07\n",
      "08\n",
      "09\n",
      "10\n",
      "11\n",
      "12\n",
      "2008\n",
      "01\n",
      "02\n",
      "03\n",
      "04\n",
      "05\n",
      "06\n",
      "07\n",
      "08\n",
      "09\n",
      "10\n",
      "11\n",
      "12\n",
      "2009\n",
      "01\n",
      "02\n",
      "03\n",
      "04\n",
      "05\n",
      "06\n",
      "07\n",
      "08\n",
      "09\n",
      "10\n",
      "11\n",
      "12\n",
      "2010\n",
      "01\n",
      "02\n",
      "03\n",
      "04\n",
      "05\n",
      "06\n",
      "07\n",
      "08\n",
      "09\n",
      "10\n",
      "11\n",
      "12\n"
     ]
    }
   ],
   "source": [
    "Case_Study = False # If False, the whole European domain is downloaded \n",
    "\n",
    "CS_name = 'Crete' \n",
    "\n",
    "start_mid_year = False\n",
    "home_path = \"O:/Climate-and-Energy-Policy/CERM/Projects/Wildfire/Data/ERA5-land/unprocess/FWI-variables/\"\n",
    "\n",
    "if Case_Study == True:\n",
    "    if CS_name == 'Crete':\n",
    "        path = home_path + \"Case_Studies/Crete/\"\n",
    "    else:\n",
    "        print('CS not known')\n",
    "else:\n",
    "    path = home_path + \"Europe/\"\n",
    "\n",
    "years = np.arange(1991, 2011, 1)\n",
    "\n",
    "months = [\"01\", \"02\", \"03\", \"04\", \"05\", \"06\", \"07\", \"08\", \"09\", \"10\", \"11\", \"12\"]\n",
    "\n",
    "for year in years:\n",
    "    \n",
    "    print(year)\n",
    "    year = str(year)\n",
    " \n",
    "    for m, month in enumerate(months): \n",
    "        print(month)\n",
    "        fname = path + \"/Derived-FWI-ERA5-land/vars-\" + year + \"-\" + month + \".nc\"\n",
    "\n",
    "        # Only download files which are not in the folder\n",
    "        if os.path.isfile(\"O:/Climate-and-Energy-Policy/CERM/Projects/Wildfire/Data/ERA5-land/regrided/FWI-variables/prcp-\" + year + \"-\" + month + \".nc\") == True:\n",
    "            continue\n",
    "            \n",
    "        ds = xr.open_dataset(path + \"ERA5-land/\" + year + \"-\" + month + \"-prcp.grib\", engine = \"cfgrib\") # load the prcp at noon and midnight\n",
    "        ds1 = xr.open_dataset(path  + \"ERA5-land/\" +  year + \"-\" + month + \".grib\", engine = \"cfgrib\") # load the temp, dew temp and wind at noon\n",
    "        \n",
    "        ds1 = ds1.assign(prcp=(['time','latitude','longitude'], ds.isel(step = 1, time = slice(0, len(ds.time)-1)).tp.data)) # m to mm \n",
    " \n",
    "        #ds1 = ds1.assign(temp=lambda x: x.t2m - 273.15) # Convert K to C\n",
    " \n",
    "        #ds1 = ds1.assign(wind=lambda x: np.sqrt(x.u10*x.u10 + x.v10*x.v10)*0.001*3600) # Calculate wind speed in km/h\n",
    "   \n",
    "        #ds1 = ds1.assign(rhum=lambda x: relative_humidity_from_dewpoint(x.temp* units.degC, (x.d2m- 273.15)* units.degC )*100) # Calculate relative humidity [%]\n",
    "\n",
    "        ds1 = ds1.drop_vars(['u10', 'v10', 'd2m', 't2m', 'step'])\n",
    "        ds1 = ds1.rename({'latitude': 'lat','longitude': 'lon'})\n",
    "        ds1 = regridder(ds1, skipna=True, na_thres=0.5)\n",
    "        ds1.to_netcdf(\"O:/Climate-and-Energy-Policy/CERM/Projects/Wildfire/Data/ERA5-land/regrided/FWI-variables/prcp-\" + year + \"-\" + month + \".nc\")\n"
   ]
  },
  {
   "cell_type": "code",
   "execution_count": 5,
   "id": "ce6b0496-5738-4ef9-b190-4b32a8753853",
   "metadata": {},
   "outputs": [
    {
     "name": "stderr",
     "output_type": "stream",
     "text": [
      "Ignoring index file 'O:/Climate-and-Energy-Policy/CERM/Projects/Wildfire/Data/ERA5-land/unprocess/FWI-variables/Europe/ERA5-land/2010-12-prcp.grib.5b7b6.idx' incompatible with GRIB file\n"
     ]
    }
   ],
   "source": [
    "ds = xr.open_dataset(path + \"ERA5-land/\" + year + \"-\" + month + \"-prcp.grib\", engine = \"cfgrib\")"
   ]
  },
  {
   "cell_type": "code",
   "execution_count": 9,
   "id": "9a58be63-f627-4825-adb5-0669a2c3d307",
   "metadata": {},
   "outputs": [
    {
     "data": {
      "text/html": [
       "<div><svg style=\"position: absolute; width: 0; height: 0; overflow: hidden\">\n",
       "<defs>\n",
       "<symbol id=\"icon-database\" viewBox=\"0 0 32 32\">\n",
       "<path d=\"M16 0c-8.837 0-16 2.239-16 5v4c0 2.761 7.163 5 16 5s16-2.239 16-5v-4c0-2.761-7.163-5-16-5z\"></path>\n",
       "<path d=\"M16 17c-8.837 0-16-2.239-16-5v6c0 2.761 7.163 5 16 5s16-2.239 16-5v-6c0 2.761-7.163 5-16 5z\"></path>\n",
       "<path d=\"M16 26c-8.837 0-16-2.239-16-5v6c0 2.761 7.163 5 16 5s16-2.239 16-5v-6c0 2.761-7.163 5-16 5z\"></path>\n",
       "</symbol>\n",
       "<symbol id=\"icon-file-text2\" viewBox=\"0 0 32 32\">\n",
       "<path d=\"M28.681 7.159c-0.694-0.947-1.662-2.053-2.724-3.116s-2.169-2.030-3.116-2.724c-1.612-1.182-2.393-1.319-2.841-1.319h-15.5c-1.378 0-2.5 1.121-2.5 2.5v27c0 1.378 1.122 2.5 2.5 2.5h23c1.378 0 2.5-1.122 2.5-2.5v-19.5c0-0.448-0.137-1.23-1.319-2.841zM24.543 5.457c0.959 0.959 1.712 1.825 2.268 2.543h-4.811v-4.811c0.718 0.556 1.584 1.309 2.543 2.268zM28 29.5c0 0.271-0.229 0.5-0.5 0.5h-23c-0.271 0-0.5-0.229-0.5-0.5v-27c0-0.271 0.229-0.5 0.5-0.5 0 0 15.499-0 15.5 0v7c0 0.552 0.448 1 1 1h7v19.5z\"></path>\n",
       "<path d=\"M23 26h-14c-0.552 0-1-0.448-1-1s0.448-1 1-1h14c0.552 0 1 0.448 1 1s-0.448 1-1 1z\"></path>\n",
       "<path d=\"M23 22h-14c-0.552 0-1-0.448-1-1s0.448-1 1-1h14c0.552 0 1 0.448 1 1s-0.448 1-1 1z\"></path>\n",
       "<path d=\"M23 18h-14c-0.552 0-1-0.448-1-1s0.448-1 1-1h14c0.552 0 1 0.448 1 1s-0.448 1-1 1z\"></path>\n",
       "</symbol>\n",
       "</defs>\n",
       "</svg>\n",
       "<style>/* CSS stylesheet for displaying xarray objects in jupyterlab.\n",
       " *\n",
       " */\n",
       "\n",
       ":root {\n",
       "  --xr-font-color0: var(--jp-content-font-color0, rgba(0, 0, 0, 1));\n",
       "  --xr-font-color2: var(--jp-content-font-color2, rgba(0, 0, 0, 0.54));\n",
       "  --xr-font-color3: var(--jp-content-font-color3, rgba(0, 0, 0, 0.38));\n",
       "  --xr-border-color: var(--jp-border-color2, #e0e0e0);\n",
       "  --xr-disabled-color: var(--jp-layout-color3, #bdbdbd);\n",
       "  --xr-background-color: var(--jp-layout-color0, white);\n",
       "  --xr-background-color-row-even: var(--jp-layout-color1, white);\n",
       "  --xr-background-color-row-odd: var(--jp-layout-color2, #eeeeee);\n",
       "}\n",
       "\n",
       "html[theme=dark],\n",
       "html[data-theme=dark],\n",
       "body[data-theme=dark],\n",
       "body.vscode-dark {\n",
       "  --xr-font-color0: rgba(255, 255, 255, 1);\n",
       "  --xr-font-color2: rgba(255, 255, 255, 0.54);\n",
       "  --xr-font-color3: rgba(255, 255, 255, 0.38);\n",
       "  --xr-border-color: #1F1F1F;\n",
       "  --xr-disabled-color: #515151;\n",
       "  --xr-background-color: #111111;\n",
       "  --xr-background-color-row-even: #111111;\n",
       "  --xr-background-color-row-odd: #313131;\n",
       "}\n",
       "\n",
       ".xr-wrap {\n",
       "  display: block !important;\n",
       "  min-width: 300px;\n",
       "  max-width: 700px;\n",
       "}\n",
       "\n",
       ".xr-text-repr-fallback {\n",
       "  /* fallback to plain text repr when CSS is not injected (untrusted notebook) */\n",
       "  display: none;\n",
       "}\n",
       "\n",
       ".xr-header {\n",
       "  padding-top: 6px;\n",
       "  padding-bottom: 6px;\n",
       "  margin-bottom: 4px;\n",
       "  border-bottom: solid 1px var(--xr-border-color);\n",
       "}\n",
       "\n",
       ".xr-header > div,\n",
       ".xr-header > ul {\n",
       "  display: inline;\n",
       "  margin-top: 0;\n",
       "  margin-bottom: 0;\n",
       "}\n",
       "\n",
       ".xr-obj-type,\n",
       ".xr-array-name {\n",
       "  margin-left: 2px;\n",
       "  margin-right: 10px;\n",
       "}\n",
       "\n",
       ".xr-obj-type {\n",
       "  color: var(--xr-font-color2);\n",
       "}\n",
       "\n",
       ".xr-sections {\n",
       "  padding-left: 0 !important;\n",
       "  display: grid;\n",
       "  grid-template-columns: 150px auto auto 1fr 20px 20px;\n",
       "}\n",
       "\n",
       ".xr-section-item {\n",
       "  display: contents;\n",
       "}\n",
       "\n",
       ".xr-section-item input {\n",
       "  display: none;\n",
       "}\n",
       "\n",
       ".xr-section-item input + label {\n",
       "  color: var(--xr-disabled-color);\n",
       "}\n",
       "\n",
       ".xr-section-item input:enabled + label {\n",
       "  cursor: pointer;\n",
       "  color: var(--xr-font-color2);\n",
       "}\n",
       "\n",
       ".xr-section-item input:enabled + label:hover {\n",
       "  color: var(--xr-font-color0);\n",
       "}\n",
       "\n",
       ".xr-section-summary {\n",
       "  grid-column: 1;\n",
       "  color: var(--xr-font-color2);\n",
       "  font-weight: 500;\n",
       "}\n",
       "\n",
       ".xr-section-summary > span {\n",
       "  display: inline-block;\n",
       "  padding-left: 0.5em;\n",
       "}\n",
       "\n",
       ".xr-section-summary-in:disabled + label {\n",
       "  color: var(--xr-font-color2);\n",
       "}\n",
       "\n",
       ".xr-section-summary-in + label:before {\n",
       "  display: inline-block;\n",
       "  content: '►';\n",
       "  font-size: 11px;\n",
       "  width: 15px;\n",
       "  text-align: center;\n",
       "}\n",
       "\n",
       ".xr-section-summary-in:disabled + label:before {\n",
       "  color: var(--xr-disabled-color);\n",
       "}\n",
       "\n",
       ".xr-section-summary-in:checked + label:before {\n",
       "  content: '▼';\n",
       "}\n",
       "\n",
       ".xr-section-summary-in:checked + label > span {\n",
       "  display: none;\n",
       "}\n",
       "\n",
       ".xr-section-summary,\n",
       ".xr-section-inline-details {\n",
       "  padding-top: 4px;\n",
       "  padding-bottom: 4px;\n",
       "}\n",
       "\n",
       ".xr-section-inline-details {\n",
       "  grid-column: 2 / -1;\n",
       "}\n",
       "\n",
       ".xr-section-details {\n",
       "  display: none;\n",
       "  grid-column: 1 / -1;\n",
       "  margin-bottom: 5px;\n",
       "}\n",
       "\n",
       ".xr-section-summary-in:checked ~ .xr-section-details {\n",
       "  display: contents;\n",
       "}\n",
       "\n",
       ".xr-array-wrap {\n",
       "  grid-column: 1 / -1;\n",
       "  display: grid;\n",
       "  grid-template-columns: 20px auto;\n",
       "}\n",
       "\n",
       ".xr-array-wrap > label {\n",
       "  grid-column: 1;\n",
       "  vertical-align: top;\n",
       "}\n",
       "\n",
       ".xr-preview {\n",
       "  color: var(--xr-font-color3);\n",
       "}\n",
       "\n",
       ".xr-array-preview,\n",
       ".xr-array-data {\n",
       "  padding: 0 5px !important;\n",
       "  grid-column: 2;\n",
       "}\n",
       "\n",
       ".xr-array-data,\n",
       ".xr-array-in:checked ~ .xr-array-preview {\n",
       "  display: none;\n",
       "}\n",
       "\n",
       ".xr-array-in:checked ~ .xr-array-data,\n",
       ".xr-array-preview {\n",
       "  display: inline-block;\n",
       "}\n",
       "\n",
       ".xr-dim-list {\n",
       "  display: inline-block !important;\n",
       "  list-style: none;\n",
       "  padding: 0 !important;\n",
       "  margin: 0;\n",
       "}\n",
       "\n",
       ".xr-dim-list li {\n",
       "  display: inline-block;\n",
       "  padding: 0;\n",
       "  margin: 0;\n",
       "}\n",
       "\n",
       ".xr-dim-list:before {\n",
       "  content: '(';\n",
       "}\n",
       "\n",
       ".xr-dim-list:after {\n",
       "  content: ')';\n",
       "}\n",
       "\n",
       ".xr-dim-list li:not(:last-child):after {\n",
       "  content: ',';\n",
       "  padding-right: 5px;\n",
       "}\n",
       "\n",
       ".xr-has-index {\n",
       "  font-weight: bold;\n",
       "}\n",
       "\n",
       ".xr-var-list,\n",
       ".xr-var-item {\n",
       "  display: contents;\n",
       "}\n",
       "\n",
       ".xr-var-item > div,\n",
       ".xr-var-item label,\n",
       ".xr-var-item > .xr-var-name span {\n",
       "  background-color: var(--xr-background-color-row-even);\n",
       "  margin-bottom: 0;\n",
       "}\n",
       "\n",
       ".xr-var-item > .xr-var-name:hover span {\n",
       "  padding-right: 5px;\n",
       "}\n",
       "\n",
       ".xr-var-list > li:nth-child(odd) > div,\n",
       ".xr-var-list > li:nth-child(odd) > label,\n",
       ".xr-var-list > li:nth-child(odd) > .xr-var-name span {\n",
       "  background-color: var(--xr-background-color-row-odd);\n",
       "}\n",
       "\n",
       ".xr-var-name {\n",
       "  grid-column: 1;\n",
       "}\n",
       "\n",
       ".xr-var-dims {\n",
       "  grid-column: 2;\n",
       "}\n",
       "\n",
       ".xr-var-dtype {\n",
       "  grid-column: 3;\n",
       "  text-align: right;\n",
       "  color: var(--xr-font-color2);\n",
       "}\n",
       "\n",
       ".xr-var-preview {\n",
       "  grid-column: 4;\n",
       "}\n",
       "\n",
       ".xr-index-preview {\n",
       "  grid-column: 2 / 5;\n",
       "  color: var(--xr-font-color2);\n",
       "}\n",
       "\n",
       ".xr-var-name,\n",
       ".xr-var-dims,\n",
       ".xr-var-dtype,\n",
       ".xr-preview,\n",
       ".xr-attrs dt {\n",
       "  white-space: nowrap;\n",
       "  overflow: hidden;\n",
       "  text-overflow: ellipsis;\n",
       "  padding-right: 10px;\n",
       "}\n",
       "\n",
       ".xr-var-name:hover,\n",
       ".xr-var-dims:hover,\n",
       ".xr-var-dtype:hover,\n",
       ".xr-attrs dt:hover {\n",
       "  overflow: visible;\n",
       "  width: auto;\n",
       "  z-index: 1;\n",
       "}\n",
       "\n",
       ".xr-var-attrs,\n",
       ".xr-var-data,\n",
       ".xr-index-data {\n",
       "  display: none;\n",
       "  background-color: var(--xr-background-color) !important;\n",
       "  padding-bottom: 5px !important;\n",
       "}\n",
       "\n",
       ".xr-var-attrs-in:checked ~ .xr-var-attrs,\n",
       ".xr-var-data-in:checked ~ .xr-var-data,\n",
       ".xr-index-data-in:checked ~ .xr-index-data {\n",
       "  display: block;\n",
       "}\n",
       "\n",
       ".xr-var-data > table {\n",
       "  float: right;\n",
       "}\n",
       "\n",
       ".xr-var-name span,\n",
       ".xr-var-data,\n",
       ".xr-index-name div,\n",
       ".xr-index-data,\n",
       ".xr-attrs {\n",
       "  padding-left: 25px !important;\n",
       "}\n",
       "\n",
       ".xr-attrs,\n",
       ".xr-var-attrs,\n",
       ".xr-var-data,\n",
       ".xr-index-data {\n",
       "  grid-column: 1 / -1;\n",
       "}\n",
       "\n",
       "dl.xr-attrs {\n",
       "  padding: 0;\n",
       "  margin: 0;\n",
       "  display: grid;\n",
       "  grid-template-columns: 125px auto;\n",
       "}\n",
       "\n",
       ".xr-attrs dt,\n",
       ".xr-attrs dd {\n",
       "  padding: 0;\n",
       "  margin: 0;\n",
       "  float: left;\n",
       "  padding-right: 10px;\n",
       "  width: auto;\n",
       "}\n",
       "\n",
       ".xr-attrs dt {\n",
       "  font-weight: normal;\n",
       "  grid-column: 1;\n",
       "}\n",
       "\n",
       ".xr-attrs dt:hover span {\n",
       "  display: inline-block;\n",
       "  background: var(--xr-background-color);\n",
       "  padding-right: 10px;\n",
       "}\n",
       "\n",
       ".xr-attrs dd {\n",
       "  grid-column: 2;\n",
       "  white-space: pre-wrap;\n",
       "  word-break: break-all;\n",
       "}\n",
       "\n",
       ".xr-icon-database,\n",
       ".xr-icon-file-text2,\n",
       ".xr-no-icon {\n",
       "  display: inline-block;\n",
       "  vertical-align: middle;\n",
       "  width: 1em;\n",
       "  height: 1.5em !important;\n",
       "  stroke-width: 0;\n",
       "  stroke: currentColor;\n",
       "  fill: currentColor;\n",
       "}\n",
       "</style><pre class='xr-text-repr-fallback'>&lt;xarray.Dataset&gt; Size: 42MB\n",
       "Dimensions:     (time: 31, latitude: 451, longitude: 751)\n",
       "Coordinates:\n",
       "    number      int32 4B ...\n",
       "  * time        (time) datetime64[ns] 248B 2010-11-30 2010-12-01 ... 2010-12-30\n",
       "    step        timedelta64[ns] 8B 1 days\n",
       "    surface     float64 8B ...\n",
       "  * latitude    (latitude) float64 4kB 75.0 74.9 74.8 74.7 ... 30.2 30.1 30.0\n",
       "  * longitude   (longitude) float64 6kB -30.0 -29.9 -29.8 ... 44.8 44.9 45.0\n",
       "    valid_time  (time) datetime64[ns] 248B ...\n",
       "Data variables:\n",
       "    tp          (time, latitude, longitude) float32 42MB ...\n",
       "Attributes:\n",
       "    GRIB_edition:            1\n",
       "    GRIB_centre:             ecmf\n",
       "    GRIB_centreDescription:  European Centre for Medium-Range Weather Forecasts\n",
       "    GRIB_subCentre:          0\n",
       "    Conventions:             CF-1.7\n",
       "    institution:             European Centre for Medium-Range Weather Forecasts\n",
       "    history:                 2025-02-26T13:23 GRIB to CDM+CF via cfgrib-0.9.1...</pre><div class='xr-wrap' style='display:none'><div class='xr-header'><div class='xr-obj-type'>xarray.Dataset</div></div><ul class='xr-sections'><li class='xr-section-item'><input id='section-051808d8-24b1-4712-82bf-195d30f7cdd9' class='xr-section-summary-in' type='checkbox' disabled ><label for='section-051808d8-24b1-4712-82bf-195d30f7cdd9' class='xr-section-summary'  title='Expand/collapse section'>Dimensions:</label><div class='xr-section-inline-details'><ul class='xr-dim-list'><li><span class='xr-has-index'>time</span>: 31</li><li><span class='xr-has-index'>latitude</span>: 451</li><li><span class='xr-has-index'>longitude</span>: 751</li></ul></div><div class='xr-section-details'></div></li><li class='xr-section-item'><input id='section-580a5e68-8aba-4f52-be48-7b4a82bd8dbf' class='xr-section-summary-in' type='checkbox'  checked><label for='section-580a5e68-8aba-4f52-be48-7b4a82bd8dbf' class='xr-section-summary' >Coordinates: <span>(7)</span></label><div class='xr-section-inline-details'></div><div class='xr-section-details'><ul class='xr-var-list'><li class='xr-var-item'><div class='xr-var-name'><span>number</span></div><div class='xr-var-dims'>()</div><div class='xr-var-dtype'>int32</div><div class='xr-var-preview xr-preview'>...</div><input id='attrs-8e05fb6b-bb7c-4d55-b131-c9e0f38fbc08' class='xr-var-attrs-in' type='checkbox' ><label for='attrs-8e05fb6b-bb7c-4d55-b131-c9e0f38fbc08' title='Show/Hide attributes'><svg class='icon xr-icon-file-text2'><use xlink:href='#icon-file-text2'></use></svg></label><input id='data-835e25df-d027-45d8-9e5e-73b75482d6de' class='xr-var-data-in' type='checkbox'><label for='data-835e25df-d027-45d8-9e5e-73b75482d6de' title='Show/Hide data repr'><svg class='icon xr-icon-database'><use xlink:href='#icon-database'></use></svg></label><div class='xr-var-attrs'><dl class='xr-attrs'><dt><span>long_name :</span></dt><dd>ensemble member numerical id</dd><dt><span>units :</span></dt><dd>1</dd><dt><span>standard_name :</span></dt><dd>realization</dd></dl></div><div class='xr-var-data'><pre>[1 values with dtype=int32]</pre></div></li><li class='xr-var-item'><div class='xr-var-name'><span class='xr-has-index'>time</span></div><div class='xr-var-dims'>(time)</div><div class='xr-var-dtype'>datetime64[ns]</div><div class='xr-var-preview xr-preview'>2010-11-30 ... 2010-12-30</div><input id='attrs-dde75fe7-8a25-4383-a3ed-69964478d32e' class='xr-var-attrs-in' type='checkbox' ><label for='attrs-dde75fe7-8a25-4383-a3ed-69964478d32e' title='Show/Hide attributes'><svg class='icon xr-icon-file-text2'><use xlink:href='#icon-file-text2'></use></svg></label><input id='data-7997d776-c9c0-4cdd-8da7-6766a6356e9d' class='xr-var-data-in' type='checkbox'><label for='data-7997d776-c9c0-4cdd-8da7-6766a6356e9d' title='Show/Hide data repr'><svg class='icon xr-icon-database'><use xlink:href='#icon-database'></use></svg></label><div class='xr-var-attrs'><dl class='xr-attrs'><dt><span>long_name :</span></dt><dd>initial time of forecast</dd><dt><span>standard_name :</span></dt><dd>forecast_reference_time</dd></dl></div><div class='xr-var-data'><pre>array([&#x27;2010-11-30T00:00:00.000000000&#x27;, &#x27;2010-12-01T00:00:00.000000000&#x27;,\n",
       "       &#x27;2010-12-02T00:00:00.000000000&#x27;, &#x27;2010-12-03T00:00:00.000000000&#x27;,\n",
       "       &#x27;2010-12-04T00:00:00.000000000&#x27;, &#x27;2010-12-05T00:00:00.000000000&#x27;,\n",
       "       &#x27;2010-12-06T00:00:00.000000000&#x27;, &#x27;2010-12-07T00:00:00.000000000&#x27;,\n",
       "       &#x27;2010-12-08T00:00:00.000000000&#x27;, &#x27;2010-12-09T00:00:00.000000000&#x27;,\n",
       "       &#x27;2010-12-10T00:00:00.000000000&#x27;, &#x27;2010-12-11T00:00:00.000000000&#x27;,\n",
       "       &#x27;2010-12-12T00:00:00.000000000&#x27;, &#x27;2010-12-13T00:00:00.000000000&#x27;,\n",
       "       &#x27;2010-12-14T00:00:00.000000000&#x27;, &#x27;2010-12-15T00:00:00.000000000&#x27;,\n",
       "       &#x27;2010-12-16T00:00:00.000000000&#x27;, &#x27;2010-12-17T00:00:00.000000000&#x27;,\n",
       "       &#x27;2010-12-18T00:00:00.000000000&#x27;, &#x27;2010-12-19T00:00:00.000000000&#x27;,\n",
       "       &#x27;2010-12-20T00:00:00.000000000&#x27;, &#x27;2010-12-21T00:00:00.000000000&#x27;,\n",
       "       &#x27;2010-12-22T00:00:00.000000000&#x27;, &#x27;2010-12-23T00:00:00.000000000&#x27;,\n",
       "       &#x27;2010-12-24T00:00:00.000000000&#x27;, &#x27;2010-12-25T00:00:00.000000000&#x27;,\n",
       "       &#x27;2010-12-26T00:00:00.000000000&#x27;, &#x27;2010-12-27T00:00:00.000000000&#x27;,\n",
       "       &#x27;2010-12-28T00:00:00.000000000&#x27;, &#x27;2010-12-29T00:00:00.000000000&#x27;,\n",
       "       &#x27;2010-12-30T00:00:00.000000000&#x27;], dtype=&#x27;datetime64[ns]&#x27;)</pre></div></li><li class='xr-var-item'><div class='xr-var-name'><span>step</span></div><div class='xr-var-dims'>()</div><div class='xr-var-dtype'>timedelta64[ns]</div><div class='xr-var-preview xr-preview'>1 days</div><input id='attrs-f8927ac9-e592-4594-b12a-548ae0b048f3' class='xr-var-attrs-in' type='checkbox' ><label for='attrs-f8927ac9-e592-4594-b12a-548ae0b048f3' title='Show/Hide attributes'><svg class='icon xr-icon-file-text2'><use xlink:href='#icon-file-text2'></use></svg></label><input id='data-47d6a694-7813-45f6-b891-01d60bb15a17' class='xr-var-data-in' type='checkbox'><label for='data-47d6a694-7813-45f6-b891-01d60bb15a17' title='Show/Hide data repr'><svg class='icon xr-icon-database'><use xlink:href='#icon-database'></use></svg></label><div class='xr-var-attrs'><dl class='xr-attrs'><dt><span>long_name :</span></dt><dd>time since forecast_reference_time</dd><dt><span>standard_name :</span></dt><dd>forecast_period</dd></dl></div><div class='xr-var-data'><pre>array(86400000000000, dtype=&#x27;timedelta64[ns]&#x27;)</pre></div></li><li class='xr-var-item'><div class='xr-var-name'><span>surface</span></div><div class='xr-var-dims'>()</div><div class='xr-var-dtype'>float64</div><div class='xr-var-preview xr-preview'>...</div><input id='attrs-a9578974-7140-429e-b554-8bd20ca990fc' class='xr-var-attrs-in' type='checkbox' ><label for='attrs-a9578974-7140-429e-b554-8bd20ca990fc' title='Show/Hide attributes'><svg class='icon xr-icon-file-text2'><use xlink:href='#icon-file-text2'></use></svg></label><input id='data-3fecf568-62f9-44e9-8a78-38346183f9ed' class='xr-var-data-in' type='checkbox'><label for='data-3fecf568-62f9-44e9-8a78-38346183f9ed' title='Show/Hide data repr'><svg class='icon xr-icon-database'><use xlink:href='#icon-database'></use></svg></label><div class='xr-var-attrs'><dl class='xr-attrs'><dt><span>long_name :</span></dt><dd>original GRIB coordinate for key: level(surface)</dd><dt><span>units :</span></dt><dd>1</dd></dl></div><div class='xr-var-data'><pre>[1 values with dtype=float64]</pre></div></li><li class='xr-var-item'><div class='xr-var-name'><span class='xr-has-index'>latitude</span></div><div class='xr-var-dims'>(latitude)</div><div class='xr-var-dtype'>float64</div><div class='xr-var-preview xr-preview'>75.0 74.9 74.8 ... 30.2 30.1 30.0</div><input id='attrs-4a3ee0b8-3f41-4ed6-bbbd-c0d9bb202d17' class='xr-var-attrs-in' type='checkbox' ><label for='attrs-4a3ee0b8-3f41-4ed6-bbbd-c0d9bb202d17' title='Show/Hide attributes'><svg class='icon xr-icon-file-text2'><use xlink:href='#icon-file-text2'></use></svg></label><input id='data-6260984a-d3f4-45e8-a929-43083da93311' class='xr-var-data-in' type='checkbox'><label for='data-6260984a-d3f4-45e8-a929-43083da93311' title='Show/Hide data repr'><svg class='icon xr-icon-database'><use xlink:href='#icon-database'></use></svg></label><div class='xr-var-attrs'><dl class='xr-attrs'><dt><span>units :</span></dt><dd>degrees_north</dd><dt><span>standard_name :</span></dt><dd>latitude</dd><dt><span>long_name :</span></dt><dd>latitude</dd><dt><span>stored_direction :</span></dt><dd>decreasing</dd></dl></div><div class='xr-var-data'><pre>array([75. , 74.9, 74.8, ..., 30.2, 30.1, 30. ])</pre></div></li><li class='xr-var-item'><div class='xr-var-name'><span class='xr-has-index'>longitude</span></div><div class='xr-var-dims'>(longitude)</div><div class='xr-var-dtype'>float64</div><div class='xr-var-preview xr-preview'>-30.0 -29.9 -29.8 ... 44.9 45.0</div><input id='attrs-6158f5d8-1e1d-413b-80ef-5644dc37d0af' class='xr-var-attrs-in' type='checkbox' ><label for='attrs-6158f5d8-1e1d-413b-80ef-5644dc37d0af' title='Show/Hide attributes'><svg class='icon xr-icon-file-text2'><use xlink:href='#icon-file-text2'></use></svg></label><input id='data-28a7f388-578a-4ed6-b65f-547feb7a3bd1' class='xr-var-data-in' type='checkbox'><label for='data-28a7f388-578a-4ed6-b65f-547feb7a3bd1' title='Show/Hide data repr'><svg class='icon xr-icon-database'><use xlink:href='#icon-database'></use></svg></label><div class='xr-var-attrs'><dl class='xr-attrs'><dt><span>units :</span></dt><dd>degrees_east</dd><dt><span>standard_name :</span></dt><dd>longitude</dd><dt><span>long_name :</span></dt><dd>longitude</dd></dl></div><div class='xr-var-data'><pre>array([-30. , -29.9, -29.8, ...,  44.8,  44.9,  45. ])</pre></div></li><li class='xr-var-item'><div class='xr-var-name'><span>valid_time</span></div><div class='xr-var-dims'>(time)</div><div class='xr-var-dtype'>datetime64[ns]</div><div class='xr-var-preview xr-preview'>...</div><input id='attrs-0cba1adc-a70e-48cb-9692-fae42920f904' class='xr-var-attrs-in' type='checkbox' ><label for='attrs-0cba1adc-a70e-48cb-9692-fae42920f904' title='Show/Hide attributes'><svg class='icon xr-icon-file-text2'><use xlink:href='#icon-file-text2'></use></svg></label><input id='data-fc9ee202-39d2-4a8e-b12a-3f281cd4f0d0' class='xr-var-data-in' type='checkbox'><label for='data-fc9ee202-39d2-4a8e-b12a-3f281cd4f0d0' title='Show/Hide data repr'><svg class='icon xr-icon-database'><use xlink:href='#icon-database'></use></svg></label><div class='xr-var-attrs'><dl class='xr-attrs'><dt><span>standard_name :</span></dt><dd>time</dd><dt><span>long_name :</span></dt><dd>time</dd></dl></div><div class='xr-var-data'><pre>[31 values with dtype=datetime64[ns]]</pre></div></li></ul></div></li><li class='xr-section-item'><input id='section-a8d5b7c6-8d3a-44f2-8c17-4640edc92801' class='xr-section-summary-in' type='checkbox'  checked><label for='section-a8d5b7c6-8d3a-44f2-8c17-4640edc92801' class='xr-section-summary' >Data variables: <span>(1)</span></label><div class='xr-section-inline-details'></div><div class='xr-section-details'><ul class='xr-var-list'><li class='xr-var-item'><div class='xr-var-name'><span>tp</span></div><div class='xr-var-dims'>(time, latitude, longitude)</div><div class='xr-var-dtype'>float32</div><div class='xr-var-preview xr-preview'>...</div><input id='attrs-71e201fa-cbe5-4ad4-be9d-e0b231989801' class='xr-var-attrs-in' type='checkbox' ><label for='attrs-71e201fa-cbe5-4ad4-be9d-e0b231989801' title='Show/Hide attributes'><svg class='icon xr-icon-file-text2'><use xlink:href='#icon-file-text2'></use></svg></label><input id='data-2893b5d6-ffd6-4183-833f-c68af4c9e3be' class='xr-var-data-in' type='checkbox'><label for='data-2893b5d6-ffd6-4183-833f-c68af4c9e3be' title='Show/Hide data repr'><svg class='icon xr-icon-database'><use xlink:href='#icon-database'></use></svg></label><div class='xr-var-attrs'><dl class='xr-attrs'><dt><span>GRIB_paramId :</span></dt><dd>228</dd><dt><span>GRIB_dataType :</span></dt><dd>fc</dd><dt><span>GRIB_numberOfPoints :</span></dt><dd>338701</dd><dt><span>GRIB_typeOfLevel :</span></dt><dd>surface</dd><dt><span>GRIB_stepUnits :</span></dt><dd>1</dd><dt><span>GRIB_stepType :</span></dt><dd>accum</dd><dt><span>GRIB_gridType :</span></dt><dd>regular_ll</dd><dt><span>GRIB_uvRelativeToGrid :</span></dt><dd>0</dd><dt><span>GRIB_NV :</span></dt><dd>0</dd><dt><span>GRIB_Nx :</span></dt><dd>751</dd><dt><span>GRIB_Ny :</span></dt><dd>451</dd><dt><span>GRIB_cfName :</span></dt><dd>unknown</dd><dt><span>GRIB_cfVarName :</span></dt><dd>tp</dd><dt><span>GRIB_gridDefinitionDescription :</span></dt><dd>Latitude/Longitude Grid</dd><dt><span>GRIB_iDirectionIncrementInDegrees :</span></dt><dd>0.1</dd><dt><span>GRIB_iScansNegatively :</span></dt><dd>0</dd><dt><span>GRIB_jDirectionIncrementInDegrees :</span></dt><dd>0.1</dd><dt><span>GRIB_jPointsAreConsecutive :</span></dt><dd>0</dd><dt><span>GRIB_jScansPositively :</span></dt><dd>0</dd><dt><span>GRIB_latitudeOfFirstGridPointInDegrees :</span></dt><dd>75.0</dd><dt><span>GRIB_latitudeOfLastGridPointInDegrees :</span></dt><dd>30.0</dd><dt><span>GRIB_longitudeOfFirstGridPointInDegrees :</span></dt><dd>-30.0</dd><dt><span>GRIB_longitudeOfLastGridPointInDegrees :</span></dt><dd>45.0</dd><dt><span>GRIB_missingValue :</span></dt><dd>3.4028234663852886e+38</dd><dt><span>GRIB_name :</span></dt><dd>Total precipitation</dd><dt><span>GRIB_shortName :</span></dt><dd>tp</dd><dt><span>GRIB_totalNumber :</span></dt><dd>0</dd><dt><span>GRIB_units :</span></dt><dd>m</dd><dt><span>long_name :</span></dt><dd>Total precipitation</dd><dt><span>units :</span></dt><dd>m</dd><dt><span>standard_name :</span></dt><dd>unknown</dd></dl></div><div class='xr-var-data'><pre>[10499731 values with dtype=float32]</pre></div></li></ul></div></li><li class='xr-section-item'><input id='section-a6fc64a1-7155-436f-b872-c82755873664' class='xr-section-summary-in' type='checkbox'  ><label for='section-a6fc64a1-7155-436f-b872-c82755873664' class='xr-section-summary' >Indexes: <span>(3)</span></label><div class='xr-section-inline-details'></div><div class='xr-section-details'><ul class='xr-var-list'><li class='xr-var-item'><div class='xr-index-name'><div>time</div></div><div class='xr-index-preview'>PandasIndex</div><div></div><input id='index-a3bea6dd-84f0-4bbb-9839-ab709b6c5542' class='xr-index-data-in' type='checkbox'/><label for='index-a3bea6dd-84f0-4bbb-9839-ab709b6c5542' title='Show/Hide index repr'><svg class='icon xr-icon-database'><use xlink:href='#icon-database'></use></svg></label><div class='xr-index-data'><pre>PandasIndex(DatetimeIndex([&#x27;2010-11-30&#x27;, &#x27;2010-12-01&#x27;, &#x27;2010-12-02&#x27;, &#x27;2010-12-03&#x27;,\n",
       "               &#x27;2010-12-04&#x27;, &#x27;2010-12-05&#x27;, &#x27;2010-12-06&#x27;, &#x27;2010-12-07&#x27;,\n",
       "               &#x27;2010-12-08&#x27;, &#x27;2010-12-09&#x27;, &#x27;2010-12-10&#x27;, &#x27;2010-12-11&#x27;,\n",
       "               &#x27;2010-12-12&#x27;, &#x27;2010-12-13&#x27;, &#x27;2010-12-14&#x27;, &#x27;2010-12-15&#x27;,\n",
       "               &#x27;2010-12-16&#x27;, &#x27;2010-12-17&#x27;, &#x27;2010-12-18&#x27;, &#x27;2010-12-19&#x27;,\n",
       "               &#x27;2010-12-20&#x27;, &#x27;2010-12-21&#x27;, &#x27;2010-12-22&#x27;, &#x27;2010-12-23&#x27;,\n",
       "               &#x27;2010-12-24&#x27;, &#x27;2010-12-25&#x27;, &#x27;2010-12-26&#x27;, &#x27;2010-12-27&#x27;,\n",
       "               &#x27;2010-12-28&#x27;, &#x27;2010-12-29&#x27;, &#x27;2010-12-30&#x27;],\n",
       "              dtype=&#x27;datetime64[ns]&#x27;, name=&#x27;time&#x27;, freq=None))</pre></div></li><li class='xr-var-item'><div class='xr-index-name'><div>latitude</div></div><div class='xr-index-preview'>PandasIndex</div><div></div><input id='index-91b03f71-593a-47dd-9539-06bb75d99df5' class='xr-index-data-in' type='checkbox'/><label for='index-91b03f71-593a-47dd-9539-06bb75d99df5' title='Show/Hide index repr'><svg class='icon xr-icon-database'><use xlink:href='#icon-database'></use></svg></label><div class='xr-index-data'><pre>PandasIndex(Index([              75.0,               74.9,  74.80000000000001,\n",
       "        74.70000000000002,  74.60000000000002,  74.50000000000003,\n",
       "        74.40000000000003,  74.30000000000004,  74.20000000000005,\n",
       "        74.10000000000005,\n",
       "       ...\n",
       "       30.900000000000155, 30.800000000000153, 30.700000000000152,\n",
       "        30.60000000000015,  30.50000000000015, 30.400000000000148,\n",
       "       30.300000000000146, 30.200000000000145, 30.100000000000144,\n",
       "                     30.0],\n",
       "      dtype=&#x27;float64&#x27;, name=&#x27;latitude&#x27;, length=451))</pre></div></li><li class='xr-var-item'><div class='xr-index-name'><div>longitude</div></div><div class='xr-index-preview'>PandasIndex</div><div></div><input id='index-1b507f92-5da6-4a28-bb8e-6053322842b6' class='xr-index-data-in' type='checkbox'/><label for='index-1b507f92-5da6-4a28-bb8e-6053322842b6' title='Show/Hide index repr'><svg class='icon xr-icon-database'><use xlink:href='#icon-database'></use></svg></label><div class='xr-index-data'><pre>PandasIndex(Index([              -30.0,               -29.9, -29.799999999999997,\n",
       "       -29.699999999999996, -29.599999999999994, -29.499999999999993,\n",
       "        -29.39999999999999,  -29.29999999999999,  -29.19999999999999,\n",
       "       -29.099999999999987,\n",
       "       ...\n",
       "         44.10000000000051,  44.200000000000514,  44.300000000000516,\n",
       "         44.40000000000052,   44.50000000000052,   44.60000000000052,\n",
       "         44.70000000000052,   44.80000000000052,  44.900000000000524,\n",
       "                      45.0],\n",
       "      dtype=&#x27;float64&#x27;, name=&#x27;longitude&#x27;, length=751))</pre></div></li></ul></div></li><li class='xr-section-item'><input id='section-4be46ef1-f497-45e0-b502-8a6a57c1b0ab' class='xr-section-summary-in' type='checkbox'  checked><label for='section-4be46ef1-f497-45e0-b502-8a6a57c1b0ab' class='xr-section-summary' >Attributes: <span>(7)</span></label><div class='xr-section-inline-details'></div><div class='xr-section-details'><dl class='xr-attrs'><dt><span>GRIB_edition :</span></dt><dd>1</dd><dt><span>GRIB_centre :</span></dt><dd>ecmf</dd><dt><span>GRIB_centreDescription :</span></dt><dd>European Centre for Medium-Range Weather Forecasts</dd><dt><span>GRIB_subCentre :</span></dt><dd>0</dd><dt><span>Conventions :</span></dt><dd>CF-1.7</dd><dt><span>institution :</span></dt><dd>European Centre for Medium-Range Weather Forecasts</dd><dt><span>history :</span></dt><dd>2025-02-26T13:23 GRIB to CDM+CF via cfgrib-0.9.14.1/ecCodes-2.37.0 with {&quot;source&quot;: &quot;2010-12-prcp.grib&quot;, &quot;filter_by_keys&quot;: {}, &quot;encode_cf&quot;: [&quot;parameter&quot;, &quot;time&quot;, &quot;geography&quot;, &quot;vertical&quot;]}</dd></dl></div></li></ul></div></div>"
      ],
      "text/plain": [
       "<xarray.Dataset> Size: 42MB\n",
       "Dimensions:     (time: 31, latitude: 451, longitude: 751)\n",
       "Coordinates:\n",
       "    number      int32 4B ...\n",
       "  * time        (time) datetime64[ns] 248B 2010-11-30 2010-12-01 ... 2010-12-30\n",
       "    step        timedelta64[ns] 8B 1 days\n",
       "    surface     float64 8B ...\n",
       "  * latitude    (latitude) float64 4kB 75.0 74.9 74.8 74.7 ... 30.2 30.1 30.0\n",
       "  * longitude   (longitude) float64 6kB -30.0 -29.9 -29.8 ... 44.8 44.9 45.0\n",
       "    valid_time  (time) datetime64[ns] 248B ...\n",
       "Data variables:\n",
       "    tp          (time, latitude, longitude) float32 42MB ...\n",
       "Attributes:\n",
       "    GRIB_edition:            1\n",
       "    GRIB_centre:             ecmf\n",
       "    GRIB_centreDescription:  European Centre for Medium-Range Weather Forecasts\n",
       "    GRIB_subCentre:          0\n",
       "    Conventions:             CF-1.7\n",
       "    institution:             European Centre for Medium-Range Weather Forecasts\n",
       "    history:                 2025-02-26T13:23 GRIB to CDM+CF via cfgrib-0.9.1..."
      ]
     },
     "execution_count": 9,
     "metadata": {},
     "output_type": "execute_result"
    }
   ],
   "source": [
    "ds.isel(step = 1).isel(time = slice(0, len(ds.time)-1))"
   ]
  },
  {
   "cell_type": "code",
   "execution_count": null,
   "id": "609d9b40-a0bc-42a0-b6f9-6d63ad597eab",
   "metadata": {},
   "outputs": [],
   "source": []
  }
 ],
 "metadata": {
  "kernelspec": {
   "display_name": "Python 3 (ipykernel)",
   "language": "python",
   "name": "python3"
  },
  "language_info": {
   "codemirror_mode": {
    "name": "ipython",
    "version": 3
   },
   "file_extension": ".py",
   "mimetype": "text/x-python",
   "name": "python",
   "nbconvert_exporter": "python",
   "pygments_lexer": "ipython3",
   "version": "3.12.5"
  }
 },
 "nbformat": 4,
 "nbformat_minor": 5
}
