{
 "cells": [
  {
   "cell_type": "markdown",
   "id": "98096bb3-93f4-449f-afad-5013bd843d49",
   "metadata": {},
   "source": [
    "### Calculate wind"
   ]
  },
  {
   "cell_type": "code",
   "execution_count": 5,
   "id": "47594669-dc0f-4686-a17a-28d8056c8b45",
   "metadata": {},
   "outputs": [],
   "source": [
    "import sys\n",
    "import glob\n",
    "import xarray as xr\n",
    "import numpy as np\n",
    "from dask.distributed import LocalCluster\n",
    "import time\n",
    "import dask.array as da \n",
    "import os\n",
    "from IPython.display import clear_output"
   ]
  },
  {
   "cell_type": "code",
   "execution_count": 6,
   "id": "c761de0b-69df-437c-bed3-64852a68c58e",
   "metadata": {},
   "outputs": [],
   "source": [
    "t0 = time.time()\n",
    "\n",
    "ens = 'hpp'\n",
    "bias_correct = 'QM'\n",
    "start_year = '1991'\n",
    "end_year = '2010'\n",
    "var = 'tas'\n"
   ]
  },
  {
   "cell_type": "code",
   "execution_count": 7,
   "id": "5a7b1292-331c-43c3-9658-2c819518e3fc",
   "metadata": {},
   "outputs": [],
   "source": [
    "years = np.arange(int(start_year), int(end_year) +1)\n",
    "path = \"O:/Public/sharing-4270-CERM/VLYMI/CLIMEX2/GlobusDownload/ClimExII_4_Friends/ClimExII_4_Friends/\"\n",
    "\n",
    "files_uas = []\n",
    "files_vas = []\n",
    "\n",
    "for year in years:\n",
    "    year = str(year)\n",
    "    files_uas = files_uas + sorted(glob.glob(path +'/' + ens + '/' + year + '/uas_' + ens + '*.nc'))[5:10] # Select only June to October\n",
    "    files_vas = files_vas + sorted(glob.glob(path +'/' + ens + '/' + year + '/vas_' + ens + '*.nc'))[5:10] # Select only June to October\n"
   ]
  },
  {
   "cell_type": "code",
   "execution_count": 8,
   "id": "a9195d4b-47f2-407a-befc-c420e0058abb",
   "metadata": {},
   "outputs": [
    {
     "name": "stdout",
     "output_type": "stream",
     "text": [
      "99\n"
     ]
    }
   ],
   "source": [
    "for i, file in enumerate(files_vas):\n",
    "    clear_output(wait=True)\n",
    "    print(i)\n",
    "    if os.path.isfile(\"O:/Climate-and-Energy-Policy/CERM/Projects/Wildfire/Data/CLIMEX2/FWI-variables/\" + ens + \"/wind-\" + file[-12:]) == True:\n",
    "        continue\n",
    "    ds_vas = xr.open_dataset(file)\n",
    "    ds_vas = ds_vas.sel(time = ds_vas.time.dt.hour ==12)\n",
    "    \n",
    "    ds_uas = xr.open_dataset(files_uas[i])\n",
    "    ds_uas = ds_uas.sel(time = ds_uas.time.dt.hour ==12)\n",
    "    ds_uas = ds_uas.assign(vas=(['time','rlat','rlon'],  ds_vas.vas.data))  \n",
    "    ds_uas = ds_uas.assign(wind=lambda x: np.sqrt(x.uas*x.uas + x.vas*x.vas))\n",
    "    ds_uas = ds_uas.drop_vars(['uas', 'vas'])\n",
    "    ds_uas.to_netcdf(\"O:/Climate-and-Energy-Policy/CERM/Projects/Wildfire/Data/CLIMEX2/FWI-variables/\" + ens + \"/wind-\" + file[-12:])"
   ]
  },
  {
   "cell_type": "code",
   "execution_count": null,
   "id": "0cded7c5-a977-45d8-9fb3-c827b2fd4d15",
   "metadata": {},
   "outputs": [],
   "source": []
  },
  {
   "cell_type": "code",
   "execution_count": null,
   "id": "3a9c63c7-b1d4-4714-b411-363ad2d9d0e4",
   "metadata": {},
   "outputs": [],
   "source": []
  }
 ],
 "metadata": {
  "kernelspec": {
   "display_name": "Python 3 (ipykernel)",
   "language": "python",
   "name": "python3"
  },
  "language_info": {
   "codemirror_mode": {
    "name": "ipython",
    "version": 3
   },
   "file_extension": ".py",
   "mimetype": "text/x-python",
   "name": "python",
   "nbconvert_exporter": "python",
   "pygments_lexer": "ipython3",
   "version": "3.12.5"
  }
 },
 "nbformat": 4,
 "nbformat_minor": 5
}
