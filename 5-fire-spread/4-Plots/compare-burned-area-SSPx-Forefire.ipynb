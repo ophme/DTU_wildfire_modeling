{
 "cells": [
  {
   "cell_type": "code",
   "execution_count": 63,
   "id": "66a543ca",
   "metadata": {},
   "outputs": [],
   "source": [
    "from datetime import datetime, timedelta\n",
    "import glob\n",
    "import matplotlib.pyplot as plt\n",
    "import numpy as np\n",
    "import os\n",
    "import geopandas as gpd\n",
    "import pandas as pd\n",
    "import xarray as xr\n",
    "import shapely as shp\n",
    "import cartopy.crs as ccrs\n",
    "import cartopy.feature as cfeature\n",
    "import scipy.stats as stats\n",
    "import os"
   ]
  },
  {
   "cell_type": "markdown",
   "id": "198e5efd",
   "metadata": {},
   "source": [
    "# 2) Load the ClimEx ForeFire runs"
   ]
  },
  {
   "cell_type": "code",
   "execution_count": 64,
   "id": "b5429088",
   "metadata": {},
   "outputs": [
    {
     "name": "stdout",
     "output_type": "stream",
     "text": [
      "Processing region: North\n",
      "  Scenario: era5-land, found 1 shapefiles\n",
      "  Scenario: ssp1, found 4 shapefiles\n",
      "  Scenario: ssp2, found 4 shapefiles\n",
      "  Scenario: ssp3, found 4 shapefiles\n",
      "Processing region: Central\n",
      "  Scenario: era5-land, found 1 shapefiles\n",
      "  Scenario: ssp1, found 4 shapefiles\n",
      "  Scenario: ssp2, found 4 shapefiles\n",
      "  Scenario: ssp3, found 4 shapefiles\n",
      "Processing region: South\n",
      "  Scenario: era5-land, found 1 shapefiles\n",
      "  Scenario: ssp1, found 4 shapefiles\n",
      "  Scenario: ssp2, found 4 shapefiles\n",
      "  Scenario: ssp3, found 4 shapefiles\n"
     ]
    }
   ],
   "source": [
    "regions = ['North', 'Central', 'South']\n",
    "scenarios = ['era5-land', 'ssp1', 'ssp2', 'ssp3'] # to add ssp2\n",
    "common_path = r'O:\\Climate-and-Energy-Policy\\CERM\\Projects\\Wildfire\\IIASA-results'\n",
    "\n",
    "\n",
    "all_gdfs = []\n",
    "\n",
    "for region in regions:\n",
    "    region_path = os.path.join(common_path, region)\n",
    "    print(f\"Processing region: {region}\")\n",
    "\n",
    "    for scenario in scenarios:\n",
    "        scenario_files = glob.glob(os.path.join(region_path, '**', f'*{scenario}*.shp'), recursive=True)\n",
    "\n",
    "        print(f\"  Scenario: {scenario}, found {len(scenario_files)} shapefiles\")\n",
    "\n",
    "        for f in scenario_files:\n",
    "            gdf = gpd.read_file(f)\n",
    "\n",
    "            # Ensure 'date' column is datetime\n",
    "            gdf['date'] = pd.to_datetime(gdf['date'], errors='coerce')\n",
    "            gdf['year'] = gdf['date'].dt.year\n",
    "\n",
    "            # Add metadata\n",
    "            gdf['scenario'] = scenario\n",
    "            gdf['region'] = region\n",
    "    \n",
    "\n",
    "            # Select only needed columns\n",
    "            gdf = gdf[['date', 'year', 'area_ha', 'scenario', 'region']]\n",
    "            all_gdfs.append(gdf)\n",
    "\n",
    "# Combine all scenario-region dataframes into one\n",
    "all_fires_regions_scenarios = pd.concat(all_gdfs, ignore_index=True)\n"
   ]
  },
  {
   "cell_type": "code",
   "execution_count": 65,
   "id": "3a0fc158",
   "metadata": {},
   "outputs": [
    {
     "data": {
      "application/vnd.microsoft.datawrangler.viewer.v0+json": {
       "columns": [
        {
         "name": "index",
         "rawType": "int64",
         "type": "integer"
        },
        {
         "name": "date",
         "rawType": "datetime64[ns]",
         "type": "datetime"
        },
        {
         "name": "year",
         "rawType": "int32",
         "type": "integer"
        },
        {
         "name": "area_ha",
         "rawType": "float64",
         "type": "float"
        },
        {
         "name": "scenario",
         "rawType": "object",
         "type": "string"
        },
        {
         "name": "region",
         "rawType": "object",
         "type": "string"
        },
        {
         "name": "period",
         "rawType": "object",
         "type": "unknown"
        }
       ],
       "ref": "28a55f4d-8f34-4681-8913-4688700e138b",
       "rows": [
        [
         "0",
         "2014-07-30 00:00:00",
         "2014",
         "119.84",
         "era5-land",
         "North",
         null
        ],
        [
         "1",
         "2014-07-10 00:00:00",
         "2014",
         "40.22",
         "era5-land",
         "North",
         null
        ],
        [
         "2",
         "2018-07-16 00:00:00",
         "2018",
         "70.62",
         "era5-land",
         "North",
         null
        ],
        [
         "3",
         "2018-07-12 00:00:00",
         "2018",
         "51.64",
         "era5-land",
         "North",
         null
        ],
        [
         "4",
         "2018-07-19 00:00:00",
         "2018",
         "163.11",
         "era5-land",
         "North",
         null
        ],
        [
         "5",
         "2019-07-27 00:00:00",
         "2019",
         "246.72",
         "era5-land",
         "North",
         null
        ],
        [
         "6",
         "2018-07-17 00:00:00",
         "2018",
         "55.49",
         "era5-land",
         "North",
         null
        ],
        [
         "7",
         "2018-06-20 00:00:00",
         "2018",
         "240.1",
         "era5-land",
         "North",
         null
        ],
        [
         "8",
         "2018-06-30 00:00:00",
         "2018",
         "75.98",
         "era5-land",
         "North",
         null
        ],
        [
         "9",
         "2018-06-09 00:00:00",
         "2018",
         "88.68",
         "era5-land",
         "North",
         null
        ],
        [
         "10",
         "2014-07-21 00:00:00",
         "2014",
         "126.13",
         "era5-land",
         "North",
         null
        ],
        [
         "11",
         "2018-07-23 00:00:00",
         "2018",
         "279.82",
         "era5-land",
         "North",
         null
        ],
        [
         "12",
         "2018-07-17 00:00:00",
         "2018",
         "174.85",
         "era5-land",
         "North",
         null
        ],
        [
         "13",
         "2018-07-15 00:00:00",
         "2018",
         "151.01",
         "era5-land",
         "North",
         null
        ],
        [
         "14",
         "2013-07-25 00:00:00",
         "2013",
         "37.1",
         "era5-land",
         "North",
         null
        ],
        [
         "15",
         "2018-07-18 00:00:00",
         "2018",
         "315.74",
         "era5-land",
         "North",
         null
        ],
        [
         "16",
         "2014-06-02 00:00:00",
         "2014",
         "85.93",
         "era5-land",
         "North",
         null
        ],
        [
         "17",
         "2018-07-09 00:00:00",
         "2018",
         "130.52",
         "era5-land",
         "North",
         null
        ],
        [
         "18",
         "2013-08-06 00:00:00",
         "2013",
         "105.55",
         "era5-land",
         "North",
         null
        ],
        [
         "19",
         "2014-08-04 00:00:00",
         "2014",
         "63.85",
         "era5-land",
         "North",
         null
        ],
        [
         "20",
         "2019-08-02 00:00:00",
         "2019",
         "48.68",
         "era5-land",
         "North",
         null
        ],
        [
         "21",
         "2014-06-05 00:00:00",
         "2014",
         "346.62",
         "era5-land",
         "North",
         null
        ],
        [
         "22",
         "2018-06-03 00:00:00",
         "2018",
         "236.47",
         "era5-land",
         "North",
         null
        ],
        [
         "23",
         "2018-07-13 00:00:00",
         "2018",
         "120.57",
         "era5-land",
         "North",
         null
        ],
        [
         "24",
         "2018-06-01 00:00:00",
         "2018",
         "35.09",
         "era5-land",
         "North",
         null
        ],
        [
         "25",
         "2019-06-28 00:00:00",
         "2019",
         "138.04",
         "era5-land",
         "North",
         null
        ],
        [
         "26",
         "2018-06-05 00:00:00",
         "2018",
         "104.91",
         "era5-land",
         "North",
         null
        ],
        [
         "27",
         "2013-06-07 00:00:00",
         "2013",
         "86.96",
         "era5-land",
         "North",
         null
        ],
        [
         "28",
         "2018-07-27 00:00:00",
         "2018",
         "383.51",
         "era5-land",
         "North",
         null
        ],
        [
         "29",
         "2018-07-16 00:00:00",
         "2018",
         "232.67",
         "era5-land",
         "North",
         null
        ],
        [
         "30",
         "2018-07-07 00:00:00",
         "2018",
         "136.2",
         "era5-land",
         "North",
         null
        ],
        [
         "31",
         "2013-06-01 00:00:00",
         "2013",
         "84.12",
         "era5-land",
         "North",
         null
        ],
        [
         "32",
         "2013-07-27 00:00:00",
         "2013",
         "300.52",
         "era5-land",
         "North",
         null
        ],
        [
         "33",
         "2018-08-03 00:00:00",
         "2018",
         "41.87",
         "era5-land",
         "North",
         null
        ],
        [
         "34",
         "2018-08-10 00:00:00",
         "2018",
         "2.96",
         "era5-land",
         "North",
         null
        ],
        [
         "35",
         "2018-06-16 00:00:00",
         "2018",
         "95.77",
         "era5-land",
         "North",
         null
        ],
        [
         "36",
         "2019-07-21 00:00:00",
         "2019",
         "179.1",
         "era5-land",
         "North",
         null
        ],
        [
         "37",
         "2013-07-24 00:00:00",
         "2013",
         "2.82",
         "era5-land",
         "North",
         null
        ],
        [
         "38",
         "2014-07-24 00:00:00",
         "2014",
         "225.18",
         "era5-land",
         "North",
         null
        ],
        [
         "39",
         "2018-06-10 00:00:00",
         "2018",
         "217.83",
         "era5-land",
         "North",
         null
        ],
        [
         "40",
         "2018-07-19 00:00:00",
         "2018",
         "214.83",
         "era5-land",
         "North",
         null
        ],
        [
         "41",
         "2018-07-20 00:00:00",
         "2018",
         "51.43",
         "era5-land",
         "North",
         null
        ],
        [
         "42",
         "2013-07-13 00:00:00",
         "2013",
         "145.96",
         "era5-land",
         "North",
         null
        ],
        [
         "43",
         "2019-06-16 00:00:00",
         "2019",
         "75.28",
         "era5-land",
         "North",
         null
        ],
        [
         "44",
         "2018-06-03 00:00:00",
         "2018",
         "203.78",
         "era5-land",
         "North",
         null
        ],
        [
         "45",
         "2018-07-22 00:00:00",
         "2018",
         "151.29",
         "era5-land",
         "North",
         null
        ],
        [
         "46",
         "2013-07-09 00:00:00",
         "2013",
         "161.83",
         "era5-land",
         "North",
         null
        ],
        [
         "47",
         "2013-08-28 00:00:00",
         "2013",
         "212.36",
         "era5-land",
         "North",
         null
        ],
        [
         "48",
         "2013-07-08 00:00:00",
         "2013",
         "126.67",
         "era5-land",
         "North",
         null
        ],
        [
         "49",
         "2018-07-17 00:00:00",
         "2018",
         "12.47",
         "era5-land",
         "North",
         null
        ]
       ],
       "shape": {
        "columns": 6,
        "rows": 319932
       }
      },
      "text/html": [
       "<div>\n",
       "<style scoped>\n",
       "    .dataframe tbody tr th:only-of-type {\n",
       "        vertical-align: middle;\n",
       "    }\n",
       "\n",
       "    .dataframe tbody tr th {\n",
       "        vertical-align: top;\n",
       "    }\n",
       "\n",
       "    .dataframe thead th {\n",
       "        text-align: right;\n",
       "    }\n",
       "</style>\n",
       "<table border=\"1\" class=\"dataframe\">\n",
       "  <thead>\n",
       "    <tr style=\"text-align: right;\">\n",
       "      <th></th>\n",
       "      <th>date</th>\n",
       "      <th>year</th>\n",
       "      <th>area_ha</th>\n",
       "      <th>scenario</th>\n",
       "      <th>region</th>\n",
       "      <th>period</th>\n",
       "    </tr>\n",
       "  </thead>\n",
       "  <tbody>\n",
       "    <tr>\n",
       "      <th>0</th>\n",
       "      <td>2014-07-30</td>\n",
       "      <td>2014</td>\n",
       "      <td>119.840000</td>\n",
       "      <td>era5-land</td>\n",
       "      <td>North</td>\n",
       "      <td>None</td>\n",
       "    </tr>\n",
       "    <tr>\n",
       "      <th>1</th>\n",
       "      <td>2014-07-10</td>\n",
       "      <td>2014</td>\n",
       "      <td>40.220000</td>\n",
       "      <td>era5-land</td>\n",
       "      <td>North</td>\n",
       "      <td>None</td>\n",
       "    </tr>\n",
       "    <tr>\n",
       "      <th>2</th>\n",
       "      <td>2018-07-16</td>\n",
       "      <td>2018</td>\n",
       "      <td>70.620000</td>\n",
       "      <td>era5-land</td>\n",
       "      <td>North</td>\n",
       "      <td>None</td>\n",
       "    </tr>\n",
       "    <tr>\n",
       "      <th>3</th>\n",
       "      <td>2018-07-12</td>\n",
       "      <td>2018</td>\n",
       "      <td>51.640000</td>\n",
       "      <td>era5-land</td>\n",
       "      <td>North</td>\n",
       "      <td>None</td>\n",
       "    </tr>\n",
       "    <tr>\n",
       "      <th>4</th>\n",
       "      <td>2018-07-19</td>\n",
       "      <td>2018</td>\n",
       "      <td>163.110000</td>\n",
       "      <td>era5-land</td>\n",
       "      <td>North</td>\n",
       "      <td>None</td>\n",
       "    </tr>\n",
       "    <tr>\n",
       "      <th>...</th>\n",
       "      <td>...</td>\n",
       "      <td>...</td>\n",
       "      <td>...</td>\n",
       "      <td>...</td>\n",
       "      <td>...</td>\n",
       "      <td>...</td>\n",
       "    </tr>\n",
       "    <tr>\n",
       "      <th>319927</th>\n",
       "      <td>2046-09-10</td>\n",
       "      <td>2046</td>\n",
       "      <td>159.383907</td>\n",
       "      <td>ssp3</td>\n",
       "      <td>South</td>\n",
       "      <td>2041-2060</td>\n",
       "    </tr>\n",
       "    <tr>\n",
       "      <th>319928</th>\n",
       "      <td>2041-07-29</td>\n",
       "      <td>2041</td>\n",
       "      <td>385.878888</td>\n",
       "      <td>ssp3</td>\n",
       "      <td>South</td>\n",
       "      <td>2041-2060</td>\n",
       "    </tr>\n",
       "    <tr>\n",
       "      <th>319929</th>\n",
       "      <td>2052-08-16</td>\n",
       "      <td>2052</td>\n",
       "      <td>227.578557</td>\n",
       "      <td>ssp3</td>\n",
       "      <td>South</td>\n",
       "      <td>2041-2060</td>\n",
       "    </tr>\n",
       "    <tr>\n",
       "      <th>319930</th>\n",
       "      <td>2048-07-02</td>\n",
       "      <td>2048</td>\n",
       "      <td>97.013923</td>\n",
       "      <td>ssp3</td>\n",
       "      <td>South</td>\n",
       "      <td>2041-2060</td>\n",
       "    </tr>\n",
       "    <tr>\n",
       "      <th>319931</th>\n",
       "      <td>2043-06-15</td>\n",
       "      <td>2043</td>\n",
       "      <td>577.217659</td>\n",
       "      <td>ssp3</td>\n",
       "      <td>South</td>\n",
       "      <td>2041-2060</td>\n",
       "    </tr>\n",
       "  </tbody>\n",
       "</table>\n",
       "<p>319932 rows × 6 columns</p>\n",
       "</div>"
      ],
      "text/plain": [
       "             date  year     area_ha   scenario region     period\n",
       "0      2014-07-30  2014  119.840000  era5-land  North       None\n",
       "1      2014-07-10  2014   40.220000  era5-land  North       None\n",
       "2      2018-07-16  2018   70.620000  era5-land  North       None\n",
       "3      2018-07-12  2018   51.640000  era5-land  North       None\n",
       "4      2018-07-19  2018  163.110000  era5-land  North       None\n",
       "...           ...   ...         ...        ...    ...        ...\n",
       "319927 2046-09-10  2046  159.383907       ssp3  South  2041-2060\n",
       "319928 2041-07-29  2041  385.878888       ssp3  South  2041-2060\n",
       "319929 2052-08-16  2052  227.578557       ssp3  South  2041-2060\n",
       "319930 2048-07-02  2048   97.013923       ssp3  South  2041-2060\n",
       "319931 2043-06-15  2043  577.217659       ssp3  South  2041-2060\n",
       "\n",
       "[319932 rows x 6 columns]"
      ]
     },
     "execution_count": 65,
     "metadata": {},
     "output_type": "execute_result"
    }
   ],
   "source": [
    "all_fires_regions_scenarios['period'] = None\n",
    "all_fires_regions_scenarios.loc[(all_fires_regions_scenarios['year'] >= 1991) & (all_fires_regions_scenarios['year'] <= 2010), 'period'] = '1991-2010'\n",
    "all_fires_regions_scenarios.loc[(all_fires_regions_scenarios['year'] >= 2021) & (all_fires_regions_scenarios['year'] <= 2040), 'period'] = '2021-2040'\n",
    "all_fires_regions_scenarios.loc[(all_fires_regions_scenarios['year'] >= 2041) & (all_fires_regions_scenarios['year'] <= 2060), 'period'] = '2041-2060'\n",
    "all_fires_regions_scenarios.loc[(all_fires_regions_scenarios['year'] >= 2061) & (all_fires_regions_scenarios['year'] <= 2080), 'period'] = '2061-2080'\n",
    "all_fires_regions_scenarios.loc[(all_fires_regions_scenarios['year'] >= 2081) & (all_fires_regions_scenarios['year'] <= 2100), 'period'] = '2081-2100'\n",
    "\n",
    "all_fires_regions_scenarios"
   ]
  },
  {
   "cell_type": "code",
   "execution_count": 66,
   "id": "1e9ffc7d",
   "metadata": {},
   "outputs": [
    {
     "data": {
      "application/vnd.microsoft.datawrangler.viewer.v0+json": {
       "columns": [
        {
         "name": "index",
         "rawType": "int64",
         "type": "integer"
        },
        {
         "name": "year",
         "rawType": "int32",
         "type": "integer"
        },
        {
         "name": "scenario",
         "rawType": "object",
         "type": "string"
        },
        {
         "name": "period",
         "rawType": "object",
         "type": "string"
        },
        {
         "name": "region",
         "rawType": "object",
         "type": "string"
        },
        {
         "name": "area_ha",
         "rawType": "float64",
         "type": "float"
        },
        {
         "name": "area_km2",
         "rawType": "float64",
         "type": "float"
        }
       ],
       "ref": "a73a2eac-69d1-4143-a441-f635944b0a2a",
       "rows": [
        [
         "0",
         "2008",
         "era5-land",
         "1991-2010",
         "Central",
         "78734.99",
         "787.3499"
        ],
        [
         "1",
         "2008",
         "era5-land",
         "1991-2010",
         "South",
         "317413.99",
         "3174.1399"
        ],
        [
         "2",
         "2009",
         "era5-land",
         "1991-2010",
         "Central",
         "47763.02",
         "477.63019999999995"
        ],
        [
         "3",
         "2009",
         "era5-land",
         "1991-2010",
         "South",
         "336075.05",
         "3360.7505"
        ],
        [
         "4",
         "2010",
         "era5-land",
         "1991-2010",
         "Central",
         "25885.53",
         "258.8553"
        ],
        [
         "5",
         "2010",
         "era5-land",
         "1991-2010",
         "South",
         "216383.36",
         "2163.8336"
        ],
        [
         "6",
         "2021",
         "ssp1",
         "2021-2040",
         "Central",
         "55155.721655526824",
         "551.5572165552683"
        ],
        [
         "7",
         "2021",
         "ssp1",
         "2021-2040",
         "South",
         "341384.0",
         "3413.84"
        ],
        [
         "8",
         "2021",
         "ssp2",
         "2021-2040",
         "Central",
         "61531.737122388215",
         "615.3173712238821"
        ],
        [
         "9",
         "2021",
         "ssp2",
         "2021-2040",
         "North",
         "170.67033324059116",
         "1.7067033324059115"
        ],
        [
         "10",
         "2021",
         "ssp2",
         "2021-2040",
         "South",
         "347696.27115382336",
         "3476.9627115382336"
        ],
        [
         "11",
         "2021",
         "ssp3",
         "2021-2040",
         "Central",
         "83147.83146391799",
         "831.4783146391799"
        ],
        [
         "12",
         "2021",
         "ssp3",
         "2021-2040",
         "North",
         "471.1835234624116",
         "4.7118352346241155"
        ],
        [
         "13",
         "2021",
         "ssp3",
         "2021-2040",
         "South",
         "375000.4705702669",
         "3750.004705702669"
        ],
        [
         "14",
         "2022",
         "ssp1",
         "2021-2040",
         "Central",
         "6418.14322473063",
         "64.1814322473063"
        ],
        [
         "15",
         "2022",
         "ssp1",
         "2021-2040",
         "North",
         "13952.271106200174",
         "139.52271106200175"
        ],
        [
         "16",
         "2022",
         "ssp1",
         "2021-2040",
         "South",
         "407949.0",
         "4079.49"
        ],
        [
         "17",
         "2022",
         "ssp2",
         "2021-2040",
         "Central",
         "32111.816896157576",
         "321.11816896157575"
        ],
        [
         "18",
         "2022",
         "ssp2",
         "2021-2040",
         "North",
         "1954.4622870368908",
         "19.544622870368908"
        ],
        [
         "19",
         "2022",
         "ssp2",
         "2021-2040",
         "South",
         "338439.5142747787",
         "3384.3951427477873"
        ],
        [
         "20",
         "2022",
         "ssp3",
         "2021-2040",
         "Central",
         "70277.45656476768",
         "702.7745656476768"
        ],
        [
         "21",
         "2022",
         "ssp3",
         "2021-2040",
         "North",
         "2799.495584468633",
         "27.994955844686327"
        ],
        [
         "22",
         "2022",
         "ssp3",
         "2021-2040",
         "South",
         "407154.1208639095",
         "4071.5412086390947"
        ],
        [
         "23",
         "2023",
         "ssp1",
         "2021-2040",
         "Central",
         "38711.17985400723",
         "387.11179854007224"
        ],
        [
         "24",
         "2023",
         "ssp1",
         "2021-2040",
         "North",
         "15935.204257344481",
         "159.3520425734448"
        ],
        [
         "25",
         "2023",
         "ssp1",
         "2021-2040",
         "South",
         "191408.0",
         "1914.08"
        ],
        [
         "26",
         "2023",
         "ssp2",
         "2021-2040",
         "Central",
         "52788.19124272003",
         "527.8819124272003"
        ],
        [
         "27",
         "2023",
         "ssp2",
         "2021-2040",
         "North",
         "9884.334642406813",
         "98.84334642406813"
        ],
        [
         "28",
         "2023",
         "ssp2",
         "2021-2040",
         "South",
         "234984.54510121382",
         "2349.8454510121383"
        ],
        [
         "29",
         "2023",
         "ssp3",
         "2021-2040",
         "Central",
         "77257.03340147868",
         "772.5703340147868"
        ],
        [
         "30",
         "2023",
         "ssp3",
         "2021-2040",
         "North",
         "12948.915734278964",
         "129.48915734278964"
        ],
        [
         "31",
         "2023",
         "ssp3",
         "2021-2040",
         "South",
         "228192.83494382998",
         "2281.9283494383"
        ],
        [
         "32",
         "2024",
         "ssp1",
         "2021-2040",
         "Central",
         "48524.701412857314",
         "485.24701412857314"
        ],
        [
         "33",
         "2024",
         "ssp1",
         "2021-2040",
         "South",
         "328038.0",
         "3280.38"
        ],
        [
         "34",
         "2024",
         "ssp2",
         "2021-2040",
         "Central",
         "59491.54331394514",
         "594.9154331394515"
        ],
        [
         "35",
         "2024",
         "ssp2",
         "2021-2040",
         "North",
         "5652.545482381971",
         "56.52545482381971"
        ],
        [
         "36",
         "2024",
         "ssp2",
         "2021-2040",
         "South",
         "305155.1239615588",
         "3051.551239615588"
        ],
        [
         "37",
         "2024",
         "ssp3",
         "2021-2040",
         "Central",
         "80062.40090349397",
         "800.6240090349397"
        ],
        [
         "38",
         "2024",
         "ssp3",
         "2021-2040",
         "North",
         "5026.677971193404",
         "50.26677971193404"
        ],
        [
         "39",
         "2024",
         "ssp3",
         "2021-2040",
         "South",
         "383563.945936528",
         "3835.63945936528"
        ],
        [
         "40",
         "2025",
         "ssp1",
         "2021-2040",
         "Central",
         "64782.64235598445",
         "647.8264235598444"
        ],
        [
         "41",
         "2025",
         "ssp1",
         "2021-2040",
         "North",
         "430.4819969609923",
         "4.304819969609923"
        ],
        [
         "42",
         "2025",
         "ssp1",
         "2021-2040",
         "South",
         "340341.0",
         "3403.41"
        ],
        [
         "43",
         "2025",
         "ssp2",
         "2021-2040",
         "Central",
         "75904.09729456523",
         "759.0409729456524"
        ],
        [
         "44",
         "2025",
         "ssp2",
         "2021-2040",
         "North",
         "1307.7698316823771",
         "13.07769831682377"
        ],
        [
         "45",
         "2025",
         "ssp2",
         "2021-2040",
         "South",
         "383819.86945202545",
         "3838.1986945202543"
        ],
        [
         "46",
         "2025",
         "ssp3",
         "2021-2040",
         "Central",
         "104228.02938496298",
         "1042.2802938496297"
        ],
        [
         "47",
         "2025",
         "ssp3",
         "2021-2040",
         "North",
         "885.5218198032045",
         "8.855218198032045"
        ],
        [
         "48",
         "2025",
         "ssp3",
         "2021-2040",
         "South",
         "387860.00710233283",
         "3878.6000710233284"
        ],
        [
         "49",
         "2026",
         "ssp1",
         "2021-2040",
         "Central",
         "91021.61536765087",
         "910.2161536765087"
        ]
       ],
       "shape": {
        "columns": 6,
        "rows": 672
       }
      },
      "text/html": [
       "<div>\n",
       "<style scoped>\n",
       "    .dataframe tbody tr th:only-of-type {\n",
       "        vertical-align: middle;\n",
       "    }\n",
       "\n",
       "    .dataframe tbody tr th {\n",
       "        vertical-align: top;\n",
       "    }\n",
       "\n",
       "    .dataframe thead th {\n",
       "        text-align: right;\n",
       "    }\n",
       "</style>\n",
       "<table border=\"1\" class=\"dataframe\">\n",
       "  <thead>\n",
       "    <tr style=\"text-align: right;\">\n",
       "      <th></th>\n",
       "      <th>year</th>\n",
       "      <th>scenario</th>\n",
       "      <th>period</th>\n",
       "      <th>region</th>\n",
       "      <th>area_ha</th>\n",
       "      <th>area_km2</th>\n",
       "    </tr>\n",
       "  </thead>\n",
       "  <tbody>\n",
       "    <tr>\n",
       "      <th>0</th>\n",
       "      <td>2008</td>\n",
       "      <td>era5-land</td>\n",
       "      <td>1991-2010</td>\n",
       "      <td>Central</td>\n",
       "      <td>78734.990000</td>\n",
       "      <td>787.349900</td>\n",
       "    </tr>\n",
       "    <tr>\n",
       "      <th>1</th>\n",
       "      <td>2008</td>\n",
       "      <td>era5-land</td>\n",
       "      <td>1991-2010</td>\n",
       "      <td>South</td>\n",
       "      <td>317413.990000</td>\n",
       "      <td>3174.139900</td>\n",
       "    </tr>\n",
       "    <tr>\n",
       "      <th>2</th>\n",
       "      <td>2009</td>\n",
       "      <td>era5-land</td>\n",
       "      <td>1991-2010</td>\n",
       "      <td>Central</td>\n",
       "      <td>47763.020000</td>\n",
       "      <td>477.630200</td>\n",
       "    </tr>\n",
       "    <tr>\n",
       "      <th>3</th>\n",
       "      <td>2009</td>\n",
       "      <td>era5-land</td>\n",
       "      <td>1991-2010</td>\n",
       "      <td>South</td>\n",
       "      <td>336075.050000</td>\n",
       "      <td>3360.750500</td>\n",
       "    </tr>\n",
       "    <tr>\n",
       "      <th>4</th>\n",
       "      <td>2010</td>\n",
       "      <td>era5-land</td>\n",
       "      <td>1991-2010</td>\n",
       "      <td>Central</td>\n",
       "      <td>25885.530000</td>\n",
       "      <td>258.855300</td>\n",
       "    </tr>\n",
       "    <tr>\n",
       "      <th>...</th>\n",
       "      <td>...</td>\n",
       "      <td>...</td>\n",
       "      <td>...</td>\n",
       "      <td>...</td>\n",
       "      <td>...</td>\n",
       "      <td>...</td>\n",
       "    </tr>\n",
       "    <tr>\n",
       "      <th>667</th>\n",
       "      <td>2100</td>\n",
       "      <td>ssp2</td>\n",
       "      <td>2081-2100</td>\n",
       "      <td>North</td>\n",
       "      <td>8550.075884</td>\n",
       "      <td>85.500759</td>\n",
       "    </tr>\n",
       "    <tr>\n",
       "      <th>668</th>\n",
       "      <td>2100</td>\n",
       "      <td>ssp2</td>\n",
       "      <td>2081-2100</td>\n",
       "      <td>South</td>\n",
       "      <td>644699.757294</td>\n",
       "      <td>6446.997573</td>\n",
       "    </tr>\n",
       "    <tr>\n",
       "      <th>669</th>\n",
       "      <td>2100</td>\n",
       "      <td>ssp3</td>\n",
       "      <td>2081-2100</td>\n",
       "      <td>Central</td>\n",
       "      <td>109514.150000</td>\n",
       "      <td>1095.141500</td>\n",
       "    </tr>\n",
       "    <tr>\n",
       "      <th>670</th>\n",
       "      <td>2100</td>\n",
       "      <td>ssp3</td>\n",
       "      <td>2081-2100</td>\n",
       "      <td>North</td>\n",
       "      <td>8285.820000</td>\n",
       "      <td>82.858200</td>\n",
       "    </tr>\n",
       "    <tr>\n",
       "      <th>671</th>\n",
       "      <td>2100</td>\n",
       "      <td>ssp3</td>\n",
       "      <td>2081-2100</td>\n",
       "      <td>South</td>\n",
       "      <td>699888.010000</td>\n",
       "      <td>6998.880100</td>\n",
       "    </tr>\n",
       "  </tbody>\n",
       "</table>\n",
       "<p>672 rows × 6 columns</p>\n",
       "</div>"
      ],
      "text/plain": [
       "     year   scenario     period   region        area_ha     area_km2\n",
       "0    2008  era5-land  1991-2010  Central   78734.990000   787.349900\n",
       "1    2008  era5-land  1991-2010    South  317413.990000  3174.139900\n",
       "2    2009  era5-land  1991-2010  Central   47763.020000   477.630200\n",
       "3    2009  era5-land  1991-2010    South  336075.050000  3360.750500\n",
       "4    2010  era5-land  1991-2010  Central   25885.530000   258.855300\n",
       "..    ...        ...        ...      ...            ...          ...\n",
       "667  2100       ssp2  2081-2100    North    8550.075884    85.500759\n",
       "668  2100       ssp2  2081-2100    South  644699.757294  6446.997573\n",
       "669  2100       ssp3  2081-2100  Central  109514.150000  1095.141500\n",
       "670  2100       ssp3  2081-2100    North    8285.820000    82.858200\n",
       "671  2100       ssp3  2081-2100    South  699888.010000  6998.880100\n",
       "\n",
       "[672 rows x 6 columns]"
      ]
     },
     "execution_count": 66,
     "metadata": {},
     "output_type": "execute_result"
    }
   ],
   "source": [
    "# group them by year and scenario\n",
    "all_fires_scenarios = all_fires_regions_scenarios.groupby(['year', 'scenario', 'period', 'region'])['area_ha'].sum().reset_index()\n",
    "all_fires_scenarios['area_km2'] = all_fires_scenarios['area_ha'] / 100  # Convert to km²\n",
    "all_fires_scenarios"
   ]
  },
  {
   "cell_type": "code",
   "execution_count": 72,
   "id": "833c9090",
   "metadata": {},
   "outputs": [
    {
     "data": {
      "image/png": "[encoded data removed]",
      "text/plain": [
       "<Figure size 1000x400 with 1 Axes>"
      ]
     },
     "metadata": {},
     "output_type": "display_data"
    }
   ],
   "source": [
    "# Filter scenarios\n",
    "\n",
    "total_ssp1 = all_fires_scenarios[all_fires_scenarios['scenario'] == 'ssp1']\n",
    "total_ssp2 = all_fires_scenarios[all_fires_scenarios['scenario'] == 'ssp2']\n",
    "total_ssp3 = all_fires_scenarios[all_fires_scenarios['scenario'] == 'ssp3']\n",
    "\n",
    "# Group and compute mean burned area per period\n",
    "ssp1_means = total_ssp1.groupby('period')['area_km2'].sum().reindex(['2021-2040', '2041-2060', '2061-2080', '2081-2100'])\n",
    "ssp2_means = total_ssp2.groupby('period')['area_km2'].sum().reindex(['2021-2040', '2041-2060', '2061-2080', '2081-2100'])\n",
    "ssp3_means = total_ssp3.groupby('period')['area_km2'].sum().reindex(['2021-2040', '2041-2060', '2061-2080', '2081-2100'])\n",
    "# Plot\n",
    "fig, ax = plt.subplots(figsize=(10, 4))\n",
    "\n",
    "periods = ['2021-2040', '2041-2060', '2061-2080', '2081-2100']\n",
    "ax.plot(periods, ssp1_means, color='#16610E', marker='o', linestyle='-', linewidth=2, markersize=8, label='SSP1')\n",
    "ax.plot(periods, ssp2_means, color='#F5C45E', marker='o', linestyle='-', linewidth=2, markersize=8, label='SSP2')\n",
    "ax.plot(periods, ssp3_means, color='#A52A2A', marker='o', linestyle='-', linewidth=2, markersize=8, label='SSP3')\n",
    "\n",
    "\n",
    "# Labels and title\n",
    "ax.set_xlabel('Period', fontsize=12)\n",
    "ax.set_ylabel('Burned Area (km²)', fontsize=12)\n",
    "ax.set_title('Sum of Burned Area per 20-Year Period', fontsize=14)\n",
    "ax.legend()\n",
    "ax.grid(axis='y', alpha=0.5)\n",
    "\n",
    "plt.tight_layout()\n",
    "plt.show()"
   ]
  },
  {
   "cell_type": "code",
   "execution_count": 68,
   "id": "e3ac4a51",
   "metadata": {},
   "outputs": [
    {
     "data": {
      "application/vnd.microsoft.datawrangler.viewer.v0+json": {
       "columns": [
        {
         "name": "index",
         "rawType": "int64",
         "type": "integer"
        },
        {
         "name": "date",
         "rawType": "datetime64[ns]",
         "type": "datetime"
        },
        {
         "name": "year",
         "rawType": "int32",
         "type": "integer"
        },
        {
         "name": "area_ha",
         "rawType": "float64",
         "type": "float"
        },
        {
         "name": "scenario",
         "rawType": "object",
         "type": "string"
        },
        {
         "name": "region",
         "rawType": "object",
         "type": "string"
        },
        {
         "name": "period",
         "rawType": "object",
         "type": "unknown"
        }
       ],
       "ref": "2ead82a3-1a07-406d-848f-70c5aad310ae",
       "rows": [
        [
         "0",
         "2014-07-30 00:00:00",
         "2014",
         "119.84",
         "era5-land",
         "North",
         null
        ],
        [
         "1",
         "2014-07-10 00:00:00",
         "2014",
         "40.22",
         "era5-land",
         "North",
         null
        ],
        [
         "2",
         "2018-07-16 00:00:00",
         "2018",
         "70.62",
         "era5-land",
         "North",
         null
        ],
        [
         "3",
         "2018-07-12 00:00:00",
         "2018",
         "51.64",
         "era5-land",
         "North",
         null
        ],
        [
         "4",
         "2018-07-19 00:00:00",
         "2018",
         "163.11",
         "era5-land",
         "North",
         null
        ],
        [
         "5",
         "2019-07-27 00:00:00",
         "2019",
         "246.72",
         "era5-land",
         "North",
         null
        ],
        [
         "6",
         "2018-07-17 00:00:00",
         "2018",
         "55.49",
         "era5-land",
         "North",
         null
        ],
        [
         "7",
         "2018-06-20 00:00:00",
         "2018",
         "240.1",
         "era5-land",
         "North",
         null
        ],
        [
         "8",
         "2018-06-30 00:00:00",
         "2018",
         "75.98",
         "era5-land",
         "North",
         null
        ],
        [
         "9",
         "2018-06-09 00:00:00",
         "2018",
         "88.68",
         "era5-land",
         "North",
         null
        ],
        [
         "10",
         "2014-07-21 00:00:00",
         "2014",
         "126.13",
         "era5-land",
         "North",
         null
        ],
        [
         "11",
         "2018-07-23 00:00:00",
         "2018",
         "279.82",
         "era5-land",
         "North",
         null
        ],
        [
         "12",
         "2018-07-17 00:00:00",
         "2018",
         "174.85",
         "era5-land",
         "North",
         null
        ],
        [
         "13",
         "2018-07-15 00:00:00",
         "2018",
         "151.01",
         "era5-land",
         "North",
         null
        ],
        [
         "14",
         "2013-07-25 00:00:00",
         "2013",
         "37.1",
         "era5-land",
         "North",
         null
        ],
        [
         "15",
         "2018-07-18 00:00:00",
         "2018",
         "315.74",
         "era5-land",
         "North",
         null
        ],
        [
         "16",
         "2014-06-02 00:00:00",
         "2014",
         "85.93",
         "era5-land",
         "North",
         null
        ],
        [
         "17",
         "2018-07-09 00:00:00",
         "2018",
         "130.52",
         "era5-land",
         "North",
         null
        ],
        [
         "18",
         "2013-08-06 00:00:00",
         "2013",
         "105.55",
         "era5-land",
         "North",
         null
        ],
        [
         "19",
         "2014-08-04 00:00:00",
         "2014",
         "63.85",
         "era5-land",
         "North",
         null
        ],
        [
         "20",
         "2019-08-02 00:00:00",
         "2019",
         "48.68",
         "era5-land",
         "North",
         null
        ],
        [
         "21",
         "2014-06-05 00:00:00",
         "2014",
         "346.62",
         "era5-land",
         "North",
         null
        ],
        [
         "22",
         "2018-06-03 00:00:00",
         "2018",
         "236.47",
         "era5-land",
         "North",
         null
        ],
        [
         "23",
         "2018-07-13 00:00:00",
         "2018",
         "120.57",
         "era5-land",
         "North",
         null
        ],
        [
         "24",
         "2018-06-01 00:00:00",
         "2018",
         "35.09",
         "era5-land",
         "North",
         null
        ],
        [
         "25",
         "2019-06-28 00:00:00",
         "2019",
         "138.04",
         "era5-land",
         "North",
         null
        ],
        [
         "26",
         "2018-06-05 00:00:00",
         "2018",
         "104.91",
         "era5-land",
         "North",
         null
        ],
        [
         "27",
         "2013-06-07 00:00:00",
         "2013",
         "86.96",
         "era5-land",
         "North",
         null
        ],
        [
         "28",
         "2018-07-27 00:00:00",
         "2018",
         "383.51",
         "era5-land",
         "North",
         null
        ],
        [
         "29",
         "2018-07-16 00:00:00",
         "2018",
         "232.67",
         "era5-land",
         "North",
         null
        ],
        [
         "30",
         "2018-07-07 00:00:00",
         "2018",
         "136.2",
         "era5-land",
         "North",
         null
        ],
        [
         "31",
         "2013-06-01 00:00:00",
         "2013",
         "84.12",
         "era5-land",
         "North",
         null
        ],
        [
         "32",
         "2013-07-27 00:00:00",
         "2013",
         "300.52",
         "era5-land",
         "North",
         null
        ],
        [
         "33",
         "2018-08-03 00:00:00",
         "2018",
         "41.87",
         "era5-land",
         "North",
         null
        ],
        [
         "34",
         "2018-08-10 00:00:00",
         "2018",
         "2.96",
         "era5-land",
         "North",
         null
        ],
        [
         "35",
         "2018-06-16 00:00:00",
         "2018",
         "95.77",
         "era5-land",
         "North",
         null
        ],
        [
         "36",
         "2019-07-21 00:00:00",
         "2019",
         "179.1",
         "era5-land",
         "North",
         null
        ],
        [
         "37",
         "2013-07-24 00:00:00",
         "2013",
         "2.82",
         "era5-land",
         "North",
         null
        ],
        [
         "38",
         "2014-07-24 00:00:00",
         "2014",
         "225.18",
         "era5-land",
         "North",
         null
        ],
        [
         "39",
         "2018-06-10 00:00:00",
         "2018",
         "217.83",
         "era5-land",
         "North",
         null
        ],
        [
         "40",
         "2018-07-19 00:00:00",
         "2018",
         "214.83",
         "era5-land",
         "North",
         null
        ],
        [
         "41",
         "2018-07-20 00:00:00",
         "2018",
         "51.43",
         "era5-land",
         "North",
         null
        ],
        [
         "42",
         "2013-07-13 00:00:00",
         "2013",
         "145.96",
         "era5-land",
         "North",
         null
        ],
        [
         "43",
         "2019-06-16 00:00:00",
         "2019",
         "75.28",
         "era5-land",
         "North",
         null
        ],
        [
         "44",
         "2018-06-03 00:00:00",
         "2018",
         "203.78",
         "era5-land",
         "North",
         null
        ],
        [
         "45",
         "2018-07-22 00:00:00",
         "2018",
         "151.29",
         "era5-land",
         "North",
         null
        ],
        [
         "46",
         "2013-07-09 00:00:00",
         "2013",
         "161.83",
         "era5-land",
         "North",
         null
        ],
        [
         "47",
         "2013-08-28 00:00:00",
         "2013",
         "212.36",
         "era5-land",
         "North",
         null
        ],
        [
         "48",
         "2013-07-08 00:00:00",
         "2013",
         "126.67",
         "era5-land",
         "North",
         null
        ],
        [
         "49",
         "2018-07-17 00:00:00",
         "2018",
         "12.47",
         "era5-land",
         "North",
         null
        ]
       ],
       "shape": {
        "columns": 6,
        "rows": 319932
       }
      },
      "text/html": [
       "<div>\n",
       "<style scoped>\n",
       "    .dataframe tbody tr th:only-of-type {\n",
       "        vertical-align: middle;\n",
       "    }\n",
       "\n",
       "    .dataframe tbody tr th {\n",
       "        vertical-align: top;\n",
       "    }\n",
       "\n",
       "    .dataframe thead th {\n",
       "        text-align: right;\n",
       "    }\n",
       "</style>\n",
       "<table border=\"1\" class=\"dataframe\">\n",
       "  <thead>\n",
       "    <tr style=\"text-align: right;\">\n",
       "      <th></th>\n",
       "      <th>date</th>\n",
       "      <th>year</th>\n",
       "      <th>area_ha</th>\n",
       "      <th>scenario</th>\n",
       "      <th>region</th>\n",
       "      <th>period</th>\n",
       "    </tr>\n",
       "  </thead>\n",
       "  <tbody>\n",
       "    <tr>\n",
       "      <th>0</th>\n",
       "      <td>2014-07-30</td>\n",
       "      <td>2014</td>\n",
       "      <td>119.840000</td>\n",
       "      <td>era5-land</td>\n",
       "      <td>North</td>\n",
       "      <td>None</td>\n",
       "    </tr>\n",
       "    <tr>\n",
       "      <th>1</th>\n",
       "      <td>2014-07-10</td>\n",
       "      <td>2014</td>\n",
       "      <td>40.220000</td>\n",
       "      <td>era5-land</td>\n",
       "      <td>North</td>\n",
       "      <td>None</td>\n",
       "    </tr>\n",
       "    <tr>\n",
       "      <th>2</th>\n",
       "      <td>2018-07-16</td>\n",
       "      <td>2018</td>\n",
       "      <td>70.620000</td>\n",
       "      <td>era5-land</td>\n",
       "      <td>North</td>\n",
       "      <td>None</td>\n",
       "    </tr>\n",
       "    <tr>\n",
       "      <th>3</th>\n",
       "      <td>2018-07-12</td>\n",
       "      <td>2018</td>\n",
       "      <td>51.640000</td>\n",
       "      <td>era5-land</td>\n",
       "      <td>North</td>\n",
       "      <td>None</td>\n",
       "    </tr>\n",
       "    <tr>\n",
       "      <th>4</th>\n",
       "      <td>2018-07-19</td>\n",
       "      <td>2018</td>\n",
       "      <td>163.110000</td>\n",
       "      <td>era5-land</td>\n",
       "      <td>North</td>\n",
       "      <td>None</td>\n",
       "    </tr>\n",
       "    <tr>\n",
       "      <th>...</th>\n",
       "      <td>...</td>\n",
       "      <td>...</td>\n",
       "      <td>...</td>\n",
       "      <td>...</td>\n",
       "      <td>...</td>\n",
       "      <td>...</td>\n",
       "    </tr>\n",
       "    <tr>\n",
       "      <th>319927</th>\n",
       "      <td>2046-09-10</td>\n",
       "      <td>2046</td>\n",
       "      <td>159.383907</td>\n",
       "      <td>ssp3</td>\n",
       "      <td>South</td>\n",
       "      <td>2041-2060</td>\n",
       "    </tr>\n",
       "    <tr>\n",
       "      <th>319928</th>\n",
       "      <td>2041-07-29</td>\n",
       "      <td>2041</td>\n",
       "      <td>385.878888</td>\n",
       "      <td>ssp3</td>\n",
       "      <td>South</td>\n",
       "      <td>2041-2060</td>\n",
       "    </tr>\n",
       "    <tr>\n",
       "      <th>319929</th>\n",
       "      <td>2052-08-16</td>\n",
       "      <td>2052</td>\n",
       "      <td>227.578557</td>\n",
       "      <td>ssp3</td>\n",
       "      <td>South</td>\n",
       "      <td>2041-2060</td>\n",
       "    </tr>\n",
       "    <tr>\n",
       "      <th>319930</th>\n",
       "      <td>2048-07-02</td>\n",
       "      <td>2048</td>\n",
       "      <td>97.013923</td>\n",
       "      <td>ssp3</td>\n",
       "      <td>South</td>\n",
       "      <td>2041-2060</td>\n",
       "    </tr>\n",
       "    <tr>\n",
       "      <th>319931</th>\n",
       "      <td>2043-06-15</td>\n",
       "      <td>2043</td>\n",
       "      <td>577.217659</td>\n",
       "      <td>ssp3</td>\n",
       "      <td>South</td>\n",
       "      <td>2041-2060</td>\n",
       "    </tr>\n",
       "  </tbody>\n",
       "</table>\n",
       "<p>319932 rows × 6 columns</p>\n",
       "</div>"
      ],
      "text/plain": [
       "             date  year     area_ha   scenario region     period\n",
       "0      2014-07-30  2014  119.840000  era5-land  North       None\n",
       "1      2014-07-10  2014   40.220000  era5-land  North       None\n",
       "2      2018-07-16  2018   70.620000  era5-land  North       None\n",
       "3      2018-07-12  2018   51.640000  era5-land  North       None\n",
       "4      2018-07-19  2018  163.110000  era5-land  North       None\n",
       "...           ...   ...         ...        ...    ...        ...\n",
       "319927 2046-09-10  2046  159.383907       ssp3  South  2041-2060\n",
       "319928 2041-07-29  2041  385.878888       ssp3  South  2041-2060\n",
       "319929 2052-08-16  2052  227.578557       ssp3  South  2041-2060\n",
       "319930 2048-07-02  2048   97.013923       ssp3  South  2041-2060\n",
       "319931 2043-06-15  2043  577.217659       ssp3  South  2041-2060\n",
       "\n",
       "[319932 rows x 6 columns]"
      ]
     },
     "execution_count": 68,
     "metadata": {},
     "output_type": "execute_result"
    }
   ],
   "source": [
    "all_fires_regions_scenarios"
   ]
  },
  {
   "cell_type": "code",
   "execution_count": 73,
   "id": "a27379c2",
   "metadata": {},
   "outputs": [
    {
     "name": "stderr",
     "output_type": "stream",
     "text": [
      "C:\\Users\\jsoma\\AppData\\Local\\Temp\\ipykernel_18628\\3770567311.py:2: SettingWithCopyWarning: \n",
      "A value is trying to be set on a copy of a slice from a DataFrame\n",
      "\n",
      "See the caveats in the documentation: https://pandas.pydata.org/pandas-docs/stable/user_guide/indexing.html#returning-a-view-versus-a-copy\n",
      "  historical.sort_values(by='date', inplace=True)\n",
      "C:\\Users\\jsoma\\AppData\\Local\\Temp\\ipykernel_18628\\3770567311.py:4: SettingWithCopyWarning: \n",
      "A value is trying to be set on a copy of a slice from a DataFrame\n",
      "\n",
      "See the caveats in the documentation: https://pandas.pydata.org/pandas-docs/stable/user_guide/indexing.html#returning-a-view-versus-a-copy\n",
      "  ssp1.sort_values(by='date', inplace=True)\n",
      "C:\\Users\\jsoma\\AppData\\Local\\Temp\\ipykernel_18628\\3770567311.py:6: SettingWithCopyWarning: \n",
      "A value is trying to be set on a copy of a slice from a DataFrame\n",
      "\n",
      "See the caveats in the documentation: https://pandas.pydata.org/pandas-docs/stable/user_guide/indexing.html#returning-a-view-versus-a-copy\n",
      "  ssp2.sort_values(by='date', inplace=True)\n",
      "C:\\Users\\jsoma\\AppData\\Local\\Temp\\ipykernel_18628\\3770567311.py:8: SettingWithCopyWarning: \n",
      "A value is trying to be set on a copy of a slice from a DataFrame\n",
      "\n",
      "See the caveats in the documentation: https://pandas.pydata.org/pandas-docs/stable/user_guide/indexing.html#returning-a-view-versus-a-copy\n",
      "  ssp3.sort_values(by='date', inplace=True)\n"
     ]
    },
    {
     "data": {
      "image/png": "[encoded data removed]",
      "text/plain": [
       "<Figure size 1000x400 with 1 Axes>"
      ]
     },
     "metadata": {},
     "output_type": "display_data"
    }
   ],
   "source": [
    "historical = all_fires_regions_scenarios[all_fires_regions_scenarios['scenario'] == 'era5-land']\n",
    "historical.sort_values(by='date', inplace=True)\n",
    "ssp1 = all_fires_regions_scenarios[all_fires_regions_scenarios['scenario'] == 'ssp1']\n",
    "ssp1.sort_values(by='date', inplace=True)\n",
    "ssp2 = all_fires_regions_scenarios[all_fires_regions_scenarios['scenario'] == 'ssp2']\n",
    "ssp2.sort_values(by='date', inplace=True)\n",
    "ssp3 = all_fires_regions_scenarios[all_fires_regions_scenarios['scenario'] == 'ssp3']\n",
    "ssp3.sort_values(by='date', inplace=True)\n",
    "\n",
    "# sum all the area by year\n",
    "historical_yearly = historical.groupby('year')['area_ha'].sum().reset_index()\n",
    "historical_yearly['area_km2'] = historical_yearly['area_ha'] / 100  # Convert to km²\n",
    "ssp1_yearly = ssp1.groupby('year')['area_ha'].sum().reset_index()\n",
    "ssp1_yearly['area_km2'] = ssp1_yearly['area_ha'] / 100  # Convert to km²\n",
    "ssp2_yearly = ssp2.groupby('year')['area_ha'].sum().reset_index()\n",
    "ssp2_yearly['area_km2'] = ssp2_yearly['area_ha'] / 100  # Convert to km²\n",
    "ssp3_yearly = ssp3.groupby('year')['area_ha'].sum().reset_index()\n",
    "ssp3_yearly['area_km2'] = ssp3_yearly['area_ha'] / 100  # Convert to km²\n",
    "\n",
    "bar_width = 1\n",
    "\n",
    "# plot the yearly data\n",
    "fig, ax = plt.subplots(figsize=(10, 4))\n",
    "# Plot lines\n",
    "# ax.plot(historical_yearly['year'], historical_yearly['area_km2'], color='#000000', linestyle='-', linewidth=2, markersize=5, label='Era5-Land')\n",
    "ax.plot(ssp1_yearly['year'], ssp1_yearly['area_km2'], color='#16610E', linestyle='-', linewidth=2, markersize=5, label='ssp1')\n",
    "ax.plot(ssp2_yearly['year'], ssp2_yearly['area_km2'], color='#F5C45E', linestyle='-', linewidth=2, markersize=5, label='ssp2')\n",
    "ax.plot(ssp3_yearly['year'], ssp3_yearly['area_km2'], color='#A52A2A', linestyle='-', linewidth=2, markersize=5, label='ssp3')\n",
    "\n",
    "# Labels and title\n",
    "ax.set_xlabel('Year', fontsize=12)\n",
    "ax.set_ylabel('Burned Area (km²)', fontsize=12)\n",
    "ax.set_title('Burned Area per Year', fontsize=14)\n",
    "ax.legend()\n",
    "ax.grid(axis='y', alpha=0.5)\n",
    "\n",
    "plt.tight_layout()\n",
    "plt.show()"
   ]
  }
 ],
 "metadata": {
  "kernelspec": {
   "display_name": "base",
   "language": "python",
   "name": "python3"
  },
  "language_info": {
   "codemirror_mode": {
    "name": "ipython",
    "version": 3
   },
   "file_extension": ".py",
   "mimetype": "text/x-python",
   "name": "python",
   "nbconvert_exporter": "python",
   "pygments_lexer": "ipython3",
   "version": "3.12.3"
  }
 },
 "nbformat": 4,
 "nbformat_minor": 5
}
