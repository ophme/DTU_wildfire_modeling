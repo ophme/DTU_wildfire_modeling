{
 "cells": [
  {
   "cell_type": "code",
   "execution_count": 1,
   "metadata": {},
   "outputs": [],
   "source": [
    "from datetime import datetime, timedelta\n",
    "import glob\n",
    "import matplotlib.pyplot as plt\n",
    "import numpy as np\n",
    "import os\n",
    "import geopandas as gpd\n",
    "import pandas as pd\n",
    "import xarray as xr\n",
    "import shapely as shp\n",
    "import cartopy.crs as ccrs\n",
    "import cartopy.feature as cfeature\n",
    "import scipy.stats as stats"
   ]
  },
  {
   "cell_type": "markdown",
   "metadata": {},
   "source": [
    "# 1) Get the EFFIS fires for each of the regions"
   ]
  },
  {
   "cell_type": "code",
   "execution_count": 2,
   "metadata": {},
   "outputs": [],
   "source": [
    "# Files from EFFIS\n",
    "mediterrarean_file = r\"O:\\Climate-and-Energy-Policy\\CERM\\Projects\\Wildfire\\Data\\EFFIS\\mediterranean\\EFFIS_BurntAreas_2008-2023_medCountries_greater10ha.shp\"\n",
    "central_europe_file = r\"O:\\Climate-and-Energy-Policy\\CERM\\Projects\\Wildfire\\Data\\ML-data-Central-Europe-gridded\\historical_ignition\\original\\EFFIS_Burned_Areas_2008-2023_greater10ha_original.shp\"\n",
    "north_file = r\"O:\\Climate-and-Energy-Policy\\CERM\\Projects\\Wildfire\\Data\\ML-data-Northern-Europe-gridded\\historical_ignition\\original\\EFFIS_Burned_Areas_2008-2023_greater10ha_original.shp\"\n",
    "\n",
    "# Load the files\n",
    "EFFIS_south  = gpd.read_file(mediterrarean_file)\n",
    "EFFIS_centr = gpd.read_file(central_europe_file)\n",
    "EFFIS_north = gpd.read_file(north_file)\n",
    "\n",
    "#change teh EPSG to make good areas calcu\n",
    "common_crs = \"EPSG:4326\"  # WGS 84\n",
    "EFFIS_south = EFFIS_south.to_crs(common_crs)\n",
    "EFFIS_centr = EFFIS_centr.to_crs(common_crs)\n",
    "EFFIS_north = EFFIS_north.to_crs(common_crs)\n",
    "\n",
    "# creare a column called year and save it together with area_ha\n",
    "EFFIS_south['initialdat'] = pd.to_datetime(EFFIS_south['initialdat'])\n",
    "EFFIS_south['year'] = EFFIS_south['initialdat'].dt.year\n",
    "EFFIS_south = EFFIS_south[(EFFIS_south['year'] >= 2008) & (EFFIS_south['year'] <= 2019)]\n",
    "EFFIS_south = EFFIS_south[['year', 'area_ha']]\n",
    "\n",
    "EFFIS_centr['initialdat'] = pd.to_datetime(EFFIS_centr['initialdat'])\n",
    "EFFIS_centr['year'] = EFFIS_centr['initialdat'].dt.year\n",
    "EFFIS_centr = EFFIS_centr[(EFFIS_centr['year'] >= 2008) & (EFFIS_centr['year'] <= 2019)]\n",
    "EFFIS_centr = EFFIS_centr[['year', 'area_ha']]\n",
    "\n",
    "EFFIS_north['initialdat'] = pd.to_datetime(EFFIS_north['initialdat'])\n",
    "EFFIS_north['year'] = EFFIS_north['initialdat'].dt.year\n",
    "EFFIS_north = EFFIS_north[(EFFIS_north['year'] >= 2008) & (EFFIS_north['year'] <= 2019)]\n",
    "EFFIS_north = EFFIS_north[['year', 'area_ha']]\n"
   ]
  },
  {
   "cell_type": "markdown",
   "metadata": {},
   "source": [
    "# 2) Load the ERA5 ForeFire runs"
   ]
  },
  {
   "cell_type": "code",
   "execution_count": 3,
   "metadata": {},
   "outputs": [],
   "source": [
    "# Files from simulation\n",
    "ForeFire_south_file = r\"O:\\Climate-and-Energy-Policy\\CERM\\Projects\\Wildfire\\IIASA-results\\South\\era5-land_2008-2019\\ForeFireSim_burned_area_era5-land_2008-2019_South.shp\"\n",
    "ForeFire_centr_file = r\"O:\\Climate-and-Energy-Policy\\CERM\\Projects\\Wildfire\\IIASA-results\\Central\\era5-land_2008-2019\\ForeFireSim_burned_area_era5-land_2008-2019_Central.shp\"\n",
    "ForeFire_North_file = r\"O:\\Climate-and-Energy-Policy\\CERM\\Projects\\Wildfire\\IIASA-results\\North\\era5-land_2008-2019\\ForeFireSim_burned_area_era5-land_2008-2019_North.shp\"\n",
    "\n",
    "\n",
    "# Load the files\n",
    "ForeFire_south  = gpd.read_file(ForeFire_south_file)\n",
    "ForeFire_centr = gpd.read_file(ForeFire_centr_file)\n",
    "ForeFire_north = gpd.read_file(ForeFire_North_file)\n",
    "\n",
    "# add year and store year and area_ha\n",
    "ForeFire_south['date'] = pd.to_datetime(ForeFire_south['date'])\n",
    "ForeFire_south['year'] = ForeFire_south['date'].dt.year\n",
    "ForeFire_south = ForeFire_south[['year', 'area_ha']]\n",
    "\n",
    "ForeFire_centr['date'] = pd.to_datetime(ForeFire_centr['date'])\n",
    "ForeFire_centr['year'] = ForeFire_centr['date'].dt.year\n",
    "ForeFire_centr = ForeFire_centr[['year', 'area_ha']]\n",
    "\n",
    "\n",
    "ForeFire_north['date'] = pd.to_datetime(ForeFire_north['date'])\n",
    "ForeFire_north['year'] = ForeFire_north['date'].dt.year\n",
    "ForeFire_north = ForeFire_north[['year', 'area_ha']]"
   ]
  },
  {
   "cell_type": "code",
   "execution_count": 4,
   "metadata": {},
   "outputs": [],
   "source": [
    "# Add source and region labels\n",
    "\n",
    "# FOREFIRE ------------------------------\n",
    "ForeFire_south['source'] = 'ForeFire'\n",
    "ForeFire_south['region'] = 'South'\n",
    "\n",
    "ForeFire_centr['source'] = 'ForeFire'\n",
    "ForeFire_centr['region'] = 'Central'\n",
    "\n",
    "ForeFire_north['source'] = 'ForeFire'\n",
    "ForeFire_north['region'] = 'North'\n",
    "\n",
    "# Combine the dataframes based on the 'source'\n",
    "\n",
    "\n",
    "# EFFIS ------------------------------\n",
    "EFFIS_south['source'] = 'EFFIS'\n",
    "EFFIS_south['region'] = 'South'\n",
    "\n",
    "EFFIS_centr['source'] = 'EFFIS'\n",
    "EFFIS_centr['region'] = 'Central'\n",
    "\n",
    "EFFIS_north['source'] = 'EFFIS'\n",
    "EFFIS_north['region'] = 'North'\n",
    "\n",
    "\n",
    "# Combine all dataframes into one\n",
    "all_fires = pd.concat([ForeFire_south, ForeFire_centr, ForeFire_north, EFFIS_south, EFFIS_centr, EFFIS_north], ignore_index=True) \n"
   ]
  },
  {
   "cell_type": "code",
   "execution_count": 5,
   "metadata": {},
   "outputs": [
    {
     "data": {
      "application/vnd.microsoft.datawrangler.viewer.v0+json": {
       "columns": [
        {
         "name": "index",
         "rawType": "int64",
         "type": "integer"
        },
        {
         "name": "year",
         "rawType": "int32",
         "type": "integer"
        },
        {
         "name": "area_ha",
         "rawType": "float64",
         "type": "float"
        },
        {
         "name": "source",
         "rawType": "object",
         "type": "string"
        },
        {
         "name": "region",
         "rawType": "object",
         "type": "string"
        }
       ],
       "ref": "861befac-8ab7-42a4-974c-b35b9147f8f5",
       "rows": [
        [
         "0",
         "2011",
         "1328.96",
         "ForeFire",
         "South"
        ],
        [
         "1",
         "2017",
         "655.11",
         "ForeFire",
         "South"
        ],
        [
         "2",
         "2011",
         "113.5",
         "ForeFire",
         "South"
        ],
        [
         "3",
         "2011",
         "61.02",
         "ForeFire",
         "South"
        ],
        [
         "4",
         "2013",
         "2.26",
         "ForeFire",
         "South"
        ],
        [
         "5",
         "2016",
         "417.25",
         "ForeFire",
         "South"
        ],
        [
         "6",
         "2011",
         "152.68",
         "ForeFire",
         "South"
        ],
        [
         "7",
         "2008",
         "154.29",
         "ForeFire",
         "South"
        ],
        [
         "8",
         "2013",
         "160.83",
         "ForeFire",
         "South"
        ],
        [
         "9",
         "2011",
         "242.17",
         "ForeFire",
         "South"
        ],
        [
         "10",
         "2012",
         "140.55",
         "ForeFire",
         "South"
        ],
        [
         "11",
         "2017",
         "187.72",
         "ForeFire",
         "South"
        ],
        [
         "12",
         "2012",
         "462.39",
         "ForeFire",
         "South"
        ],
        [
         "13",
         "2009",
         "196.94",
         "ForeFire",
         "South"
        ],
        [
         "14",
         "2012",
         "138.52",
         "ForeFire",
         "South"
        ],
        [
         "15",
         "2011",
         "254.08",
         "ForeFire",
         "South"
        ],
        [
         "16",
         "2012",
         "123.85",
         "ForeFire",
         "South"
        ],
        [
         "17",
         "2015",
         "192.1",
         "ForeFire",
         "South"
        ],
        [
         "18",
         "2009",
         "677.33",
         "ForeFire",
         "South"
        ],
        [
         "19",
         "2019",
         "143.19",
         "ForeFire",
         "South"
        ],
        [
         "20",
         "2015",
         "122.05",
         "ForeFire",
         "South"
        ],
        [
         "21",
         "2017",
         "247.62",
         "ForeFire",
         "South"
        ],
        [
         "22",
         "2012",
         "1858.4",
         "ForeFire",
         "South"
        ],
        [
         "23",
         "2017",
         "1692.34",
         "ForeFire",
         "South"
        ],
        [
         "24",
         "2009",
         "111.54",
         "ForeFire",
         "South"
        ],
        [
         "25",
         "2010",
         "274.71",
         "ForeFire",
         "South"
        ],
        [
         "26",
         "2011",
         "1920.71",
         "ForeFire",
         "South"
        ],
        [
         "27",
         "2011",
         "258.98",
         "ForeFire",
         "South"
        ],
        [
         "28",
         "2011",
         "569.46",
         "ForeFire",
         "South"
        ],
        [
         "29",
         "2015",
         "351.47",
         "ForeFire",
         "South"
        ],
        [
         "30",
         "2013",
         "2.33",
         "ForeFire",
         "South"
        ],
        [
         "31",
         "2010",
         "77.91",
         "ForeFire",
         "South"
        ],
        [
         "32",
         "2016",
         "381.68",
         "ForeFire",
         "South"
        ],
        [
         "33",
         "2015",
         "607.98",
         "ForeFire",
         "South"
        ],
        [
         "34",
         "2009",
         "262.77",
         "ForeFire",
         "South"
        ],
        [
         "35",
         "2019",
         "854.69",
         "ForeFire",
         "South"
        ],
        [
         "36",
         "2012",
         "1004.99",
         "ForeFire",
         "South"
        ],
        [
         "37",
         "2011",
         "1974.08",
         "ForeFire",
         "South"
        ],
        [
         "38",
         "2012",
         "263.23",
         "ForeFire",
         "South"
        ],
        [
         "39",
         "2015",
         "376.0",
         "ForeFire",
         "South"
        ],
        [
         "40",
         "2017",
         "81.08",
         "ForeFire",
         "South"
        ],
        [
         "41",
         "2011",
         "250.56",
         "ForeFire",
         "South"
        ],
        [
         "42",
         "2012",
         "178.6",
         "ForeFire",
         "South"
        ],
        [
         "43",
         "2011",
         "137.54",
         "ForeFire",
         "South"
        ],
        [
         "44",
         "2012",
         "135.23",
         "ForeFire",
         "South"
        ],
        [
         "45",
         "2017",
         "298.47",
         "ForeFire",
         "South"
        ],
        [
         "46",
         "2016",
         "108.51",
         "ForeFire",
         "South"
        ],
        [
         "47",
         "2012",
         "1201.48",
         "ForeFire",
         "South"
        ],
        [
         "48",
         "2009",
         "90.87",
         "ForeFire",
         "South"
        ],
        [
         "49",
         "2013",
         "219.76",
         "ForeFire",
         "South"
        ]
       ],
       "shape": {
        "columns": 4,
        "rows": 8301
       }
      },
      "text/html": [
       "<div>\n",
       "<style scoped>\n",
       "    .dataframe tbody tr th:only-of-type {\n",
       "        vertical-align: middle;\n",
       "    }\n",
       "\n",
       "    .dataframe tbody tr th {\n",
       "        vertical-align: top;\n",
       "    }\n",
       "\n",
       "    .dataframe thead th {\n",
       "        text-align: right;\n",
       "    }\n",
       "</style>\n",
       "<table border=\"1\" class=\"dataframe\">\n",
       "  <thead>\n",
       "    <tr style=\"text-align: right;\">\n",
       "      <th></th>\n",
       "      <th>year</th>\n",
       "      <th>area_ha</th>\n",
       "      <th>source</th>\n",
       "      <th>region</th>\n",
       "    </tr>\n",
       "  </thead>\n",
       "  <tbody>\n",
       "    <tr>\n",
       "      <th>0</th>\n",
       "      <td>2011</td>\n",
       "      <td>1328.96</td>\n",
       "      <td>ForeFire</td>\n",
       "      <td>South</td>\n",
       "    </tr>\n",
       "    <tr>\n",
       "      <th>1</th>\n",
       "      <td>2017</td>\n",
       "      <td>655.11</td>\n",
       "      <td>ForeFire</td>\n",
       "      <td>South</td>\n",
       "    </tr>\n",
       "    <tr>\n",
       "      <th>2</th>\n",
       "      <td>2011</td>\n",
       "      <td>113.50</td>\n",
       "      <td>ForeFire</td>\n",
       "      <td>South</td>\n",
       "    </tr>\n",
       "    <tr>\n",
       "      <th>3</th>\n",
       "      <td>2011</td>\n",
       "      <td>61.02</td>\n",
       "      <td>ForeFire</td>\n",
       "      <td>South</td>\n",
       "    </tr>\n",
       "    <tr>\n",
       "      <th>4</th>\n",
       "      <td>2013</td>\n",
       "      <td>2.26</td>\n",
       "      <td>ForeFire</td>\n",
       "      <td>South</td>\n",
       "    </tr>\n",
       "    <tr>\n",
       "      <th>...</th>\n",
       "      <td>...</td>\n",
       "      <td>...</td>\n",
       "      <td>...</td>\n",
       "      <td>...</td>\n",
       "    </tr>\n",
       "    <tr>\n",
       "      <th>8296</th>\n",
       "      <td>2017</td>\n",
       "      <td>152.95</td>\n",
       "      <td>ForeFire</td>\n",
       "      <td>South</td>\n",
       "    </tr>\n",
       "    <tr>\n",
       "      <th>8297</th>\n",
       "      <td>2016</td>\n",
       "      <td>2.15</td>\n",
       "      <td>ForeFire</td>\n",
       "      <td>South</td>\n",
       "    </tr>\n",
       "    <tr>\n",
       "      <th>8298</th>\n",
       "      <td>2009</td>\n",
       "      <td>570.58</td>\n",
       "      <td>ForeFire</td>\n",
       "      <td>South</td>\n",
       "    </tr>\n",
       "    <tr>\n",
       "      <th>8299</th>\n",
       "      <td>2008</td>\n",
       "      <td>1151.98</td>\n",
       "      <td>ForeFire</td>\n",
       "      <td>South</td>\n",
       "    </tr>\n",
       "    <tr>\n",
       "      <th>8300</th>\n",
       "      <td>2011</td>\n",
       "      <td>1658.64</td>\n",
       "      <td>ForeFire</td>\n",
       "      <td>South</td>\n",
       "    </tr>\n",
       "  </tbody>\n",
       "</table>\n",
       "<p>8301 rows × 4 columns</p>\n",
       "</div>"
      ],
      "text/plain": [
       "      year  area_ha    source region\n",
       "0     2011  1328.96  ForeFire  South\n",
       "1     2017   655.11  ForeFire  South\n",
       "2     2011   113.50  ForeFire  South\n",
       "3     2011    61.02  ForeFire  South\n",
       "4     2013     2.26  ForeFire  South\n",
       "...    ...      ...       ...    ...\n",
       "8296  2017   152.95  ForeFire  South\n",
       "8297  2016     2.15  ForeFire  South\n",
       "8298  2009   570.58  ForeFire  South\n",
       "8299  2008  1151.98  ForeFire  South\n",
       "8300  2011  1658.64  ForeFire  South\n",
       "\n",
       "[8301 rows x 4 columns]"
      ]
     },
     "execution_count": 5,
     "metadata": {},
     "output_type": "execute_result"
    }
   ],
   "source": [
    "ForeFire_south"
   ]
  },
  {
   "cell_type": "markdown",
   "metadata": {},
   "source": [
    "# OVER-ALL EUROPE Plot"
   ]
  },
  {
   "cell_type": "code",
   "execution_count": 6,
   "metadata": {},
   "outputs": [
    {
     "data": {
      "application/vnd.microsoft.datawrangler.viewer.v0+json": {
       "columns": [
        {
         "name": "index",
         "rawType": "int64",
         "type": "integer"
        },
        {
         "name": "year",
         "rawType": "int32",
         "type": "integer"
        },
        {
         "name": "source",
         "rawType": "object",
         "type": "string"
        },
        {
         "name": "area_ha",
         "rawType": "float64",
         "type": "float"
        },
        {
         "name": "area_km2",
         "rawType": "float64",
         "type": "float"
        }
       ],
       "ref": "6ddfb3b6-59f0-445d-8238-5a3ed2a67ad1",
       "rows": [
        [
         "0",
         "2008",
         "EFFIS",
         "119682.0",
         "1196.82"
        ],
        [
         "1",
         "2008",
         "ForeFire",
         "396148.98",
         "3961.4898"
        ],
        [
         "2",
         "2009",
         "EFFIS",
         "282959.0",
         "2829.59"
        ],
        [
         "3",
         "2009",
         "ForeFire",
         "383838.07",
         "3838.3807"
        ],
        [
         "4",
         "2010",
         "EFFIS",
         "205688.0",
         "2056.88"
        ],
        [
         "5",
         "2010",
         "ForeFire",
         "242268.88999999998",
         "2422.6888999999996"
        ],
        [
         "6",
         "2011",
         "EFFIS",
         "361369.0",
         "3613.69"
        ],
        [
         "7",
         "2011",
         "ForeFire",
         "541453.0",
         "5414.53"
        ],
        [
         "8",
         "2012",
         "EFFIS",
         "619571.0",
         "6195.71"
        ],
        [
         "9",
         "2012",
         "ForeFire",
         "781402.47",
         "7814.0247"
        ],
        [
         "10",
         "2013",
         "EFFIS",
         "261404.0",
         "2614.04"
        ],
        [
         "11",
         "2013",
         "ForeFire",
         "444923.86",
         "4449.2386"
        ],
        [
         "12",
         "2014",
         "EFFIS",
         "87169.0",
         "871.69"
        ],
        [
         "13",
         "2014",
         "ForeFire",
         "80411.85",
         "804.1185"
        ],
        [
         "14",
         "2015",
         "EFFIS",
         "185880.0",
         "1858.8"
        ],
        [
         "15",
         "2015",
         "ForeFire",
         "366597.1",
         "3665.9709999999995"
        ],
        [
         "16",
         "2016",
         "EFFIS",
         "343528.0",
         "3435.28"
        ],
        [
         "17",
         "2016",
         "ForeFire",
         "368624.28",
         "3686.2428000000004"
        ],
        [
         "18",
         "2017",
         "EFFIS",
         "1127736.0",
         "11277.36"
        ],
        [
         "19",
         "2017",
         "ForeFire",
         "700014.26",
         "7000.1426"
        ],
        [
         "20",
         "2018",
         "EFFIS",
         "152541.0",
         "1525.41"
        ],
        [
         "21",
         "2018",
         "ForeFire",
         "151199.99",
         "1511.9998999999998"
        ],
        [
         "22",
         "2019",
         "EFFIS",
         "413069.0",
         "4130.69"
        ],
        [
         "23",
         "2019",
         "ForeFire",
         "495259.53",
         "4952.5953"
        ]
       ],
       "shape": {
        "columns": 4,
        "rows": 24
       }
      },
      "text/html": [
       "<div>\n",
       "<style scoped>\n",
       "    .dataframe tbody tr th:only-of-type {\n",
       "        vertical-align: middle;\n",
       "    }\n",
       "\n",
       "    .dataframe tbody tr th {\n",
       "        vertical-align: top;\n",
       "    }\n",
       "\n",
       "    .dataframe thead th {\n",
       "        text-align: right;\n",
       "    }\n",
       "</style>\n",
       "<table border=\"1\" class=\"dataframe\">\n",
       "  <thead>\n",
       "    <tr style=\"text-align: right;\">\n",
       "      <th></th>\n",
       "      <th>year</th>\n",
       "      <th>source</th>\n",
       "      <th>area_ha</th>\n",
       "      <th>area_km2</th>\n",
       "    </tr>\n",
       "  </thead>\n",
       "  <tbody>\n",
       "    <tr>\n",
       "      <th>0</th>\n",
       "      <td>2008</td>\n",
       "      <td>EFFIS</td>\n",
       "      <td>119682.00</td>\n",
       "      <td>1196.8200</td>\n",
       "    </tr>\n",
       "    <tr>\n",
       "      <th>1</th>\n",
       "      <td>2008</td>\n",
       "      <td>ForeFire</td>\n",
       "      <td>396148.98</td>\n",
       "      <td>3961.4898</td>\n",
       "    </tr>\n",
       "    <tr>\n",
       "      <th>2</th>\n",
       "      <td>2009</td>\n",
       "      <td>EFFIS</td>\n",
       "      <td>282959.00</td>\n",
       "      <td>2829.5900</td>\n",
       "    </tr>\n",
       "    <tr>\n",
       "      <th>3</th>\n",
       "      <td>2009</td>\n",
       "      <td>ForeFire</td>\n",
       "      <td>383838.07</td>\n",
       "      <td>3838.3807</td>\n",
       "    </tr>\n",
       "    <tr>\n",
       "      <th>4</th>\n",
       "      <td>2010</td>\n",
       "      <td>EFFIS</td>\n",
       "      <td>205688.00</td>\n",
       "      <td>2056.8800</td>\n",
       "    </tr>\n",
       "    <tr>\n",
       "      <th>5</th>\n",
       "      <td>2010</td>\n",
       "      <td>ForeFire</td>\n",
       "      <td>242268.89</td>\n",
       "      <td>2422.6889</td>\n",
       "    </tr>\n",
       "    <tr>\n",
       "      <th>6</th>\n",
       "      <td>2011</td>\n",
       "      <td>EFFIS</td>\n",
       "      <td>361369.00</td>\n",
       "      <td>3613.6900</td>\n",
       "    </tr>\n",
       "    <tr>\n",
       "      <th>7</th>\n",
       "      <td>2011</td>\n",
       "      <td>ForeFire</td>\n",
       "      <td>541453.00</td>\n",
       "      <td>5414.5300</td>\n",
       "    </tr>\n",
       "    <tr>\n",
       "      <th>8</th>\n",
       "      <td>2012</td>\n",
       "      <td>EFFIS</td>\n",
       "      <td>619571.00</td>\n",
       "      <td>6195.7100</td>\n",
       "    </tr>\n",
       "    <tr>\n",
       "      <th>9</th>\n",
       "      <td>2012</td>\n",
       "      <td>ForeFire</td>\n",
       "      <td>781402.47</td>\n",
       "      <td>7814.0247</td>\n",
       "    </tr>\n",
       "    <tr>\n",
       "      <th>10</th>\n",
       "      <td>2013</td>\n",
       "      <td>EFFIS</td>\n",
       "      <td>261404.00</td>\n",
       "      <td>2614.0400</td>\n",
       "    </tr>\n",
       "    <tr>\n",
       "      <th>11</th>\n",
       "      <td>2013</td>\n",
       "      <td>ForeFire</td>\n",
       "      <td>444923.86</td>\n",
       "      <td>4449.2386</td>\n",
       "    </tr>\n",
       "    <tr>\n",
       "      <th>12</th>\n",
       "      <td>2014</td>\n",
       "      <td>EFFIS</td>\n",
       "      <td>87169.00</td>\n",
       "      <td>871.6900</td>\n",
       "    </tr>\n",
       "    <tr>\n",
       "      <th>13</th>\n",
       "      <td>2014</td>\n",
       "      <td>ForeFire</td>\n",
       "      <td>80411.85</td>\n",
       "      <td>804.1185</td>\n",
       "    </tr>\n",
       "    <tr>\n",
       "      <th>14</th>\n",
       "      <td>2015</td>\n",
       "      <td>EFFIS</td>\n",
       "      <td>185880.00</td>\n",
       "      <td>1858.8000</td>\n",
       "    </tr>\n",
       "    <tr>\n",
       "      <th>15</th>\n",
       "      <td>2015</td>\n",
       "      <td>ForeFire</td>\n",
       "      <td>366597.10</td>\n",
       "      <td>3665.9710</td>\n",
       "    </tr>\n",
       "    <tr>\n",
       "      <th>16</th>\n",
       "      <td>2016</td>\n",
       "      <td>EFFIS</td>\n",
       "      <td>343528.00</td>\n",
       "      <td>3435.2800</td>\n",
       "    </tr>\n",
       "    <tr>\n",
       "      <th>17</th>\n",
       "      <td>2016</td>\n",
       "      <td>ForeFire</td>\n",
       "      <td>368624.28</td>\n",
       "      <td>3686.2428</td>\n",
       "    </tr>\n",
       "    <tr>\n",
       "      <th>18</th>\n",
       "      <td>2017</td>\n",
       "      <td>EFFIS</td>\n",
       "      <td>1127736.00</td>\n",
       "      <td>11277.3600</td>\n",
       "    </tr>\n",
       "    <tr>\n",
       "      <th>19</th>\n",
       "      <td>2017</td>\n",
       "      <td>ForeFire</td>\n",
       "      <td>700014.26</td>\n",
       "      <td>7000.1426</td>\n",
       "    </tr>\n",
       "    <tr>\n",
       "      <th>20</th>\n",
       "      <td>2018</td>\n",
       "      <td>EFFIS</td>\n",
       "      <td>152541.00</td>\n",
       "      <td>1525.4100</td>\n",
       "    </tr>\n",
       "    <tr>\n",
       "      <th>21</th>\n",
       "      <td>2018</td>\n",
       "      <td>ForeFire</td>\n",
       "      <td>151199.99</td>\n",
       "      <td>1511.9999</td>\n",
       "    </tr>\n",
       "    <tr>\n",
       "      <th>22</th>\n",
       "      <td>2019</td>\n",
       "      <td>EFFIS</td>\n",
       "      <td>413069.00</td>\n",
       "      <td>4130.6900</td>\n",
       "    </tr>\n",
       "    <tr>\n",
       "      <th>23</th>\n",
       "      <td>2019</td>\n",
       "      <td>ForeFire</td>\n",
       "      <td>495259.53</td>\n",
       "      <td>4952.5953</td>\n",
       "    </tr>\n",
       "  </tbody>\n",
       "</table>\n",
       "</div>"
      ],
      "text/plain": [
       "    year    source     area_ha    area_km2\n",
       "0   2008     EFFIS   119682.00   1196.8200\n",
       "1   2008  ForeFire   396148.98   3961.4898\n",
       "2   2009     EFFIS   282959.00   2829.5900\n",
       "3   2009  ForeFire   383838.07   3838.3807\n",
       "4   2010     EFFIS   205688.00   2056.8800\n",
       "5   2010  ForeFire   242268.89   2422.6889\n",
       "6   2011     EFFIS   361369.00   3613.6900\n",
       "7   2011  ForeFire   541453.00   5414.5300\n",
       "8   2012     EFFIS   619571.00   6195.7100\n",
       "9   2012  ForeFire   781402.47   7814.0247\n",
       "10  2013     EFFIS   261404.00   2614.0400\n",
       "11  2013  ForeFire   444923.86   4449.2386\n",
       "12  2014     EFFIS    87169.00    871.6900\n",
       "13  2014  ForeFire    80411.85    804.1185\n",
       "14  2015     EFFIS   185880.00   1858.8000\n",
       "15  2015  ForeFire   366597.10   3665.9710\n",
       "16  2016     EFFIS   343528.00   3435.2800\n",
       "17  2016  ForeFire   368624.28   3686.2428\n",
       "18  2017     EFFIS  1127736.00  11277.3600\n",
       "19  2017  ForeFire   700014.26   7000.1426\n",
       "20  2018     EFFIS   152541.00   1525.4100\n",
       "21  2018  ForeFire   151199.99   1511.9999\n",
       "22  2019     EFFIS   413069.00   4130.6900\n",
       "23  2019  ForeFire   495259.53   4952.5953"
      ]
     },
     "execution_count": 6,
     "metadata": {},
     "output_type": "execute_result"
    }
   ],
   "source": [
    "# Sum the burned area for each year and source\n",
    "burned_area = all_fires.groupby(['year', 'source'])['area_ha'].sum().reset_index()\n",
    "burned_area['area_km2'] = burned_area['area_ha'] / 100  # Convert to km²\n",
    "burned_area"
   ]
  },
  {
   "cell_type": "code",
   "execution_count": 31,
   "metadata": {},
   "outputs": [
    {
     "data": {
      "image/png": "[encoded data removed]",
      "text/plain": [
       "<Figure size 1000x400 with 1 Axes>"
      ]
     },
     "metadata": {},
     "output_type": "display_data"
    }
   ],
   "source": [
    "total_EFFIS = burned_area[burned_area['source'] == 'EFFIS']\n",
    "total_ForeFire = burned_area[burned_area['source'] == 'ForeFire']\n",
    "years = np.sort(total_EFFIS['year'].unique())\n",
    "\n",
    "# Create a bar plot\n",
    "fig, ax = plt.subplots(figsize=(10, 4))\n",
    "\n",
    "\n",
    "#line plot to see the trend\n",
    "ax.plot(total_ForeFire['year'], total_ForeFire['area_km2'], color='#A31D1D', marker='o', linestyle='-', linewidth=2, markersize=5, label='ForeFire Trend')\n",
    "ax.plot(total_EFFIS['year'], total_EFFIS['area_km2'], color='#FDAB9E', marker='o', linestyle='-', linewidth=2, markersize=5, label='EFFIS Trend')\n",
    "\n",
    "\n",
    "# Set labels and title\n",
    "ax.set_xlabel('Year', fontsize=12)\n",
    "ax.set_ylabel('Burned Area (km²)', fontsize=12)\n",
    "ax.set_title('Total Burned Area by Year and Source (2008-2019)', fontsize=14)\n",
    "ax.set_xticks(years)\n",
    "ax.set_xticklabels(years, rotation=0)\n",
    "ax.legend(loc='upper left', fontsize=11)\n",
    "# Show grid\n",
    "ax.grid(axis='y', alpha=0.7)\n",
    "# Adjust layout\n",
    "# plt.tight_layout()\n",
    "plt.show()\n"
   ]
  },
  {
   "cell_type": "code",
   "execution_count": 8,
   "metadata": {},
   "outputs": [],
   "source": [
    "burned_area_region = all_fires.groupby(['year', 'source', 'region'])['area_ha'].sum().reset_index()\n",
    "burned_area_region['area_km2'] = burned_area_region['area_ha'] / 100  # Convert to km²\n",
    "\n",
    "\n",
    "south = burned_area_region[burned_area_region['region'] == 'South']\n",
    "central = burned_area_region[burned_area_region['region'] == 'Central']\n",
    "north = burned_area_region[burned_area_region['region'] == 'North']"
   ]
  },
  {
   "cell_type": "markdown",
   "metadata": {},
   "source": [
    "# NORTH"
   ]
  },
  {
   "cell_type": "code",
   "execution_count": 9,
   "metadata": {},
   "outputs": [],
   "source": [
    "# Select the data for the regions source\n",
    "north_EFFIS = north[north['source'] == 'EFFIS']\n",
    "north_ForeFire = north[north['source'] == 'ForeFire']\n"
   ]
  },
  {
   "cell_type": "code",
   "execution_count": 10,
   "metadata": {},
   "outputs": [],
   "source": [
    "# Group by year and sum area\n",
    "north_ForeFire_yearly = north_ForeFire.groupby('year')['area_ha'].sum().reset_index()\n",
    "north_ForeFire_yearly['area_km2'] = north_ForeFire_yearly['area_ha'] / 100\n",
    "\n",
    "# Define full year range\n",
    "full_years = pd.DataFrame({'year': range(2008, 2020)})\n",
    "\n",
    "# Merge to fill missing years with 0\n",
    "north_ForeFire_complete = pd.merge(full_years, north_ForeFire_yearly, on='year', how='left')\n",
    "north_ForeFire_complete['area_ha'] = north_ForeFire_complete['area_ha'].fillna(0)\n",
    "north_ForeFire_complete['area_km2'] = north_ForeFire_complete['area_km2'].fillna(0)\n",
    "\n",
    "# Add source and region info\n",
    "north_ForeFire_complete['source'] = 'ForeFire'\n",
    "north_ForeFire_complete['region'] = 'North'"
   ]
  },
  {
   "cell_type": "code",
   "execution_count": null,
   "metadata": {},
   "outputs": [
    {
     "data": {
      "image/png": "[encoded data removed]",
      "text/plain": [
       "<Figure size 700x300 with 1 Axes>"
      ]
     },
     "metadata": {},
     "output_type": "display_data"
    }
   ],
   "source": [
    "# Create a bar plot\n",
    "fig, ax = plt.subplots(figsize=(7, 3))\n",
    "\n",
    "\n",
    "#line plot to see the trend\n",
    "ax.plot(north_ForeFire_complete['year'], north_ForeFire_complete['area_km2'], color='#2D4F2B', marker='o', linestyle='-', linewidth=2, markersize=5, label='ForeFire Trend')\n",
    "ax.plot(north_EFFIS['year'], north_EFFIS['area_km2'], color='#B0DB9C', marker='o', linestyle='-', linewidth=2, markersize=5, label='EFFIS Trend')\n",
    "\n",
    "\n",
    "# Set labels and title\n",
    "ax.set_xlabel('Year')\n",
    "ax.set_ylabel('Burned Area (km²)')\n",
    "ax.set_title('Total Burned Area North (2008-2019)')\n",
    "ax.set_xticks(years)\n",
    "ax.set_xticklabels(years, rotation=0)\n",
    "ax.legend(loc='upper left')\n",
    "# Show grid\n",
    "ax.grid(axis='y', alpha=0.7)\n",
    "# Adjust layout\n",
    "# plt.tight_layout()\n",
    "plt.show()\n"
   ]
  },
  {
   "cell_type": "markdown",
   "metadata": {},
   "source": [
    "# Central"
   ]
  },
  {
   "cell_type": "code",
   "execution_count": 12,
   "metadata": {},
   "outputs": [
    {
     "data": {
      "image/png": "[encoded data removed]",
      "text/plain": [
       "<Figure size 700x300 with 1 Axes>"
      ]
     },
     "metadata": {},
     "output_type": "display_data"
    }
   ],
   "source": [
    "# Select the data for the regions source\n",
    "central_EFFIS = central[central['source'] == 'EFFIS']\n",
    "central_ForeFire = central[central['source'] == 'ForeFire']\n",
    "\n",
    "\n",
    "# Create a bar plot\n",
    "fig, ax = plt.subplots(figsize=(7, 3))\n",
    "\n",
    "\n",
    "#line plot to see the trend\n",
    "ax.plot(central_ForeFire['year'], central_ForeFire['area_km2'], color='#FADA7A', marker='o', linestyle='-', linewidth=2, markersize=5, label='ForeFire Trend')\n",
    "ax.plot(central_EFFIS['year'], central_EFFIS['area_km2'], color='#E9A319', marker='o', linestyle='-', linewidth=2, markersize=5, label='EFFIS Trend')\n",
    "\n",
    "\n",
    "# Set labels and title\n",
    "ax.set_xlabel('Year')\n",
    "ax.set_ylabel('Burned Area (km²)')\n",
    "ax.set_title('Total Burned Area Central (2008-2019)')\n",
    "ax.set_xticks(years)\n",
    "ax.set_xticklabels(years, rotation=0)\n",
    "ax.legend(loc='upper left')\n",
    "# Show grid\n",
    "ax.grid(axis='y', alpha=0.7)\n",
    "# Adjust layout\n",
    "# plt.tight_layout()\n",
    "plt.show()\n"
   ]
  },
  {
   "cell_type": "markdown",
   "metadata": {},
   "source": [
    "# South"
   ]
  },
  {
   "cell_type": "code",
   "execution_count": 13,
   "metadata": {},
   "outputs": [
    {
     "data": {
      "image/png": "[encoded data removed]",
      "text/plain": [
       "<Figure size 700x300 with 1 Axes>"
      ]
     },
     "metadata": {},
     "output_type": "display_data"
    }
   ],
   "source": [
    "# Select the data for the regions source\n",
    "south_EFFIS = south[south['source'] == 'EFFIS']\n",
    "south_ForeFire = south[south['source'] == 'ForeFire']\n",
    "\n",
    "\n",
    "# Create a bar plot\n",
    "fig, ax = plt.subplots(figsize=(7, 3))\n",
    "\n",
    "\n",
    "#line plot to see the trend\n",
    "ax.plot(south_ForeFire['year'], south_ForeFire['area_km2'], color='#493D9E', marker='o', linestyle='-', linewidth=2, markersize=5, label='ForeFire Trend')\n",
    "ax.plot(south_EFFIS['year'], south_EFFIS['area_km2'], color='#B2A5FF', marker='o', linestyle='-', linewidth=2, markersize=5, label='EFFIS Trend')\n",
    "\n",
    "\n",
    "# Set labels and title\n",
    "ax.set_xlabel('Year')\n",
    "ax.set_ylabel('Burned Area (km²)')\n",
    "ax.set_title('Total Burned Area South (2008-2019)')\n",
    "ax.set_xticks(years)\n",
    "ax.set_xticklabels(years, rotation=0)\n",
    "ax.legend(loc='upper left')\n",
    "# Show grid\n",
    "ax.grid(axis='y', alpha=0.7)\n",
    "# Adjust layout\n",
    "# plt.tight_layout()\n",
    "plt.show()\n"
   ]
  }
 ],
 "metadata": {
  "kernelspec": {
   "display_name": "base",
   "language": "python",
   "name": "python3"
  },
  "language_info": {
   "codemirror_mode": {
    "name": "ipython",
    "version": 3
   },
   "file_extension": ".py",
   "mimetype": "text/x-python",
   "name": "python",
   "nbconvert_exporter": "python",
   "pygments_lexer": "ipython3",
   "version": "3.12.3"
  }
 },
 "nbformat": 4,
 "nbformat_minor": 2
}
