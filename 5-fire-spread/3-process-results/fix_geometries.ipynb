{
 "cells": [
  {
   "cell_type": "code",
   "execution_count": 52,
   "id": "8e0ee4c0",
   "metadata": {},
   "outputs": [],
   "source": [
    "import os\n",
    "import geopandas as gpd\n",
    "import json\n",
    "from datetime import datetime, timedelta\n",
    "import posixpath as path\n",
    "import pandas as pd\n",
    "\n",
    "\n"
   ]
  },
  {
   "cell_type": "code",
   "execution_count": 59,
   "id": "0f1d4b4e",
   "metadata": {},
   "outputs": [
    {
     "name": "stdout",
     "output_type": "stream",
     "text": [
      "/home/jsoma/results/central/ssp2_2021-2040\n"
     ]
    }
   ],
   "source": [
    "# Define parameters\n",
    "region = 'central'  # options: 'north', 'central', 'mediterranean'\n",
    "ens = 'ssp2'              # options: 'historical', 'era5-land', 'ssp1', 'ssp3', 'ssp2'\n",
    "years = '2021-2040'       # options: '1991-2010', '2021-2040', '2041-2060', '2061-2080', '2081-2100'\n",
    "\n",
    "# Build file path\n",
    "results_dir = path.join('/home/jsoma/results', region, f'{ens}_{years}')\n",
    "print(results_dir)\n",
    "name = f'Simulated_Burned_Area_{ens}_{years}.shp'\n",
    "file_path = path.join(results_dir, f'Simulated_Burned_Area_{ens}_{years}.shp')\n",
    "\n",
    "# Load file\n",
    "gdf = gpd.read_file(file_path)\n",
    "\n",
    "# Fix invalid geometries\n",
    "gdf['geometry'] = gdf['geometry'].buffer(0)\n",
    "\n",
    "# Set CRS to EPSG:3035 if not already set\n",
    "if gdf.crs is None or gdf.crs.to_epsg() != 3035:\n",
    "    gdf = gdf.set_crs('EPSG:3035', allow_override=True)\n",
    "\n",
    "# Calculate area in hectares\n",
    "gdf['area_ha'] = gdf.geometry.area / 10000  # 1 ha = 10,000 m²\n",
    "\n",
    "if years == '2021-2040':\n",
    "\n",
    "    # Convert 'date' from string to datetime\n",
    "    gdf['date'] = pd.to_datetime(gdf['date'])\n",
    "\n",
    "    # Add 30 years to the date\n",
    "    gdf['date'] = gdf['date'] + pd.DateOffset(years=30)\n",
    "    gdf['date'] = gdf['date'].dt.strftime('%Y-%m-%d')\n",
    "\n",
    "# save teh file \n",
    "save_dir =  '/home/jsoma/IIASA-Resuls'\n",
    "\n",
    "ens_save = ens + '_' + years\n",
    "if region == 'mediterranean':\n",
    "    region = 'South'\n",
    "    save_dir = os.path.join(save_dir, 'South',ens_save)\n",
    "elif region == 'central':\n",
    "    region = 'Central'\n",
    "    save_dir = os.path.join(save_dir, region, ens_save)\n",
    "elif region == 'north':\n",
    "    region = 'North'\n",
    "    save_dir = os.path.join(save_dir, region, ens_save)\n",
    "\n",
    "if not os.path.exists(save_dir):\n",
    "    os.makedirs(save_dir)\n",
    "\n",
    "save_name =f\"ForeFireSim_burned_area_{ens}_{years}_{region}.shp\"\n",
    "save_path = os.path.join(save_dir, save_name)\n",
    "gdf.to_file(save_path, driver='ESRI Shapefile')\n",
    "\n"
   ]
  }
 ],
 "metadata": {
  "kernelspec": {
   "display_name": "wildfire_env",
   "language": "python",
   "name": "python3"
  },
  "language_info": {
   "codemirror_mode": {
    "name": "ipython",
    "version": 3
   },
   "file_extension": ".py",
   "mimetype": "text/x-python",
   "name": "python",
   "nbconvert_exporter": "python",
   "pygments_lexer": "ipython3",
   "version": "3.12.9"
  }
 },
 "nbformat": 4,
 "nbformat_minor": 5
}
